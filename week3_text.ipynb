{
 "cells": [
  {
   "cell_type": "code",
   "execution_count": 4,
   "id": "79a25cf4",
   "metadata": {},
   "outputs": [
    {
     "name": "stdout",
     "output_type": "stream",
     "text": [
      "Two roads diverged in a yellow wood,\n",
      "And sorry I could not travel both\n",
      "And be one traveler, long I stood\n",
      "And looked down one as far as I could\n",
      "To where it bent in the undergrowth;\n",
      "\n",
      "Then took the other, as just as fair,\n",
      "And having perhaps the better claim,\n",
      "Because it was grassy and wanted wear;\n",
      "Though as for that the passing there\n",
      "Had worn them really about the same,\n",
      "\n",
      "And both that morning equally lay\n",
      "In leaves no step had trodden black.\n",
      "Oh, I kept the first for another day!\n",
      "Yet knowing how way leads on to way,\n",
      "I doubted if I should ever come back.\n",
      "\n",
      "I shall be telling this with a sigh\n",
      "Somewhere ages and ages hence:\n",
      "Two roads diverged in a wood, and I---\n",
      "I took the one less travelled by,\n",
      "And that has made all the difference.\n",
      "\n"
     ]
    }
   ],
   "source": [
    "text = open(\"frost.txt\", \"r\").read()\n",
    "print(text)"
   ]
  },
  {
   "cell_type": "code",
   "execution_count": 6,
   "id": "f89dbfd2",
   "metadata": {},
   "outputs": [
    {
     "name": "stdout",
     "output_type": "stream",
     "text": [
      "['Two', 'roads', 'diverged', 'in', 'a', 'yellow', 'wood,\\nAnd', 'sorry', 'I', 'could', 'not', 'travel', 'both\\nAnd', 'be', 'one', 'traveler,', 'long', 'I', 'stood\\nAnd', 'looked', 'down', 'one', 'as', 'far', 'as', 'I', 'could\\nTo', 'where', 'it', 'bent', 'in', 'the', 'undergrowth;\\n\\nThen', 'took', 'the', 'other,', 'as', 'just', 'as', 'fair,\\nAnd', 'having', 'perhaps', 'the', 'better', 'claim,\\nBecause', 'it', 'was', 'grassy', 'and', 'wanted', 'wear;\\nThough', 'as', 'for', 'that', 'the', 'passing', 'there\\nHad', 'worn', 'them', 'really', 'about', 'the', 'same,\\n\\nAnd', 'both', 'that', 'morning', 'equally', 'lay\\nIn', 'leaves', 'no', 'step', 'had', 'trodden', 'black.\\nOh,', 'I', 'kept', 'the', 'first', 'for', 'another', 'day!\\nYet', 'knowing', 'how', 'way', 'leads', 'on', 'to', 'way,\\nI', 'doubted', 'if', 'I', 'should', 'ever', 'come', 'back.\\n\\nI', 'shall', 'be', 'telling', 'this', 'with', 'a', 'sigh\\nSomewhere', 'ages', 'and', 'ages', 'hence:\\nTwo', 'roads', 'diverged', 'in', 'a', 'wood,', 'and', 'I---\\nI', 'took', 'the', 'one', 'less', 'travelled', 'by,\\nAnd', 'that', 'has', 'made', 'all', 'the', 'difference.\\n']\n"
     ]
    }
   ],
   "source": [
    "for c in text:\n",
    "    words = text.split(' ')\n",
    "print(words)"
   ]
  },
  {
   "cell_type": "code",
   "execution_count": 7,
   "id": "e945302c",
   "metadata": {},
   "outputs": [
    {
     "name": "stdout",
     "output_type": "stream",
     "text": [
      "  % Total    % Received % Xferd  Average Speed   Time    Time     Time  Current\n",
      "                                 Dload  Upload   Total   Spent    Left  Speed\n",
      "100 1808k  100 1808k    0     0  3053k      0 --:--:-- --:--:-- --:--:-- 2793k-:-- --:--:-- --:--:-- 3054k\n"
     ]
    }
   ],
   "source": [
    "!curl -L -O https://www.unicode.org/Public/13.0.0/ucd/UnicodeData.txt"
   ]
  },
  {
   "cell_type": "code",
   "execution_count": 7,
   "id": "62487e29",
   "metadata": {},
   "outputs": [],
   "source": [
    "unicode = []\n",
    "for line in open(\"UnicodeData.txt\"):\n",
    "    line = line.strip()\n",
    "    fields = line.split(';')\n",
    "    row = {\n",
    "        'char': chr(int(fields[0], 16)),\n",
    "        'name': fields[1],\n",
    "        'category': fields[2]\n",
    "    }\n",
    "    unicode.append(row)"
   ]
  },
  {
   "cell_type": "code",
   "execution_count": 8,
   "id": "4df0b7bf",
   "metadata": {},
   "outputs": [
    {
     "data": {
      "text/plain": [
       "[{'char': '☙',\n",
       "  'name': 'REVERSED ROTATED FLORAL HEART BULLET',\n",
       "  'category': 'So'},\n",
       " {'char': '♡', 'name': 'WHITE HEART SUIT', 'category': 'So'},\n",
       " {'char': '♥', 'name': 'BLACK HEART SUIT', 'category': 'So'},\n",
       " {'char': '❣',\n",
       "  'name': 'HEAVY HEART EXCLAMATION MARK ORNAMENT',\n",
       "  'category': 'So'},\n",
       " {'char': '❤', 'name': 'HEAVY BLACK HEART', 'category': 'So'},\n",
       " {'char': '❥', 'name': 'ROTATED HEAVY BLACK HEART BULLET', 'category': 'So'},\n",
       " {'char': '❦', 'name': 'FLORAL HEART', 'category': 'So'},\n",
       " {'char': '❧', 'name': 'ROTATED FLORAL HEART BULLET', 'category': 'So'},\n",
       " {'char': '⺖', 'name': 'CJK RADICAL HEART ONE', 'category': 'So'},\n",
       " {'char': '⺗', 'name': 'CJK RADICAL HEART TWO', 'category': 'So'},\n",
       " {'char': '⼼', 'name': 'KANGXI RADICAL HEART', 'category': 'So'},\n",
       " {'char': '🂱', 'name': 'PLAYING CARD ACE OF HEARTS', 'category': 'So'},\n",
       " {'char': '🂲', 'name': 'PLAYING CARD TWO OF HEARTS', 'category': 'So'},\n",
       " {'char': '🂳', 'name': 'PLAYING CARD THREE OF HEARTS', 'category': 'So'},\n",
       " {'char': '🂴', 'name': 'PLAYING CARD FOUR OF HEARTS', 'category': 'So'},\n",
       " {'char': '🂵', 'name': 'PLAYING CARD FIVE OF HEARTS', 'category': 'So'},\n",
       " {'char': '🂶', 'name': 'PLAYING CARD SIX OF HEARTS', 'category': 'So'},\n",
       " {'char': '🂷', 'name': 'PLAYING CARD SEVEN OF HEARTS', 'category': 'So'},\n",
       " {'char': '🂸', 'name': 'PLAYING CARD EIGHT OF HEARTS', 'category': 'So'},\n",
       " {'char': '🂹', 'name': 'PLAYING CARD NINE OF HEARTS', 'category': 'So'},\n",
       " {'char': '🂺', 'name': 'PLAYING CARD TEN OF HEARTS', 'category': 'So'},\n",
       " {'char': '🂻', 'name': 'PLAYING CARD JACK OF HEARTS', 'category': 'So'},\n",
       " {'char': '🂼', 'name': 'PLAYING CARD KNIGHT OF HEARTS', 'category': 'So'},\n",
       " {'char': '🂽', 'name': 'PLAYING CARD QUEEN OF HEARTS', 'category': 'So'},\n",
       " {'char': '🂾', 'name': 'PLAYING CARD KING OF HEARTS', 'category': 'So'},\n",
       " {'char': '🎔', 'name': 'HEART WITH TIP ON THE LEFT', 'category': 'So'},\n",
       " {'char': '💑', 'name': 'COUPLE WITH HEART', 'category': 'So'},\n",
       " {'char': '💓', 'name': 'BEATING HEART', 'category': 'So'},\n",
       " {'char': '💔', 'name': 'BROKEN HEART', 'category': 'So'},\n",
       " {'char': '💕', 'name': 'TWO HEARTS', 'category': 'So'},\n",
       " {'char': '💖', 'name': 'SPARKLING HEART', 'category': 'So'},\n",
       " {'char': '💗', 'name': 'GROWING HEART', 'category': 'So'},\n",
       " {'char': '💘', 'name': 'HEART WITH ARROW', 'category': 'So'},\n",
       " {'char': '💙', 'name': 'BLUE HEART', 'category': 'So'},\n",
       " {'char': '💚', 'name': 'GREEN HEART', 'category': 'So'},\n",
       " {'char': '💛', 'name': 'YELLOW HEART', 'category': 'So'},\n",
       " {'char': '💜', 'name': 'PURPLE HEART', 'category': 'So'},\n",
       " {'char': '💝', 'name': 'HEART WITH RIBBON', 'category': 'So'},\n",
       " {'char': '💞', 'name': 'REVOLVING HEARTS', 'category': 'So'},\n",
       " {'char': '💟', 'name': 'HEART DECORATION', 'category': 'So'},\n",
       " {'char': '🖤', 'name': 'BLACK HEART', 'category': 'So'},\n",
       " {'char': '😍',\n",
       "  'name': 'SMILING FACE WITH HEART-SHAPED EYES',\n",
       "  'category': 'So'},\n",
       " {'char': '😻',\n",
       "  'name': 'SMILING CAT FACE WITH HEART-SHAPED EYES',\n",
       "  'category': 'So'},\n",
       " {'char': '🤍', 'name': 'WHITE HEART', 'category': 'So'},\n",
       " {'char': '🤎', 'name': 'BROWN HEART', 'category': 'So'},\n",
       " {'char': '🥰',\n",
       "  'name': 'SMILING FACE WITH SMILING EYES AND THREE HEARTS',\n",
       "  'category': 'So'},\n",
       " {'char': '🧡', 'name': 'ORANGE HEART', 'category': 'So'},\n",
       " {'char': '🫀', 'name': 'ANATOMICAL HEART', 'category': 'So'}]"
      ]
     },
     "execution_count": 8,
     "metadata": {},
     "output_type": "execute_result"
    }
   ],
   "source": [
    "hearts = [row for row in unicode if 'HEART' in row ['name']]\n",
    "hearts"
   ]
  },
  {
   "cell_type": "code",
   "execution_count": 10,
   "id": "359099d8",
   "metadata": {},
   "outputs": [
    {
     "ename": "SyntaxError",
     "evalue": "invalid syntax (105974980.py, line 1)",
     "output_type": "error",
     "traceback": [
      "\u001b[0;36m  File \u001b[0;32m\"/var/folders/j6/1y5p6vrj70335nkwqflp5snm0000gn/T/ipykernel_25676/105974980.py\"\u001b[0;36m, line \u001b[0;32m1\u001b[0m\n\u001b[0;31m    hearts = hears.remove() if 'CARD' in row ['name']\u001b[0m\n\u001b[0m                                                     ^\u001b[0m\n\u001b[0;31mSyntaxError\u001b[0m\u001b[0;31m:\u001b[0m invalid syntax\n"
     ]
    }
   ],
   "source": [
    "hearts = hears.remove() if 'CARD' in row ['name']"
   ]
  },
  {
   "cell_type": "code",
   "execution_count": 36,
   "id": "f5221eb4",
   "metadata": {},
   "outputs": [
    {
     "name": "stdout",
     "output_type": "stream",
     "text": [
      "🂹⺗💟🂽💙💛🧡💖🤍💕🂼❥⼼🤎💔🂺🂲🂾💜🎔❣🂳🂷🂴\n",
      "💝🂼😻🂷🂲♡🂺🂱⺖💟🥰⺗🂾💕🤎🂶🎔🂸💛🂽❧♥🖤💞\n",
      "❥💝🂳☙💚♡🂵🂻💖😻💘🖤💕❣🂽⺗⺖💜🂹🂷🤎🂼💟🂲\n",
      "🂹🧡💓🂱🂴💔🂳🥰😻🂸🂷🤎☙🎔🫀💗❦♥🂲💖🂺💞💘🂵\n",
      "💔🫀🂺🂻⼼💖💗❦🂼🂴🤍🂶💝🂲🂸❥❤🂹🂷💘💑💚😍🤎\n",
      "💟💚🖤🎔🂱🤎💛🂺🂾❦💓❧💑😍💞😻💖💕💙🧡🂽🂹🂳💘\n",
      "💙🂽💗❧🂾♡♥💕🂲💖💔🂹❤🂸⺖💜💟💞💓💝🫀❦❥⺗\n",
      "🂶♡💘❥⼼🤎🂴🫀🖤😍💔🂻💛🂽💗💞😻❦🂺🂾💖🧡🂳💝\n",
      "♥💜🫀💔❣❦⼼💙🂼💓☙🎔🂸❤⺗💖🂽🂴♡🂳⺖😍🧡🤍\n",
      "🂷💛🂹❤⺗😻💕💟🎔🤍🂻💙🤎❦🥰💔💝💖🫀🂾💜💗❧🂱\n",
      "❦🂼💔🂺🧡💜🂾❣🂶🥰🤍🂹💛⼼😍⺖💙❥💗🎔💑💓🂷☙\n",
      "🫀⼼🂳☙💛🂶🂱❦🂵🤎❥💑🂲💜💞💙♥🂸🂷♡❤🂽🎔😍\n",
      "😍❧🫀🂲⺗💔🂷🂹🂺🂶💕🂵☙😻💛🂴💙🎔💜❣🤎⺖♡🂾\n",
      "🂹🂵☙🂸🂳💔💝🂻🂷😍♥💟💙💗🧡💘🂲🂾🥰⺖⼼💑🂶🂱\n",
      "🂸🂵💜☙🎔🤎⼼💝🂽🂷🂹💔💓⺗😍❤⺖❥🂶🂺🂾❦💞💖\n",
      "🂱💘💙🂲🂺😍🧡⼼❧🂼❤🎔♥💓🖤♡🂸☙💞💔⺗🂷🫀🂴\n",
      "🂶💗🂼🂾🤎⺖💚♥🫀🂻🥰🤍😍❦💕❧🂷💔💛💝💞🎔💑🂸\n",
      "💝💑❤⼼🂳🂽💓⺗♥💗🂻😻🂴🂲🂺💔💙🎔💖💛🥰🂶💕💜\n",
      "🎔🂵❥🂹🂾❧⺖💑💕♥❦⼼💔🂲🥰🂴💟🂻🤎☙💗💘💛🂽\n",
      "🂾🫀🂸💙❣💓🧡💘💑🂼💟💝❦🂷💚🎔⼼💛☙💕🂹💗🥰🂴\n",
      "🂽🂳🖤⺖🂵⺗🂹❥💑🂺🫀🂸🧡🂴🎔💞💚♥🂼💖☙💕⼼❤\n",
      "⺖💑🥰🂳💘🤍🎔😻🫀😍⼼🂹♥🂺🤎💔🂻⺗🂸🂵🂾🧡❥🂴\n",
      "💟💔🂻⺖💞💖😻🂾🂱🥰💑❧🂶😍🂵♥🂽💝🂳♡🂹🫀🂲🂼\n",
      "♥🂱🂼💔🂾💗💖💘🫀😍☙💝🂲💟🂻💚🂵🂽🧡💓❧🤍💞🎔\n",
      "🂶🥰💘🫀❦🂸🂾🂺🂽🂱⼼💓❣💙🤎♡🂵🤍🎔❥💜💞🂴⺗\n",
      "🂲💑💛💗🧡♡🂹💞💘🥰🂾💝🂱🤎⼼❣🂴💜🂷💔♥🂼💚🤍\n",
      "♡🂱⼼🂵❣🖤🤍🂸💚🤎💖❥🂾😻💙🂹💗🂷❤🂼♥💕🂶☙\n",
      "🂴⼼♥🥰❥🂱😻😍💖🂳🤎♡🂽☙💛💚💞💕🧡🂷🂼💜🫀💙\n",
      "🂱💚🧡💞🂻⼼⺗🂽🥰🂷❦🂺💕💑❧💗🂼🂳❥♡😻🂶🂹🎔\n",
      "⺗🂸💚💔❤😻🫀🂹💛🧡♡💜🤍💘💞⺖❣🂾💓🖤⼼🂺😍❧\n",
      "💗🂶⼼🖤💕🂲💟♡🤍💝🂸❦🂽🧡🂾♥🤎😻⺖🫀🂴💛🂳🂷\n",
      "♥🂼💑😻🧡😍⼼💝⺗💞🫀💛🥰💚🂹💘❥🂽🂵💖🖤💗❣💙\n",
      "💛💜💚🂾💟❤☙🥰💔🂷❧❦🂳💕🂶💑💞⺗💖❣🎔😍🂱🤍\n",
      "🂺❣💔🤎💘💜🧡💙⼼🫀🂲💛🂹🂾🂳💑❦⺗🂷🖤🂻🂶😍🂴\n",
      "🧡❣💗😻⺗🫀💝💔🂲♥💞❤🂷🂺🂳🖤🂵💕💚🂴💛🂹🂸❧\n",
      "🫀❣💑💝😻♡💗💙💜⺖🂽💛🂸🂳🂼🂺🥰☙🂻🤍💞🂴❥💓\n",
      "❤🂱🖤💑🂺🂻💓🧡🂵💘♡💖😻🂸🂳🂼🤍💕💜💞🤎💙🫀⺖\n",
      "💗🤍🎔💓💚❣🂴🂽🥰⺗🂹🂷💜❥💝🂾💔❧🂵❦⺖⼼♡🂶\n",
      "❧🎔🤎💕🂷🂽💑😍🂳❤💚🂺⼼💙♥⺖🂵🂻💔⺗💜😻🤍🂶\n",
      "🖤🥰⼼🂸🂺🎔🫀🧡❥⺖💖💗♡💕🂻💓🂾❧💑💛💜🂳♥💔\n",
      "♡🧡⼼🤎⺗💔🂵❤☙💓❧🂽💗😻🂺🤍🂶💝❣💚🂱⺖🎔🂻\n",
      "🂳🂲🂶🂽💟❥💗🤍♡♥💖💜⼼⺗❣💞💕💙❧🂹🫀⺖😻💓\n",
      "🧡💚🂶🂸🤍🂺🂹💑💜💛🂽♥❧☙💔💞😍⺖🫀🂴🂱♡🎔❤\n",
      "🂺🂱💝🂾💑🂻💞😍🖤💘💜💙💚💕🤎☙🂽🥰🂲😻🂵💔🂷🂹\n",
      "🂽🤍😻🂸🂶🂱♥🂵🤎💗🥰⺗🂻💛💞🂹❣🖤💝💚❦❤🎔❧\n",
      "🎔💖💟⼼💚🂶❦🖤🥰😻🫀🂷😍❧🂸💜💔🂼🂵☙🂽💑🂻⺗\n",
      "💟💗🂹⺖🥰🂶🂱💛❣🂼🂺🖤♥💜🂾🫀🂽🂳💔🂻🧡🂷💝⺗\n",
      "🤎💑⺖⺗😍🖤💝🂾🥰💞🂼💔🂽💛🤍💜⼼❤❦💟🂵🎔☙🂳\n",
      "🂵♡⼼💛🥰❧🂼❣⺖💘❤😍🂳💙💔🫀💜😻🂲🧡⺗💕🂷♥\n",
      "💚❤♡😍🂶🧡💛😻💟⺗⼼🎔☙🂾💞🂽🂳🂸💙🤍⺖💜❣♥\n",
      "🂻🂸💟❣💜💕🂺💚🂽❤💑💘💝🂲🧡🂼🂴♡🖤⺗🂶🂾💓💛\n",
      "😻🂲🂺💓🂼🂹⺗❧💜❥❤🥰😍🫀🧡🖤💞⼼🂵☙🂶💟💖⺖\n",
      "🂺🤍💘⺗😻🂽💝💛❧🧡❤🂼🎔💓🂶🂸🂲♥🖤❦🂾🂴🂱🫀\n",
      "🖤💜🫀🂺😍❣🂴💗💘☙💓🤍🂵🂼🤎❦❧🂽♥🧡💞🂻🂾💕\n",
      "💛♥❤🤎⺗💗🂺😍🂸🂲🂳❦❣💕🂷💜💝💓⺖🂼♡💟❥🂶\n",
      "🂶🎔❦🂻🂹🂾🂷💑🂵💚🤍💔🂲⼼💖💕⺗🥰💛☙🧡💙🂸😍\n",
      "🂷💔🫀❧💖🂶🤍🂼☙💝🂵🂱🖤⺗💘❤🂻🂸⺖🂺💚😻😍💞\n",
      "❣🂲💓💟❦🂳🂴😻💝⺖🂺🫀❧🥰💘🂾🤎🂷🤍💜❥😍🎔💗\n",
      "🂷💜🂴🂾🂼💘🖤🂶❦🤎❧♡💑☙🂽🎔⺗🧡♥❤💚💞🂸😻\n",
      "🤍🂾🖤🂽😍☙🤎😻💞💑❣💘🂻♥🂴⺗❥⼼❧💛💔🂲💓💟\n",
      "💙🂷❦🖤❣🂴🫀💚💔💟♥🂲💗❥⼼♡❤🂱💘🂾⺗🥰❧🧡\n",
      "😍💚☙🂴❣❤🤎💗💙💓🂸🖤🂱⺖💖🂶💘⼼🂼🂳🂾🥰🂹💝\n",
      "💑💛🂷🂸🂳❥🥰🂴♥🎔❣💟😻⺖🂶💖♡🂻🂺⼼⺗❤💞💜\n",
      "🂾💘💕♥⺗🂻🂵💛🖤🂼💙💖💗💟❦😍🂴♡🂷🂸🂺💚🧡🂶\n",
      "🫀❦🥰🂲🂹🂵🎔😍⺗🂴💟❣🂻💕💞⺖💘💗❧🤍⼼🖤🂼🂶\n",
      "⼼🂾🂼💞☙🂶💚❥♡🎔💟💔🂺🂸🖤🂴💜❤🂱💓🂳⺗😍💙\n",
      "💙🂲💕🂳🂹🥰⼼💖🂼🧡💜💗💞😍❦💔🫀🖤🂶❣♡💝🎔😻\n",
      "🂺😍💔🤍🂾💚💛❧💜🂱🧡🂲💓🖤⺗🂳🫀💟💝♡💕🤎🥰🂼\n",
      "❦💖💙😻💑🂺♡🫀🤎🂵💞💗♥❧⺗🖤❤💜🂲🂱🂳🂸❥🧡\n",
      "🂴🂸💙💑🂺🂲💜🤎💕😻🂶⺖🂾🎔💞❧🥰💗💖💛♡🂱💘💝\n",
      "❦❤🎔🂽🂵💚❣💛💟🂱🤎🂼♡💜⺖💗🂳💓💞🂺⼼🂷🂶💙\n",
      "🂶💝🧡💜💖💑⼼❦💘🂸🂴💔🂺💟🂳♥😻🂼🫀💞😍❥❤🂻\n",
      "🂲🧡🂵💛🂹💗💞🂸🤍🂾🂷♥💙🫀♡⼼💚💜🂼🥰💘💑💟😻\n",
      "🂽💖💔🂷🂲💚❣🎔🂻🥰❤💞❥❦♥♡🂳🂼🤍☙💝💕🧡⺖\n",
      "💝🫀🎔⺗🂼🂲🂵💚🧡💜❦💞🂸💙☙💔💑💕🥰💘♡♥🂱😍\n",
      "☙😻🂵💜🂷💛💙💑😍🧡❤💟⺗💕🫀🂶🖤💗❧🎔💖❦🂽💚\n",
      "💕💝❥🂳💙🥰🂶🂾⼼♥💓💔🂽🤎🂷🂴🂲♡🂻❤💜😍❦🤍\n",
      "❥♥🥰⺗🧡💚💑💝🂴💗❧😍🂶🤍💙🖤💛🎔💜🂷❤🂹⼼🂽\n",
      "🎔🤍❧💗♡💛☙🂱🤎🂳❦😍🂴💓🖤🂲♥🫀💔🂼🂾❥💕😻\n",
      "❦💛♥⼼💜🂼♡🂶💚💔🂹💑🖤🫀🎔🂸💘❥🂵🧡❧🂷🂺⺗\n",
      "🂾🂸❥♥⺗🧡☙⺖♡🥰🂷🂽🂲💗💛🤎🂱🖤😻💚🂹💓🂻💑\n",
      "⺖🫀🤎💗⼼😍🂽💝🂷❦🂺🂵🖤🂸💛❤🎔♥🂶❧💚💙💕🤍\n",
      "💑🂾🖤⺗❦🤍⺖💝♡💖🤎☙🂻❧♥😍💓🂵❤❣💘🂷🂴❥\n",
      "⺖♡🖤💕💔💗🂸❥💖💚⼼💞🂳❧💟🂹🤎🂵🎔❣🧡😍💙🂼\n",
      "💗❤💜🥰🂱😍💞🂽🂹🂻🤎☙🂺❦💟🂵🂳♥❣🤍🂴❧🂶😻\n",
      "🂶⺖⺗🧡💑😻🂾💞🂺💖🂹❤🂼🂷🂻♥♡💕❣💘🫀💛🂵💗\n",
      "⼼💕💑😻💚⺗💓🂲🂶🂸❦♡💟💜💙🂵💞🂹🫀☙🎔❤🂱🥰\n",
      "🂱🂾🂴⺖❥💘🂹☙🥰♥🂲💓💖💝💗🂼⺗❧❦🤎💚💕🂺❣\n",
      "🂱🤍🂻❥⼼💟💔🂼😻🂷🂺💑😍💕❤🥰🖤🂹🎔🂶❧💚💓♥\n",
      "💘❧☙♥🧡🥰🎔💑🤍💗🫀💜🂾🂴💛❤💞🂻💙🂼😍💝😻🤎\n",
      "🂺♡💞😍🂼💙❤🂾🂹💓❦💖💝💔🂳💜💚🥰🂻🂱⼼💑❥🖤\n",
      "♡⺖❣💑💜♥🂱⺗🂺🂹🂷💕🂴💚🎔❤😍😻🂸💘🂲🂵🫀💔\n",
      "💑🤎🎔💕💞♥🂽🧡💖💔🂾⺗⼼🂴🂲❧🫀❤🂼🂶💓💝💗♡\n",
      "⼼💝🂻🂵🂹💕🂾💛🫀💗🖤💟💚💑☙💜🂲♥❣🂼🂷🂱🤍🂺\n",
      "💝🂾🂳🂺🥰❤💚⼼🫀🂹🂲♥😍💜❥⺖💞💕💔💖🖤🂼❣❧\n",
      "💜🂺🂴🤍❣💛💓🫀🂽❦🂷💑💝💕🤎💞🂶❥😍💔☙🂱😻💚\n",
      "💞🎔⼼💟⺖❥🫀🂷🂳🂻☙🂸🂼🥰💚🂴💓🤎💗💝♡😍🂲💘\n",
      "☙💕🂱💔💛🎔💓😻❥🂾🂴💚♥🂶🂷⺖🂸💝🂹💙❣⼼🂻❧\n",
      "💙❦🂸💛🤍🂾🂽💜💘♥💔🂹😍💖💑🂼💟🫀🂻💗🂱😻❧💞\n",
      "🂹😍☙♡⼼💓🂲💑😻❦💕🫀⺗💔🂻🤍💟🂼❧🧡💚⺖🂳💘\n"
     ]
    }
   ],
   "source": [
    "import random\n",
    "num = int(len(hearts)/2)\n",
    "for i in range(100):\n",
    "    print(''.join(random.sample(hearts, num)))"
   ]
  },
  {
   "cell_type": "code",
   "execution_count": 41,
   "id": "d660177c",
   "metadata": {},
   "outputs": [
    {
     "name": "stdout",
     "output_type": "stream",
     "text": [
      "['🎔', '💑', '💓', '💔', '💕', '💖', '💗', '💘', '💙', '💚', '💛', '💜', '💝', '💞', '💟', '🖤']\n"
     ]
    }
   ],
   "source": [
    "import unicodedata\n",
    "\n",
    "heart_chars = []\n",
    "for i in range(0x1F300, 0x1F600):  # Iterate over Unicode code points in the heart range\n",
    "    char = chr(i)\n",
    "    if 'HEART' in unicodedata.name(char, '').upper():\n",
    "        heart_chars.append(char)\n",
    "\n",
    "print(heart_chars)"
   ]
  },
  {
   "cell_type": "code",
   "execution_count": 62,
   "id": "1d9425ff",
   "metadata": {},
   "outputs": [
    {
     "name": "stdout",
     "output_type": "stream",
     "text": [
      "💓\n",
      "  💓  \n",
      "    💓    \n",
      "      💓      \n",
      "        💓        \n",
      "💔\n",
      "  💔  \n",
      "    💔    \n",
      "      💔      \n",
      "        💔        \n",
      "💕\n",
      "  💕  \n",
      "    💕    \n",
      "      💕      \n",
      "        💕        \n",
      "💖\n",
      "  💖  \n",
      "    💖    \n",
      "      💖      \n",
      "        💖        \n",
      "💗\n",
      "  💗  \n",
      "    💗    \n",
      "      💗      \n",
      "        💗        \n",
      "💘\n",
      "  💘  \n",
      "    💘    \n",
      "      💘      \n",
      "        💘        \n",
      "💙\n",
      "  💙  \n",
      "    💙    \n",
      "      💙      \n",
      "        💙        \n",
      "💚\n",
      "  💚  \n",
      "    💚    \n",
      "      💚      \n",
      "        💚        \n",
      "💛\n",
      "  💛  \n",
      "    💛    \n",
      "      💛      \n",
      "        💛        \n",
      "💜\n",
      "  💜  \n",
      "    💜    \n",
      "      💜      \n",
      "        💜        \n",
      "💝\n",
      "  💝  \n",
      "    💝    \n",
      "      💝      \n",
      "        💝        \n",
      "💞\n",
      "  💞  \n",
      "    💞    \n",
      "      💞      \n",
      "        💞        \n",
      "💟\n",
      "  💟  \n",
      "    💟    \n",
      "      💟      \n",
      "        💟        \n",
      "🖤\n",
      "  🖤  \n",
      "    🖤    \n",
      "      🖤      \n",
      "        🖤        \n"
     ]
    }
   ],
   "source": [
    "import random\n",
    "heart_chars.pop(0)\n",
    "for char in heart_chars:\n",
    "    for size in range(1, 20, 4):\n",
    "        print(f\"{char}\".center(size))"
   ]
  },
  {
   "cell_type": "code",
   "execution_count": 60,
   "id": "cc629a1a",
   "metadata": {},
   "outputs": [
    {
     "name": "stdout",
     "output_type": "stream",
     "text": [
      "💑💗💑💕💖💗💓💑💕💙💜💖💔🎔💗💜💕💑💝💟\n",
      "💚💙💞💔💕💘💗💖💖💙🎔💟💜💞💞💟💝💗💗💝\n",
      "💛🖤💖💙💛💟💞💚💛💚💚🎔💗💕💞💑💙💝💘💖\n",
      "💝💔💑💙💓💚💙💔💛💚💞💚💖💞💝💛💞💘💘💟\n",
      "💛💘💖💜💔🎔💜💗💟💗💑💙💗💗💔💔💜💕💓🖤\n",
      "💜💘💗💗💜💖💑🎔💜💔💚💕💛🖤💗💖💜🖤💟💜\n",
      "💙🖤💔💖💖🖤💔💓💛💛💗🖤💕💔💘💚💔💘💜💝\n",
      "💑💕💟🖤💑💟💗💔💑💔💛💟💔💓🎔🎔💟💙💑💟\n",
      "💘💟💖💗💚💖💜💝💕💔💑💛💗🎔🖤💙💕💕💝💖\n",
      "💘💛💝💑💝💞💞💚💚💕💜💜💞💞💗💜💟🖤💞💙\n",
      "💗💜🎔💕💜💔💑💗💜💔🎔💜💘💙🖤💚💙🖤💓💓\n",
      "💝💘💙💙💟💛💙💙💙💞💚💑💘💘💞💑💙🖤💑💗\n",
      "💛💚💝💗🎔🎔💟💙💕💕💙💔💔💕🖤💗💑💗💓💟\n",
      "🎔💑💟💟🖤💛💔💜💙💛💗💞💖💚🖤💖💜💛💜💘\n",
      "💙💝💞💘💛💛💕💞💘💞💗🖤💝💞💚🎔💖🖤💕💓\n",
      "🖤💓💜💔💕💔💞💘💙💕🎔💘💞💟💖💛💙💛💞💔\n",
      "💚💗💜💝💓🖤💓🎔💛🖤💖💘💗💕💞💚💖💕💜💟\n",
      "💙💛💘💜💜💔💗💟💟💗🖤💝💗💜💔💖💘💜💖🖤\n",
      "🎔💞💘💛💝💙🎔💓💕💔💕🖤💘💙💖💞💘💜🎔💛\n",
      "💑💗💜💘💙💑💞💚💑💑💜🎔💗💔💚💖💜💞💕💟\n"
     ]
    }
   ],
   "source": [
    "# Define heart size and spacing\n",
    "heart_size = 20\n",
    "spacing = 2\n",
    "\n",
    "# Initialize a heart grid\n",
    "grid = [[random.choice(heart_chars) for _ in range(heart_size)] for _ in range(heart_size)]\n",
    "\n",
    "# Replace the center of the grid with a large heart character\n",
    "center = heart_size // 2\n",
    "for i in range(center - spacing, center + spacing + 1):\n",
    "    for j in range(center - spacing, center + spacing + 1):\n",
    "        grid[i][j] = random.choice(heart_chars)\n",
    "\n",
    "# Print the heart grid\n",
    "for row in grid:\n",
    "    print(''.join(row))"
   ]
  },
  {
   "cell_type": "code",
   "execution_count": 51,
   "id": "63138108",
   "metadata": {},
   "outputs": [
    {
     "name": "stdout",
     "output_type": "stream",
     "text": [
      "💞💝💟💗💘💗💚💜🖤💚💜💘💚💙💗💟💑💓💖💗\n",
      "💓💚💔💕💑💘💓💚💖💙💙💛💟💔💙💟💜💟💓💔\n",
      "💗💑💟💙💔💖💔💟💗💘💙💝💖💖💟💖💔💘💝💛\n",
      "💜💔💛💖💛💝💙💓💝💕💞💔💞💜💚💚💖💟💜💙\n",
      "💚💟💖💘💕💙💘💑🖤💗💜🖤💙💓💞💖💔💓💞💑\n",
      "💓💝💞💑💗💔💝💖💛💑💝💜💟💓💟💚💑💙💕💙\n",
      "💜💝💓💓💚💝💖💛💗💖💘💙💘💖💝💗💕💟💔💛\n",
      "💜🖤💜💟💙💜💖💖💝💝💖💛💓💔💝💖💙💓💔💗\n",
      "💔💞💕💕💖🖤💞💝💟💜💑💓💞💞💗💘💕💗💙💕\n",
      "💗💜💔💑💛💚💚💗💖💘💘💘💔💚💚💑💙💕💟💔\n",
      "💘💘💕💜💘💑💚💞💛💟💕💚💖💟💗💔💟💝💞💘\n",
      "💕🖤💟💚💖💓💞💗💔💞💗🖤💗💖💟💙💝💔💙💓\n",
      "💖💘🖤💚💓💙💜💖💘💗💞💖💛💘💕💚💔💔💔💓\n",
      "💚🖤💗💓💔💖💕💖💞💕💖🖤💚💕💚💑🖤💟💚💛\n",
      "💙💕💞💞🖤💑💜💝💟💕💟💔💘💜🖤💟💙💔💔💟\n",
      "💝💔💞💛💙💕💗💘💓💞💖💞💗💔💖💛💚🖤💜💘\n",
      "💔💜💜💙💓💕💜💘💓💘💕💓💛💓💑💓💝💖💗💑\n",
      "💜💖💗💖💗💗💕💓💑💔💘💝💙💕💜🖤💖💔💔💟\n",
      "💛💟💚🖤💙💖💙💘💔💔💑💙💞💟💑💛💘💛💗💝\n",
      "💔💑💜💞💜💝💖💔💚💙💔💕💝💗💛💙💗💖💝💚"
     ]
    }
   ],
   "source": [
    "heart_size = 20\n",
    "spacing = 2\n",
    "\n",
    "grid = [[random.choice(heart_chars) for _ in range(heart_size)] for _ in range(heart_size)]\n",
    "\n",
    "center = heart_size // 2\n",
    "for i in range(center - spacing, center + spacing + 1):\n",
    "    for j in range(center - spacing, center + spacing + 1):\n",
    "        grid[i][j] = random.choice(heart_chars)\n",
    "        \n",
    "heart_str = '\\n'.join([''.join(row) for row in grid])\n",
    "heart_chars = [char for char in heart_chars if char != '\\n']\n",
    "\n",
    "for char in heart_str:\n",
    "    if char == '\\n':\n",
    "        print()\n",
    "    elif char in heart_chars:\n",
    "        #print('\\u2665', end='')\n",
    "        print(char, end='')\n",
    "    else:\n",
    "        print(' ', end='')\n",
    "        "
   ]
  },
  {
   "cell_type": "code",
   "execution_count": 58,
   "id": "024a41f4",
   "metadata": {},
   "outputs": [
    {
     "name": "stdout",
     "output_type": "stream",
     "text": [
      "♥♥♥♥♥♥♥♥♥♥♥♥♥♥♥♥♥♥♥♥\n",
      " ♥♥♥♥♥♥♥♥♥♥♥♥♥♥♥♥♥♥♥\n",
      "♥ ♥♥♥♥♥♥♥♥♥♥♥♥♥♥♥♥♥♥\n",
      "♥♥ ♥♥♥♥♥♥♥♥♥♥♥♥♥♥♥♥♥\n",
      "♥♥♥ ♥♥♥♥♥♥♥♥♥♥♥♥♥♥♥♥\n",
      "♥♥♥♥ ♥♥♥♥♥♥♥♥♥♥♥♥♥♥♥\n",
      "♥♥♥♥♥ ♥♥♥♥♥♥♥♥♥♥♥♥♥♥\n",
      "♥♥♥♥♥♥ ♥♥♥♥♥♥♥♥♥♥♥♥♥\n",
      "♥♥♥♥♥♥♥ ♥♥♥♥♥♥♥♥♥♥♥♥\n",
      "♥♥♥♥♥♥♥♥ ♥♥♥♥♥♥♥♥♥♥♥\n",
      "♥♥♥♥♥♥♥♥♥ ♥♥♥♥♥♥♥♥♥♥\n",
      "♥♥♥♥♥♥♥♥♥♥ ♥♥♥♥♥♥♥♥♥\n",
      "♥♥♥♥♥♥♥♥♥♥♥ ♥♥♥♥♥♥♥♥\n",
      "♥♥♥♥♥♥♥♥♥♥♥♥ ♥♥♥♥♥♥♥\n",
      "♥♥♥♥♥♥♥♥♥♥♥♥♥ ♥♥♥♥♥♥\n",
      "♥♥♥♥♥♥♥♥♥♥♥♥♥♥ ♥♥♥♥♥\n",
      "♥♥♥♥♥♥♥♥♥♥♥♥♥♥♥ ♥♥♥♥\n",
      "♥♥♥♥♥♥♥♥♥♥♥♥♥♥♥♥ ♥♥♥\n",
      "♥♥♥♥♥♥♥♥♥♥♥♥♥♥♥♥♥ ♥♥\n",
      "♥♥♥♥♥♥♥♥♥♥♥♥♥♥♥♥♥♥ ♥\n"
     ]
    }
   ],
   "source": [
    "import random\n",
    "import unicodedata\n",
    "\n",
    "heart_chars = []\n",
    "for i in range(0x1F300, 0x1F600):\n",
    "    char = chr(i)\n",
    "    if 'HEART' in unicodedata.name(char, '').upper():\n",
    "        heart_chars.append(char)\n",
    "\n",
    "heart_size = 20\n",
    "spacing = 2\n",
    "\n",
    "grid = [[random.choice(heart_chars) for _ in range(heart_size)] for _ in range(heart_size)]\n",
    "\n",
    "center = heart_size // 2\n",
    "for i in range(center - spacing, center + spacing + 1):\n",
    "    for j in range(center - spacing, center + spacing + 1):\n",
    "        grid[i][j] = random.choice(heart_chars)\n",
    "\n",
    "heart_str = '\\n'.join([''.join(row) for row in grid])\n",
    "heart_chars = [char for char in heart_chars if char != '\\n']\n",
    "\n",
    "for i in range(heart_size):\n",
    "    for j in range(heart_size):\n",
    "        char = heart_str[i * heart_size + j]\n",
    "        if char in heart_chars:\n",
    "            print('\\u2665', end='')\n",
    "        else:\n",
    "            print(' ', end='')\n",
    "    print()"
   ]
  }
 ],
 "metadata": {
  "kernelspec": {
   "display_name": "Python 3 (ipykernel)",
   "language": "python",
   "name": "python3"
  },
  "language_info": {
   "codemirror_mode": {
    "name": "ipython",
    "version": 3
   },
   "file_extension": ".py",
   "mimetype": "text/x-python",
   "name": "python",
   "nbconvert_exporter": "python",
   "pygments_lexer": "ipython3",
   "version": "3.9.13"
  }
 },
 "nbformat": 4,
 "nbformat_minor": 5
}
