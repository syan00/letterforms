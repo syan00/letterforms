{
 "cells": [
  {
   "cell_type": "code",
   "execution_count": 4,
   "id": "79a25cf4",
   "metadata": {},
   "outputs": [
    {
     "name": "stdout",
     "output_type": "stream",
     "text": [
      "Two roads diverged in a yellow wood,\n",
      "And sorry I could not travel both\n",
      "And be one traveler, long I stood\n",
      "And looked down one as far as I could\n",
      "To where it bent in the undergrowth;\n",
      "\n",
      "Then took the other, as just as fair,\n",
      "And having perhaps the better claim,\n",
      "Because it was grassy and wanted wear;\n",
      "Though as for that the passing there\n",
      "Had worn them really about the same,\n",
      "\n",
      "And both that morning equally lay\n",
      "In leaves no step had trodden black.\n",
      "Oh, I kept the first for another day!\n",
      "Yet knowing how way leads on to way,\n",
      "I doubted if I should ever come back.\n",
      "\n",
      "I shall be telling this with a sigh\n",
      "Somewhere ages and ages hence:\n",
      "Two roads diverged in a wood, and I---\n",
      "I took the one less travelled by,\n",
      "And that has made all the difference.\n",
      "\n"
     ]
    }
   ],
   "source": [
    "text = open(\"frost.txt\", \"r\").read()\n",
    "print(text)"
   ]
  },
  {
   "cell_type": "code",
   "execution_count": 6,
   "id": "f89dbfd2",
   "metadata": {},
   "outputs": [
    {
     "name": "stdout",
     "output_type": "stream",
     "text": [
      "['Two', 'roads', 'diverged', 'in', 'a', 'yellow', 'wood,\\nAnd', 'sorry', 'I', 'could', 'not', 'travel', 'both\\nAnd', 'be', 'one', 'traveler,', 'long', 'I', 'stood\\nAnd', 'looked', 'down', 'one', 'as', 'far', 'as', 'I', 'could\\nTo', 'where', 'it', 'bent', 'in', 'the', 'undergrowth;\\n\\nThen', 'took', 'the', 'other,', 'as', 'just', 'as', 'fair,\\nAnd', 'having', 'perhaps', 'the', 'better', 'claim,\\nBecause', 'it', 'was', 'grassy', 'and', 'wanted', 'wear;\\nThough', 'as', 'for', 'that', 'the', 'passing', 'there\\nHad', 'worn', 'them', 'really', 'about', 'the', 'same,\\n\\nAnd', 'both', 'that', 'morning', 'equally', 'lay\\nIn', 'leaves', 'no', 'step', 'had', 'trodden', 'black.\\nOh,', 'I', 'kept', 'the', 'first', 'for', 'another', 'day!\\nYet', 'knowing', 'how', 'way', 'leads', 'on', 'to', 'way,\\nI', 'doubted', 'if', 'I', 'should', 'ever', 'come', 'back.\\n\\nI', 'shall', 'be', 'telling', 'this', 'with', 'a', 'sigh\\nSomewhere', 'ages', 'and', 'ages', 'hence:\\nTwo', 'roads', 'diverged', 'in', 'a', 'wood,', 'and', 'I---\\nI', 'took', 'the', 'one', 'less', 'travelled', 'by,\\nAnd', 'that', 'has', 'made', 'all', 'the', 'difference.\\n']\n"
     ]
    }
   ],
   "source": [
    "for c in text:\n",
    "    words = text.split(' ')\n",
    "print(words)"
   ]
  },
  {
   "cell_type": "code",
   "execution_count": 7,
   "id": "e945302c",
   "metadata": {},
   "outputs": [
    {
     "name": "stdout",
     "output_type": "stream",
     "text": [
      "  % Total    % Received % Xferd  Average Speed   Time    Time     Time  Current\n",
      "                                 Dload  Upload   Total   Spent    Left  Speed\n",
      "100 1808k  100 1808k    0     0  3053k      0 --:--:-- --:--:-- --:--:-- 2793k-:-- --:--:-- --:--:-- 3054k\n"
     ]
    }
   ],
   "source": [
    "!curl -L -O https://www.unicode.org/Public/13.0.0/ucd/UnicodeData.txt"
   ]
  },
  {
   "cell_type": "code",
   "execution_count": 9,
   "id": "62487e29",
   "metadata": {},
   "outputs": [],
   "source": [
    "unicode = []\n",
    "for line in open(\"UnicodeData.txt\"):\n",
    "    line = line.strip()\n",
    "    fields = line.split(';')\n",
    "    row = {\n",
    "        'char': chr(int(fields[0], 16)),\n",
    "        'name': fields[1],\n",
    "        'category': fields[2]\n",
    "    }\n",
    "    unicode.append(row)"
   ]
  },
  {
   "cell_type": "code",
   "execution_count": 15,
   "id": "4df0b7bf",
   "metadata": {},
   "outputs": [
    {
     "data": {
      "text/plain": [
       "[{'char': '☙',\n",
       "  'name': 'REVERSED ROTATED FLORAL HEART BULLET',\n",
       "  'category': 'So'},\n",
       " {'char': '♡', 'name': 'WHITE HEART SUIT', 'category': 'So'},\n",
       " {'char': '♥', 'name': 'BLACK HEART SUIT', 'category': 'So'},\n",
       " {'char': '❣',\n",
       "  'name': 'HEAVY HEART EXCLAMATION MARK ORNAMENT',\n",
       "  'category': 'So'},\n",
       " {'char': '❤', 'name': 'HEAVY BLACK HEART', 'category': 'So'},\n",
       " {'char': '❥', 'name': 'ROTATED HEAVY BLACK HEART BULLET', 'category': 'So'},\n",
       " {'char': '❦', 'name': 'FLORAL HEART', 'category': 'So'},\n",
       " {'char': '❧', 'name': 'ROTATED FLORAL HEART BULLET', 'category': 'So'},\n",
       " {'char': '⺖', 'name': 'CJK RADICAL HEART ONE', 'category': 'So'},\n",
       " {'char': '⺗', 'name': 'CJK RADICAL HEART TWO', 'category': 'So'},\n",
       " {'char': '⼼', 'name': 'KANGXI RADICAL HEART', 'category': 'So'},\n",
       " {'char': '🂱', 'name': 'PLAYING CARD ACE OF HEARTS', 'category': 'So'},\n",
       " {'char': '🂲', 'name': 'PLAYING CARD TWO OF HEARTS', 'category': 'So'},\n",
       " {'char': '🂳', 'name': 'PLAYING CARD THREE OF HEARTS', 'category': 'So'},\n",
       " {'char': '🂴', 'name': 'PLAYING CARD FOUR OF HEARTS', 'category': 'So'},\n",
       " {'char': '🂵', 'name': 'PLAYING CARD FIVE OF HEARTS', 'category': 'So'},\n",
       " {'char': '🂶', 'name': 'PLAYING CARD SIX OF HEARTS', 'category': 'So'},\n",
       " {'char': '🂷', 'name': 'PLAYING CARD SEVEN OF HEARTS', 'category': 'So'},\n",
       " {'char': '🂸', 'name': 'PLAYING CARD EIGHT OF HEARTS', 'category': 'So'},\n",
       " {'char': '🂹', 'name': 'PLAYING CARD NINE OF HEARTS', 'category': 'So'},\n",
       " {'char': '🂺', 'name': 'PLAYING CARD TEN OF HEARTS', 'category': 'So'},\n",
       " {'char': '🂻', 'name': 'PLAYING CARD JACK OF HEARTS', 'category': 'So'},\n",
       " {'char': '🂼', 'name': 'PLAYING CARD KNIGHT OF HEARTS', 'category': 'So'},\n",
       " {'char': '🂽', 'name': 'PLAYING CARD QUEEN OF HEARTS', 'category': 'So'},\n",
       " {'char': '🂾', 'name': 'PLAYING CARD KING OF HEARTS', 'category': 'So'},\n",
       " {'char': '🎔', 'name': 'HEART WITH TIP ON THE LEFT', 'category': 'So'},\n",
       " {'char': '💑', 'name': 'COUPLE WITH HEART', 'category': 'So'},\n",
       " {'char': '💓', 'name': 'BEATING HEART', 'category': 'So'},\n",
       " {'char': '💔', 'name': 'BROKEN HEART', 'category': 'So'},\n",
       " {'char': '💕', 'name': 'TWO HEARTS', 'category': 'So'},\n",
       " {'char': '💖', 'name': 'SPARKLING HEART', 'category': 'So'},\n",
       " {'char': '💗', 'name': 'GROWING HEART', 'category': 'So'},\n",
       " {'char': '💘', 'name': 'HEART WITH ARROW', 'category': 'So'},\n",
       " {'char': '💙', 'name': 'BLUE HEART', 'category': 'So'},\n",
       " {'char': '💚', 'name': 'GREEN HEART', 'category': 'So'},\n",
       " {'char': '💛', 'name': 'YELLOW HEART', 'category': 'So'},\n",
       " {'char': '💜', 'name': 'PURPLE HEART', 'category': 'So'},\n",
       " {'char': '💝', 'name': 'HEART WITH RIBBON', 'category': 'So'},\n",
       " {'char': '💞', 'name': 'REVOLVING HEARTS', 'category': 'So'},\n",
       " {'char': '💟', 'name': 'HEART DECORATION', 'category': 'So'},\n",
       " {'char': '🖤', 'name': 'BLACK HEART', 'category': 'So'},\n",
       " {'char': '😍',\n",
       "  'name': 'SMILING FACE WITH HEART-SHAPED EYES',\n",
       "  'category': 'So'},\n",
       " {'char': '😻',\n",
       "  'name': 'SMILING CAT FACE WITH HEART-SHAPED EYES',\n",
       "  'category': 'So'},\n",
       " {'char': '🤍', 'name': 'WHITE HEART', 'category': 'So'},\n",
       " {'char': '🤎', 'name': 'BROWN HEART', 'category': 'So'},\n",
       " {'char': '🥰',\n",
       "  'name': 'SMILING FACE WITH SMILING EYES AND THREE HEARTS',\n",
       "  'category': 'So'},\n",
       " {'char': '🧡', 'name': 'ORANGE HEART', 'category': 'So'},\n",
       " {'char': '🫀', 'name': 'ANATOMICAL HEART', 'category': 'So'}]"
      ]
     },
     "execution_count": 15,
     "metadata": {},
     "output_type": "execute_result"
    }
   ],
   "source": [
    "hearts = [row for row in unicode if 'HEART' in row ['name']]\n",
    "hearts"
   ]
  },
  {
   "cell_type": "code",
   "execution_count": 16,
   "id": "359099d8",
   "metadata": {},
   "outputs": [
    {
     "data": {
      "text/plain": [
       "['☙',\n",
       " '♡',\n",
       " '♥',\n",
       " '❣',\n",
       " '❤',\n",
       " '❥',\n",
       " '❦',\n",
       " '❧',\n",
       " '⺖',\n",
       " '⺗',\n",
       " '⼼',\n",
       " '🂱',\n",
       " '🂲',\n",
       " '🂳',\n",
       " '🂴',\n",
       " '🂵',\n",
       " '🂶',\n",
       " '🂷',\n",
       " '🂸',\n",
       " '🂹',\n",
       " '🂺',\n",
       " '🂻',\n",
       " '🂼',\n",
       " '🂽',\n",
       " '🂾',\n",
       " '🎔',\n",
       " '💑',\n",
       " '💓',\n",
       " '💔',\n",
       " '💕',\n",
       " '💖',\n",
       " '💗',\n",
       " '💘',\n",
       " '💙',\n",
       " '💚',\n",
       " '💛',\n",
       " '💜',\n",
       " '💝',\n",
       " '💞',\n",
       " '💟',\n",
       " '🖤',\n",
       " '😍',\n",
       " '😻',\n",
       " '🤍',\n",
       " '🤎',\n",
       " '🥰',\n",
       " '🧡',\n",
       " '🫀']"
      ]
     },
     "execution_count": 16,
     "metadata": {},
     "output_type": "execute_result"
    }
   ],
   "source": [
    "hearts = [row['char'] for row in unicode if 'HEART' in row ['name']]\n",
    "hearts"
   ]
  },
  {
   "cell_type": "code",
   "execution_count": 36,
   "id": "f5221eb4",
   "metadata": {},
   "outputs": [
    {
     "name": "stdout",
     "output_type": "stream",
     "text": [
      "🂹⺗💟🂽💙💛🧡💖🤍💕🂼❥⼼🤎💔🂺🂲🂾💜🎔❣🂳🂷🂴\n",
      "💝🂼😻🂷🂲♡🂺🂱⺖💟🥰⺗🂾💕🤎🂶🎔🂸💛🂽❧♥🖤💞\n",
      "❥💝🂳☙💚♡🂵🂻💖😻💘🖤💕❣🂽⺗⺖💜🂹🂷🤎🂼💟🂲\n",
      "🂹🧡💓🂱🂴💔🂳🥰😻🂸🂷🤎☙🎔🫀💗❦♥🂲💖🂺💞💘🂵\n",
      "💔🫀🂺🂻⼼💖💗❦🂼🂴🤍🂶💝🂲🂸❥❤🂹🂷💘💑💚😍🤎\n",
      "💟💚🖤🎔🂱🤎💛🂺🂾❦💓❧💑😍💞😻💖💕💙🧡🂽🂹🂳💘\n",
      "💙🂽💗❧🂾♡♥💕🂲💖💔🂹❤🂸⺖💜💟💞💓💝🫀❦❥⺗\n",
      "🂶♡💘❥⼼🤎🂴🫀🖤😍💔🂻💛🂽💗💞😻❦🂺🂾💖🧡🂳💝\n",
      "♥💜🫀💔❣❦⼼💙🂼💓☙🎔🂸❤⺗💖🂽🂴♡🂳⺖😍🧡🤍\n",
      "🂷💛🂹❤⺗😻💕💟🎔🤍🂻💙🤎❦🥰💔💝💖🫀🂾💜💗❧🂱\n",
      "❦🂼💔🂺🧡💜🂾❣🂶🥰🤍🂹💛⼼😍⺖💙❥💗🎔💑💓🂷☙\n",
      "🫀⼼🂳☙💛🂶🂱❦🂵🤎❥💑🂲💜💞💙♥🂸🂷♡❤🂽🎔😍\n",
      "😍❧🫀🂲⺗💔🂷🂹🂺🂶💕🂵☙😻💛🂴💙🎔💜❣🤎⺖♡🂾\n",
      "🂹🂵☙🂸🂳💔💝🂻🂷😍♥💟💙💗🧡💘🂲🂾🥰⺖⼼💑🂶🂱\n",
      "🂸🂵💜☙🎔🤎⼼💝🂽🂷🂹💔💓⺗😍❤⺖❥🂶🂺🂾❦💞💖\n",
      "🂱💘💙🂲🂺😍🧡⼼❧🂼❤🎔♥💓🖤♡🂸☙💞💔⺗🂷🫀🂴\n",
      "🂶💗🂼🂾🤎⺖💚♥🫀🂻🥰🤍😍❦💕❧🂷💔💛💝💞🎔💑🂸\n",
      "💝💑❤⼼🂳🂽💓⺗♥💗🂻😻🂴🂲🂺💔💙🎔💖💛🥰🂶💕💜\n",
      "🎔🂵❥🂹🂾❧⺖💑💕♥❦⼼💔🂲🥰🂴💟🂻🤎☙💗💘💛🂽\n",
      "🂾🫀🂸💙❣💓🧡💘💑🂼💟💝❦🂷💚🎔⼼💛☙💕🂹💗🥰🂴\n",
      "🂽🂳🖤⺖🂵⺗🂹❥💑🂺🫀🂸🧡🂴🎔💞💚♥🂼💖☙💕⼼❤\n",
      "⺖💑🥰🂳💘🤍🎔😻🫀😍⼼🂹♥🂺🤎💔🂻⺗🂸🂵🂾🧡❥🂴\n",
      "💟💔🂻⺖💞💖😻🂾🂱🥰💑❧🂶😍🂵♥🂽💝🂳♡🂹🫀🂲🂼\n",
      "♥🂱🂼💔🂾💗💖💘🫀😍☙💝🂲💟🂻💚🂵🂽🧡💓❧🤍💞🎔\n",
      "🂶🥰💘🫀❦🂸🂾🂺🂽🂱⼼💓❣💙🤎♡🂵🤍🎔❥💜💞🂴⺗\n",
      "🂲💑💛💗🧡♡🂹💞💘🥰🂾💝🂱🤎⼼❣🂴💜🂷💔♥🂼💚🤍\n",
      "♡🂱⼼🂵❣🖤🤍🂸💚🤎💖❥🂾😻💙🂹💗🂷❤🂼♥💕🂶☙\n",
      "🂴⼼♥🥰❥🂱😻😍💖🂳🤎♡🂽☙💛💚💞💕🧡🂷🂼💜🫀💙\n",
      "🂱💚🧡💞🂻⼼⺗🂽🥰🂷❦🂺💕💑❧💗🂼🂳❥♡😻🂶🂹🎔\n",
      "⺗🂸💚💔❤😻🫀🂹💛🧡♡💜🤍💘💞⺖❣🂾💓🖤⼼🂺😍❧\n",
      "💗🂶⼼🖤💕🂲💟♡🤍💝🂸❦🂽🧡🂾♥🤎😻⺖🫀🂴💛🂳🂷\n",
      "♥🂼💑😻🧡😍⼼💝⺗💞🫀💛🥰💚🂹💘❥🂽🂵💖🖤💗❣💙\n",
      "💛💜💚🂾💟❤☙🥰💔🂷❧❦🂳💕🂶💑💞⺗💖❣🎔😍🂱🤍\n",
      "🂺❣💔🤎💘💜🧡💙⼼🫀🂲💛🂹🂾🂳💑❦⺗🂷🖤🂻🂶😍🂴\n",
      "🧡❣💗😻⺗🫀💝💔🂲♥💞❤🂷🂺🂳🖤🂵💕💚🂴💛🂹🂸❧\n",
      "🫀❣💑💝😻♡💗💙💜⺖🂽💛🂸🂳🂼🂺🥰☙🂻🤍💞🂴❥💓\n",
      "❤🂱🖤💑🂺🂻💓🧡🂵💘♡💖😻🂸🂳🂼🤍💕💜💞🤎💙🫀⺖\n",
      "💗🤍🎔💓💚❣🂴🂽🥰⺗🂹🂷💜❥💝🂾💔❧🂵❦⺖⼼♡🂶\n",
      "❧🎔🤎💕🂷🂽💑😍🂳❤💚🂺⼼💙♥⺖🂵🂻💔⺗💜😻🤍🂶\n",
      "🖤🥰⼼🂸🂺🎔🫀🧡❥⺖💖💗♡💕🂻💓🂾❧💑💛💜🂳♥💔\n",
      "♡🧡⼼🤎⺗💔🂵❤☙💓❧🂽💗😻🂺🤍🂶💝❣💚🂱⺖🎔🂻\n",
      "🂳🂲🂶🂽💟❥💗🤍♡♥💖💜⼼⺗❣💞💕💙❧🂹🫀⺖😻💓\n",
      "🧡💚🂶🂸🤍🂺🂹💑💜💛🂽♥❧☙💔💞😍⺖🫀🂴🂱♡🎔❤\n",
      "🂺🂱💝🂾💑🂻💞😍🖤💘💜💙💚💕🤎☙🂽🥰🂲😻🂵💔🂷🂹\n",
      "🂽🤍😻🂸🂶🂱♥🂵🤎💗🥰⺗🂻💛💞🂹❣🖤💝💚❦❤🎔❧\n",
      "🎔💖💟⼼💚🂶❦🖤🥰😻🫀🂷😍❧🂸💜💔🂼🂵☙🂽💑🂻⺗\n",
      "💟💗🂹⺖🥰🂶🂱💛❣🂼🂺🖤♥💜🂾🫀🂽🂳💔🂻🧡🂷💝⺗\n",
      "🤎💑⺖⺗😍🖤💝🂾🥰💞🂼💔🂽💛🤍💜⼼❤❦💟🂵🎔☙🂳\n",
      "🂵♡⼼💛🥰❧🂼❣⺖💘❤😍🂳💙💔🫀💜😻🂲🧡⺗💕🂷♥\n",
      "💚❤♡😍🂶🧡💛😻💟⺗⼼🎔☙🂾💞🂽🂳🂸💙🤍⺖💜❣♥\n",
      "🂻🂸💟❣💜💕🂺💚🂽❤💑💘💝🂲🧡🂼🂴♡🖤⺗🂶🂾💓💛\n",
      "😻🂲🂺💓🂼🂹⺗❧💜❥❤🥰😍🫀🧡🖤💞⼼🂵☙🂶💟💖⺖\n",
      "🂺🤍💘⺗😻🂽💝💛❧🧡❤🂼🎔💓🂶🂸🂲♥🖤❦🂾🂴🂱🫀\n",
      "🖤💜🫀🂺😍❣🂴💗💘☙💓🤍🂵🂼🤎❦❧🂽♥🧡💞🂻🂾💕\n",
      "💛♥❤🤎⺗💗🂺😍🂸🂲🂳❦❣💕🂷💜💝💓⺖🂼♡💟❥🂶\n",
      "🂶🎔❦🂻🂹🂾🂷💑🂵💚🤍💔🂲⼼💖💕⺗🥰💛☙🧡💙🂸😍\n",
      "🂷💔🫀❧💖🂶🤍🂼☙💝🂵🂱🖤⺗💘❤🂻🂸⺖🂺💚😻😍💞\n",
      "❣🂲💓💟❦🂳🂴😻💝⺖🂺🫀❧🥰💘🂾🤎🂷🤍💜❥😍🎔💗\n",
      "🂷💜🂴🂾🂼💘🖤🂶❦🤎❧♡💑☙🂽🎔⺗🧡♥❤💚💞🂸😻\n",
      "🤍🂾🖤🂽😍☙🤎😻💞💑❣💘🂻♥🂴⺗❥⼼❧💛💔🂲💓💟\n",
      "💙🂷❦🖤❣🂴🫀💚💔💟♥🂲💗❥⼼♡❤🂱💘🂾⺗🥰❧🧡\n",
      "😍💚☙🂴❣❤🤎💗💙💓🂸🖤🂱⺖💖🂶💘⼼🂼🂳🂾🥰🂹💝\n",
      "💑💛🂷🂸🂳❥🥰🂴♥🎔❣💟😻⺖🂶💖♡🂻🂺⼼⺗❤💞💜\n",
      "🂾💘💕♥⺗🂻🂵💛🖤🂼💙💖💗💟❦😍🂴♡🂷🂸🂺💚🧡🂶\n",
      "🫀❦🥰🂲🂹🂵🎔😍⺗🂴💟❣🂻💕💞⺖💘💗❧🤍⼼🖤🂼🂶\n",
      "⼼🂾🂼💞☙🂶💚❥♡🎔💟💔🂺🂸🖤🂴💜❤🂱💓🂳⺗😍💙\n",
      "💙🂲💕🂳🂹🥰⼼💖🂼🧡💜💗💞😍❦💔🫀🖤🂶❣♡💝🎔😻\n",
      "🂺😍💔🤍🂾💚💛❧💜🂱🧡🂲💓🖤⺗🂳🫀💟💝♡💕🤎🥰🂼\n",
      "❦💖💙😻💑🂺♡🫀🤎🂵💞💗♥❧⺗🖤❤💜🂲🂱🂳🂸❥🧡\n",
      "🂴🂸💙💑🂺🂲💜🤎💕😻🂶⺖🂾🎔💞❧🥰💗💖💛♡🂱💘💝\n",
      "❦❤🎔🂽🂵💚❣💛💟🂱🤎🂼♡💜⺖💗🂳💓💞🂺⼼🂷🂶💙\n",
      "🂶💝🧡💜💖💑⼼❦💘🂸🂴💔🂺💟🂳♥😻🂼🫀💞😍❥❤🂻\n",
      "🂲🧡🂵💛🂹💗💞🂸🤍🂾🂷♥💙🫀♡⼼💚💜🂼🥰💘💑💟😻\n",
      "🂽💖💔🂷🂲💚❣🎔🂻🥰❤💞❥❦♥♡🂳🂼🤍☙💝💕🧡⺖\n",
      "💝🫀🎔⺗🂼🂲🂵💚🧡💜❦💞🂸💙☙💔💑💕🥰💘♡♥🂱😍\n",
      "☙😻🂵💜🂷💛💙💑😍🧡❤💟⺗💕🫀🂶🖤💗❧🎔💖❦🂽💚\n",
      "💕💝❥🂳💙🥰🂶🂾⼼♥💓💔🂽🤎🂷🂴🂲♡🂻❤💜😍❦🤍\n",
      "❥♥🥰⺗🧡💚💑💝🂴💗❧😍🂶🤍💙🖤💛🎔💜🂷❤🂹⼼🂽\n",
      "🎔🤍❧💗♡💛☙🂱🤎🂳❦😍🂴💓🖤🂲♥🫀💔🂼🂾❥💕😻\n",
      "❦💛♥⼼💜🂼♡🂶💚💔🂹💑🖤🫀🎔🂸💘❥🂵🧡❧🂷🂺⺗\n",
      "🂾🂸❥♥⺗🧡☙⺖♡🥰🂷🂽🂲💗💛🤎🂱🖤😻💚🂹💓🂻💑\n",
      "⺖🫀🤎💗⼼😍🂽💝🂷❦🂺🂵🖤🂸💛❤🎔♥🂶❧💚💙💕🤍\n",
      "💑🂾🖤⺗❦🤍⺖💝♡💖🤎☙🂻❧♥😍💓🂵❤❣💘🂷🂴❥\n",
      "⺖♡🖤💕💔💗🂸❥💖💚⼼💞🂳❧💟🂹🤎🂵🎔❣🧡😍💙🂼\n",
      "💗❤💜🥰🂱😍💞🂽🂹🂻🤎☙🂺❦💟🂵🂳♥❣🤍🂴❧🂶😻\n",
      "🂶⺖⺗🧡💑😻🂾💞🂺💖🂹❤🂼🂷🂻♥♡💕❣💘🫀💛🂵💗\n",
      "⼼💕💑😻💚⺗💓🂲🂶🂸❦♡💟💜💙🂵💞🂹🫀☙🎔❤🂱🥰\n",
      "🂱🂾🂴⺖❥💘🂹☙🥰♥🂲💓💖💝💗🂼⺗❧❦🤎💚💕🂺❣\n",
      "🂱🤍🂻❥⼼💟💔🂼😻🂷🂺💑😍💕❤🥰🖤🂹🎔🂶❧💚💓♥\n",
      "💘❧☙♥🧡🥰🎔💑🤍💗🫀💜🂾🂴💛❤💞🂻💙🂼😍💝😻🤎\n",
      "🂺♡💞😍🂼💙❤🂾🂹💓❦💖💝💔🂳💜💚🥰🂻🂱⼼💑❥🖤\n",
      "♡⺖❣💑💜♥🂱⺗🂺🂹🂷💕🂴💚🎔❤😍😻🂸💘🂲🂵🫀💔\n",
      "💑🤎🎔💕💞♥🂽🧡💖💔🂾⺗⼼🂴🂲❧🫀❤🂼🂶💓💝💗♡\n",
      "⼼💝🂻🂵🂹💕🂾💛🫀💗🖤💟💚💑☙💜🂲♥❣🂼🂷🂱🤍🂺\n",
      "💝🂾🂳🂺🥰❤💚⼼🫀🂹🂲♥😍💜❥⺖💞💕💔💖🖤🂼❣❧\n",
      "💜🂺🂴🤍❣💛💓🫀🂽❦🂷💑💝💕🤎💞🂶❥😍💔☙🂱😻💚\n",
      "💞🎔⼼💟⺖❥🫀🂷🂳🂻☙🂸🂼🥰💚🂴💓🤎💗💝♡😍🂲💘\n",
      "☙💕🂱💔💛🎔💓😻❥🂾🂴💚♥🂶🂷⺖🂸💝🂹💙❣⼼🂻❧\n",
      "💙❦🂸💛🤍🂾🂽💜💘♥💔🂹😍💖💑🂼💟🫀🂻💗🂱😻❧💞\n",
      "🂹😍☙♡⼼💓🂲💑😻❦💕🫀⺗💔🂻🤍💟🂼❧🧡💚⺖🂳💘\n"
     ]
    }
   ],
   "source": [
    "import random\n",
    "num = int(len(hearts)/2)\n",
    "for i in range(100):\n",
    "    print(''.join(random.sample(hearts, num)))"
   ]
  }
 ],
 "metadata": {
  "kernelspec": {
   "display_name": "Python 3 (ipykernel)",
   "language": "python",
   "name": "python3"
  },
  "language_info": {
   "codemirror_mode": {
    "name": "ipython",
    "version": 3
   },
   "file_extension": ".py",
   "mimetype": "text/x-python",
   "name": "python",
   "nbconvert_exporter": "python",
   "pygments_lexer": "ipython3",
   "version": "3.9.13"
  }
 },
 "nbformat": 4,
 "nbformat_minor": 5
}
