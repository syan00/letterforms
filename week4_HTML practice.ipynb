{
 "cells": [
  {
   "cell_type": "markdown",
   "id": "0e5cd8d3",
   "metadata": {},
   "source": [
    "learning html"
   ]
  },
  {
   "cell_type": "code",
   "execution_count": 6,
   "id": "73b206dc",
   "metadata": {},
   "outputs": [
    {
     "data": {
      "text/html": [
       "<p>hello, my name is <i>Yan</i></p>\n",
       "<p>hello, my name is <i>Yan</i>\n",
       "hello, my name is <i>Yan</i></p>\n"
      ],
      "text/plain": [
       "<IPython.core.display.HTML object>"
      ]
     },
     "metadata": {
      "text/html": {
       "isolated": true
      }
     },
     "output_type": "display_data"
    }
   ],
   "source": [
    "%%html --isolated\n",
    "<p>hello, my name is <i>Yan</i></p>\n",
    "<p>hello, my name is <i>Yan</i>\n",
    "hello, my name is <i>Yan</i></p>"
   ]
  },
  {
   "cell_type": "code",
   "execution_count": 2,
   "id": "58860d5c",
   "metadata": {},
   "outputs": [
    {
     "data": {
      "text/html": [
       "<div class=\"headers\" style =\"color:red; background: yellow; font-size: 20px;\">love</div>\n"
      ],
      "text/plain": [
       "<IPython.core.display.HTML object>"
      ]
     },
     "metadata": {
      "text/html": {
       "isolated": true
      }
     },
     "output_type": "display_data"
    }
   ],
   "source": [
    "%%html --isolated\n",
    "<div class=\"headers\" style =\"color:red; background: yellow; font-size: 20px;\">love</div>"
   ]
  },
  {
   "cell_type": "code",
   "execution_count": 3,
   "id": "1f6816cc",
   "metadata": {},
   "outputs": [
    {
     "data": {
      "text/html": [
       "<style>\n",
       "p { color: blue;}\n",
       "</style>\n",
       "<p> Is this blue?</p>\n"
      ],
      "text/plain": [
       "<IPython.core.display.HTML object>"
      ]
     },
     "metadata": {
      "text/html": {
       "isolated": true
      }
     },
     "output_type": "display_data"
    }
   ],
   "source": [
    "%%html --isolated\n",
    "<style>\n",
    "p { color: blue;}\n",
    "</style>\n",
    "<p> Is this blue?</p>"
   ]
  },
  {
   "cell_type": "code",
   "execution_count": 4,
   "id": "defc3389",
   "metadata": {
    "scrolled": true
   },
   "outputs": [
    {
     "data": {
      "text/html": [
       "<style>\n",
       "    em { font-size: 120%;}\n",
       "    h2{ border-bottom: 1px black solid;}\n",
       "    </style>\n",
       "<h2> Hi</h2>\n",
       "<p>really? <em>none</em> </p>\n"
      ],
      "text/plain": [
       "<IPython.core.display.HTML object>"
      ]
     },
     "metadata": {
      "text/html": {
       "isolated": true
      }
     },
     "output_type": "display_data"
    }
   ],
   "source": [
    "%%html --isolated\n",
    "<style>\n",
    "    em { font-size: 120%;}\n",
    "    h2{ border-bottom: 1px black solid;}\n",
    "    </style>\n",
    "<h2> Hi</h2>\n",
    "<p>really? <em>none</em> </p>"
   ]
  },
  {
   "cell_type": "code",
   "execution_count": 5,
   "id": "7dcd8090",
   "metadata": {},
   "outputs": [
    {
     "data": {
      "text/html": [
       "<style type=\"text/css\">\n",
       "    .fancy {text-align: center; font-family: fantasy; line-height: 150%;}\n",
       "</style>\n",
       "<p class = \"fancy\"> SALT salt</p>\n",
       "<p> salt</p>\n"
      ],
      "text/plain": [
       "<IPython.core.display.HTML object>"
      ]
     },
     "metadata": {
      "text/html": {
       "isolated": true
      }
     },
     "output_type": "display_data"
    }
   ],
   "source": [
    "%%html --isolated\n",
    "<style type=\"text/css\">\n",
    "    .fancy {text-align: center; font-family: fantasy; line-height: 150%;}\n",
    "</style>\n",
    "<p class = \"fancy\"> SALT salt</p>\n",
    "<p> salt</p>"
   ]
  },
  {
   "cell_type": "code",
   "execution_count": 6,
   "id": "c16177d4",
   "metadata": {},
   "outputs": [
    {
     "data": {
      "text/html": [
       "<style>\n",
       "    #fancy {font-family: cursive; font-size: 20px; font-style: italic;}\n",
       "</style>\n",
       "<p> This is tancy?</p>\n",
       "<p id=\"fancy\"> This is fancy?</p>\n"
      ],
      "text/plain": [
       "<IPython.core.display.HTML object>"
      ]
     },
     "metadata": {
      "text/html": {
       "isolated": true
      }
     },
     "output_type": "display_data"
    }
   ],
   "source": [
    "%%html --isolated\n",
    "<style>\n",
    "    #fancy {font-family: cursive; font-size: 20px; font-style: italic;}\n",
    "</style>\n",
    "<p> This is tancy?</p>\n",
    "<p id=\"fancy\"> This is fancy?</p>\n"
   ]
  },
  {
   "cell_type": "code",
   "execution_count": 8,
   "id": "ee8362eb",
   "metadata": {},
   "outputs": [
    {
     "data": {
      "text/html": [
       "<style>\n",
       "    .flower, .strawberry {font-size: 20px; color: pink;}\n",
       "</style>\n",
       "<p><span class = \"flower\"> Flower are Blossoming </span>\n",
       "<span class= \"strawberry\"> There are some <em>white</em> strawberries.<span> </p>\n"
      ],
      "text/plain": [
       "<IPython.core.display.HTML object>"
      ]
     },
     "metadata": {
      "text/html": {
       "isolated": true
      }
     },
     "output_type": "display_data"
    }
   ],
   "source": [
    "%%html --isolated\n",
    "<style>\n",
    "    .flower, .strawberry {font-size: 20px; color: pink;}\n",
    "</style>\n",
    "<p><span class = \"flower\"> Flower are Blossoming </span>\n",
    "<span class= \"strawberry\"> There are some <em>white</em> strawberries.<span> </p>"
   ]
  },
  {
   "cell_type": "code",
   "execution_count": 21,
   "id": "e2c064c2",
   "metadata": {},
   "outputs": [
    {
     "data": {
      "text/html": [
       "<style type=\"text/css\">\n",
       "    .weird:visited {color: orange;}\n",
       "    .weird:active {font-size: 150%;}\n",
       "    .weird:hover {font-size: 200%; color:red; border: 5px pink solid;}\n",
       "</style>\n",
       "<p><a href=\"https://www.decontextualize.com/\" class = \"weird\"> Link Homework</a>\n",
       "<em style=\"display: block; position: relative; left: 15px; top: 5px\">Homework paragraph</em>compare to a normal paragraph</p>\n"
      ],
      "text/plain": [
       "<IPython.core.display.HTML object>"
      ]
     },
     "metadata": {
      "text/html": {
       "isolated": true
      }
     },
     "output_type": "display_data"
    }
   ],
   "source": [
    "%%html --isolated\n",
    "<style type=\"text/css\">\n",
    "    .weird:visited {color: orange;}\n",
    "    .weird:active {font-size: 150%;}\n",
    "    .weird:hover {font-size: 200%; color:red; border: 5px pink solid;}\n",
    "</style>\n",
    "<p><a href=\"https://www.decontextualize.com/\" class = \"weird\"> Link Homework</a>\n",
    "<em style=\"display: block; position: relative; left: 15px; top: 5px\">Homework paragraph</em>compare to a normal paragraph</p>"
   ]
  },
  {
   "cell_type": "code",
   "execution_count": null,
   "id": "3969e148",
   "metadata": {},
   "outputs": [],
   "source": []
  }
 ],
 "metadata": {
  "kernelspec": {
   "display_name": "Python 3 (ipykernel)",
   "language": "python",
   "name": "python3"
  },
  "language_info": {
   "codemirror_mode": {
    "name": "ipython",
    "version": 3
   },
   "file_extension": ".py",
   "mimetype": "text/x-python",
   "name": "python",
   "nbconvert_exporter": "python",
   "pygments_lexer": "ipython3",
   "version": "3.9.13"
  }
 },
 "nbformat": 4,
 "nbformat_minor": 5
}
