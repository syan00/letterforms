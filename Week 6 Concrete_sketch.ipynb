{
 "cells": [
  {
   "cell_type": "code",
   "execution_count": 1,
   "id": "c3fd0c2b",
   "metadata": {},
   "outputs": [
    {
     "name": "stdout",
     "output_type": "stream",
     "text": [
      "0.36225133971404044\n",
      "We have0.36225133971404044 widgets\n"
     ]
    }
   ],
   "source": [
    "import random\n",
    "\n",
    "val = random.random()\n",
    "print(val)\n",
    "s = \"We have\" + str(val) + \" widgets\"\n",
    "print(s)"
   ]
  },
  {
   "cell_type": "code",
   "execution_count": 2,
   "id": "905a2be5",
   "metadata": {},
   "outputs": [
    {
     "name": "stdout",
     "output_type": "stream",
     "text": [
      "<div style = \"font-family:Helvetica; float: left;\">hello</div>\n"
     ]
    }
   ],
   "source": [
    "font = random.choice([\"'Comic Sans MS'\", \"'Times New Roman'\", \"Helvetica\"])\n",
    "float_val = random.choice([\"left\", \"right\"])\n",
    "content = \"hello\"\n",
    "s = '<div style = \"font-family:'+font+\"; float: \"+float_val+';\">' + content + \"</div>\"\n",
    "print(s)"
   ]
  },
  {
   "cell_type": "code",
   "execution_count": 3,
   "id": "60146f52",
   "metadata": {},
   "outputs": [
    {
     "data": {
      "text/plain": [
       "\"On Feb, we'll have 0.10296190080177692 widgets in stock.\""
      ]
     },
     "execution_count": 3,
     "metadata": {},
     "output_type": "execute_result"
    }
   ],
   "source": [
    "s = \"On {date}, we'll have {count} widgets in stock.\"\n",
    "s.format(date =\"Feb\", count = random.random())"
   ]
  },
  {
   "cell_type": "code",
   "execution_count": 4,
   "id": "ce6df1a4",
   "metadata": {},
   "outputs": [
    {
     "name": "stdout",
     "output_type": "stream",
     "text": [
      "<div style =\"font-family: Helvetica; float: left;\">hello</div>\n"
     ]
    }
   ],
   "source": [
    "font = random.choice([\"'Comic Sans MS'\", \"'Times New Roman'\", \"Helvetica\"])\n",
    "float_val = random.choice([\"left\", \"right\"])\n",
    "content = \"hello\"\n",
    "s = '<div style =\"font-family: {font}; float: {float_val};\">{content}</div>'\n",
    "print(s.format(font = font, float_val = float_val, content=content))"
   ]
  },
  {
   "cell_type": "code",
   "execution_count": 5,
   "id": "e32ff282",
   "metadata": {},
   "outputs": [
    {
     "name": "stdout",
     "output_type": "stream",
     "text": [
      "<div style =\"font-family: Helvetica; float: left;\">hello</div>\n"
     ]
    }
   ],
   "source": [
    "vals = {\n",
    "    'font': random.choice([\"'Comic Sans MS'\", \"'Times New Roman'\", \"Helvetica\"]),\n",
    "    'float_val': random.choice([\"left\", \"right\"]),\n",
    "    'content': \"hello\"\n",
    "}\n",
    "s = '<div style =\"font-family: {font}; float: {float_val};\">{content}</div>'\n",
    "print(s.format(**vals))"
   ]
  },
  {
   "cell_type": "code",
   "execution_count": 6,
   "id": "72db7928",
   "metadata": {},
   "outputs": [
    {
     "data": {
      "text/plain": [
       "'OnFeb 17, we will456'"
      ]
     },
     "execution_count": 6,
     "metadata": {},
     "output_type": "execute_result"
    }
   ],
   "source": [
    "s =\"On{0}, we will{1}\"\n",
    "s.format(\"Feb 17\", 456)"
   ]
  },
  {
   "cell_type": "code",
   "execution_count": 7,
   "id": "48fa1a47",
   "metadata": {},
   "outputs": [
    {
     "name": "stdout",
     "output_type": "stream",
     "text": [
      "saltSALTsaltSALT\n"
     ]
    }
   ],
   "source": [
    "s = '{0}{1}{0}{1}'.format('salt','SALT')\n",
    "print(s)"
   ]
  },
  {
   "cell_type": "code",
   "execution_count": 8,
   "id": "c5e5ec01",
   "metadata": {},
   "outputs": [
    {
     "data": {
      "text/plain": [
       "'hello fnd'"
      ]
     },
     "execution_count": 8,
     "metadata": {},
     "output_type": "execute_result"
    }
   ],
   "source": [
    "'hello {}'.format(\"fnd\")"
   ]
  },
  {
   "cell_type": "code",
   "execution_count": 9,
   "id": "926ae634",
   "metadata": {},
   "outputs": [
    {
     "data": {
      "text/plain": [
       "'GM,                                                Yan'"
      ]
     },
     "execution_count": 9,
     "metadata": {},
     "output_type": "execute_result"
    }
   ],
   "source": [
    "s = \"GM, {name:>50}\"\n",
    "s.format(name=\"Yan\")"
   ]
  },
  {
   "cell_type": "code",
   "execution_count": 10,
   "id": "4e987bc8",
   "metadata": {
    "scrolled": true
   },
   "outputs": [
    {
     "data": {
      "text/plain": [
       "'GM,                        Yan                        '"
      ]
     },
     "execution_count": 10,
     "metadata": {},
     "output_type": "execute_result"
    }
   ],
   "source": [
    "s = \"GM, {name:^50}\"\n",
    "s.format(name=\"Yan\")"
   ]
  },
  {
   "cell_type": "code",
   "execution_count": 11,
   "id": "e18b5944",
   "metadata": {},
   "outputs": [
    {
     "data": {
      "text/plain": [
       "'GM, 😆😆Yan'"
      ]
     },
     "execution_count": 11,
     "metadata": {},
     "output_type": "execute_result"
    }
   ],
   "source": [
    "s = \"GM, {name:😆>5}\"\n",
    "s.format(name=\"Yan\")"
   ]
  },
  {
   "cell_type": "code",
   "execution_count": 12,
   "id": "c653be76",
   "metadata": {},
   "outputs": [
    {
     "data": {
      "text/plain": [
       "'GM, AAAAAAAAAAAAAAAAAAAAAAAAAAAAAAAAAAAAAAAAAAAAAAAYan'"
      ]
     },
     "execution_count": 12,
     "metadata": {},
     "output_type": "execute_result"
    }
   ],
   "source": [
    "s = \"GM, {name:A>50}\"\n",
    "s.format(name=\"Yan\")"
   ]
  },
  {
   "cell_type": "code",
   "execution_count": 13,
   "id": "f18635ce",
   "metadata": {},
   "outputs": [
    {
     "data": {
      "text/plain": [
       "'10100'"
      ]
     },
     "execution_count": 13,
     "metadata": {},
     "output_type": "execute_result"
    }
   ],
   "source": [
    "\"{val:b}\".format(val=20)"
   ]
  },
  {
   "cell_type": "code",
   "execution_count": 14,
   "id": "299c0083",
   "metadata": {},
   "outputs": [
    {
     "data": {
      "text/plain": [
       "'00010100'"
      ]
     },
     "execution_count": 14,
     "metadata": {},
     "output_type": "execute_result"
    }
   ],
   "source": [
    "\"{val:0>8b}\".format(val=20)"
   ]
  },
  {
   "cell_type": "code",
   "execution_count": 15,
   "id": "938f8924",
   "metadata": {},
   "outputs": [
    {
     "data": {
      "text/plain": [
       "'31'"
      ]
     },
     "execution_count": 15,
     "metadata": {},
     "output_type": "execute_result"
    }
   ],
   "source": [
    "#decimal\n",
    "\"{val:x}\".format(val=49)"
   ]
  },
  {
   "cell_type": "code",
   "execution_count": 16,
   "id": "602f2271",
   "metadata": {},
   "outputs": [
    {
     "data": {
      "text/plain": [
       "'#14c8c8'"
      ]
     },
     "execution_count": 16,
     "metadata": {},
     "output_type": "execute_result"
    }
   ],
   "source": [
    "\"#{r:x}{g:x}{b:x}\".format(r=20, g=200, b=200)"
   ]
  },
  {
   "cell_type": "code",
   "execution_count": 17,
   "id": "e46e2bc4",
   "metadata": {},
   "outputs": [
    {
     "data": {
      "text/plain": [
       "'how much is Pi? pi = 3.14286'"
      ]
     },
     "execution_count": 17,
     "metadata": {},
     "output_type": "execute_result"
    }
   ],
   "source": [
    "\"how much is Pi? pi = {val:.5f}\".format(val=22/7)"
   ]
  },
  {
   "cell_type": "code",
   "execution_count": 18,
   "id": "ea35483c",
   "metadata": {},
   "outputs": [
    {
     "name": "stdout",
     "output_type": "stream",
     "text": [
      "😎😎14.15726\n",
      "😎😎46.53284\n",
      "😎😎69.71555\n",
      "😎😎36.49708\n",
      "😎😎24.13559\n",
      "😎😎91.35064\n",
      "😎😎69.26186\n",
      "😎😎54.28543\n",
      "😎😎10.19309\n",
      "😎😎16.12032\n"
     ]
    }
   ],
   "source": [
    "vals =[random.random()*100 for i in range(10)]\n",
    "for item in vals:\n",
    "    print(\"{val:😎>10.5f}\".format(val = item))"
   ]
  },
  {
   "cell_type": "markdown",
   "id": "44454459",
   "metadata": {},
   "source": [
    "F String"
   ]
  },
  {
   "cell_type": "code",
   "execution_count": 19,
   "id": "22331f8d",
   "metadata": {},
   "outputs": [
    {
     "name": "stdout",
     "output_type": "stream",
     "text": [
      "<div style=\"font-family: 'Times New Roman'; float: right;\">hello!</div>\n"
     ]
    }
   ],
   "source": [
    "font = random.choice([\"'Comic Sans MS'\", \"'Times New Roman'\", \"Helvetica\"])\n",
    "float_val = random.choice([\"left\", \"right\"])\n",
    "content = \"hello!\"\n",
    "s = f'<div style=\"font-family: {font}; float: {float_val};\">{content}</div>'\n",
    "print(s)"
   ]
  },
  {
   "cell_type": "code",
   "execution_count": 20,
   "id": "5753ba82",
   "metadata": {},
   "outputs": [
    {
     "name": "stdout",
     "output_type": "stream",
     "text": [
      "HELLO\n"
     ]
    }
   ],
   "source": [
    "message = \"hello\"\n",
    "print(f'{message.upper()}')"
   ]
  },
  {
   "cell_type": "code",
   "execution_count": 21,
   "id": "9db62d04",
   "metadata": {},
   "outputs": [
    {
     "name": "stdout",
     "output_type": "stream",
     "text": [
      "SALT\n"
     ]
    }
   ],
   "source": [
    "words =[\"s\", \"a\",\"l\",\"t\"]\n",
    "print(f'{\"\".join([w.upper() for w in words])}')"
   ]
  },
  {
   "cell_type": "markdown",
   "id": "b647a8b5",
   "metadata": {},
   "source": [
    "<h1>Chapbook"
   ]
  },
  {
   "cell_type": "code",
   "execution_count": 22,
   "id": "08adad6b",
   "metadata": {},
   "outputs": [],
   "source": [
    "html_tmpl = \"\"\"\n",
    "<!DOCTYPE html>\n",
    "<html lang=\"en\">\n",
    "<head>\n",
    "    <meta charset=\"utf-8\">\n",
    "    <title>{title}: A Computer-generated Chapbook</title>\n",
    "    <style>\n",
    "    h2 {{\n",
    "        page-break-before: always;\n",
    "    }}\n",
    "    p {{\n",
    "        width: 14em;\n",
    "        font-size: 14pt;\n",
    "    }}\n",
    "    </style>\n",
    "</head>\n",
    "<body>\n",
    "<h1>{title}</h1>\n",
    "{content}\n",
    "</body>\n",
    "</html>\n",
    "\"\"\""
   ]
  },
  {
   "cell_type": "code",
   "execution_count": 23,
   "id": "33c2b84f",
   "metadata": {
    "scrolled": false
   },
   "outputs": [],
   "source": [
    "html_src = html_tmpl.format(title=\"Test\", content =\"This is a test\")"
   ]
  },
  {
   "cell_type": "code",
   "execution_count": 24,
   "id": "105753fc",
   "metadata": {},
   "outputs": [
    {
     "data": {
      "text/html": [
       "\n",
       "<!DOCTYPE html>\n",
       "<html lang=\"en\">\n",
       "<head>\n",
       "    <meta charset=\"utf-8\">\n",
       "    <title>Test: A Computer-generated Chapbook</title>\n",
       "    <style>\n",
       "    h2 {\n",
       "        page-break-before: always;\n",
       "    }\n",
       "    p {\n",
       "        width: 14em;\n",
       "        font-size: 14pt;\n",
       "    }\n",
       "    </style>\n",
       "</head>\n",
       "<body>\n",
       "<h1>Test</h1>\n",
       "This is a test\n",
       "</body>\n",
       "</html>\n"
      ],
      "text/plain": [
       "<IPython.core.display.HTML object>"
      ]
     },
     "metadata": {
      "isolated": true
     },
     "output_type": "display_data"
    }
   ],
   "source": [
    "from IPython.display import display, HTML\n",
    "def show_html(src):\n",
    "    return display(HTML(src), metadata = dict(isolated=True))\n",
    "show_html(html_src)"
   ]
  },
  {
   "cell_type": "code",
   "execution_count": 25,
   "id": "3dac0616",
   "metadata": {},
   "outputs": [],
   "source": [
    "with open(\"test.html\", \"w\") as fh:\n",
    "    fh.write(html_src)"
   ]
  },
  {
   "cell_type": "code",
   "execution_count": 26,
   "id": "5c703df8",
   "metadata": {},
   "outputs": [],
   "source": [
    "!open test.html"
   ]
  },
  {
   "cell_type": "code",
   "execution_count": 27,
   "id": "41b6ef54",
   "metadata": {},
   "outputs": [
    {
     "name": "stdout",
     "output_type": "stream",
     "text": [
      "<h2>1. The Outdoors</h2>\n",
      "<p>The outdoors tautened the boasting. Meanwhile, the professional intercession swung.</p>\n",
      "<h2>2. The Outdoors</h2>\n",
      "<p>The outdoors corroded the boasting. Nevertheless, the codified defection corroded.</p>\n",
      "<h2>3. The Line-up</h2>\n",
      "<p>The line-up charred the intercession. Nearby, the disheveled intercession hastened.</p>\n",
      "<h2>4. The Intercession</h2>\n",
      "<p>The intercession deployed the outdoors. Later, the codified defection swung.</p>\n",
      "<h2>5. The Line-up</h2>\n",
      "<p>The line-up dragged the intercession. Nearby, the long-held defection drilled.</p>\n",
      "<h2>6. The Outdoors</h2>\n",
      "<p>The outdoors deployed the outdoors. Meanwhile, the disheveled equator corroded.</p>\n",
      "<h2>7. The Outdoors</h2>\n",
      "<p>The outdoors hastened the intercession. Nearby, the long-held equator tautened.</p>\n",
      "<h2>8. The Line-up</h2>\n",
      "<p>The line-up charred the terrier. Nevertheless, the disheveled defection hastened.</p>\n",
      "<h2>9. The Intercession</h2>\n",
      "<p>The intercession hastened the equator. Meanwhile, the corporatist outdoors corroded.</p>\n",
      "<h2>10. The Boasting</h2>\n",
      "<p>The boasting dragged the terrier. Meanwhile, the perplexed outdoors swung.</p>\n",
      "\n"
     ]
    }
   ],
   "source": [
    "# number of pages to generate\n",
    "n_pages = 10\n",
    "\n",
    "# vocabulary\n",
    "nouns = ['hallway', 'intercession', 'equator', 'boasting', 'outdoors', 'terrier', 'line-up', 'defection']\n",
    "adjectives = ['disheveled', 'long-held', 'aggravated', 'occurring', 'perplexed', 'professional', 'corporatist', 'codified']\n",
    "verbs = ['corroded', 'deployed', 'tautened', 'dragged', 'swung', 'hastened', 'drilled', 'charred']\n",
    "adverbs = ['nearby', 'meanwhile', 'also', 'nevertheless', 'later']\n",
    "content = \"\"\n",
    "for i in range(n_pages):\n",
    "    # pick words for this story\n",
    "    protagonist = random.choice(nouns)\n",
    "    antagonist = random.choice(nouns)\n",
    "    onlooker = random.choice(nouns)\n",
    "    adj = random.choice(adjectives)\n",
    "    adv = random.choice(adverbs)\n",
    "    verb1 = random.choice(verbs)\n",
    "    verb2 = random.choice(verbs)\n",
    "    # concatenate together a series of f-strings...\n",
    "    story = f\"<h2>{i+1}. The {protagonist.capitalize()}</h2>\\n\"\n",
    "    story += f\"<p>The {protagonist} {verb1} the {antagonist}. \"\n",
    "    story += f\"{adv.capitalize()}, the {adj} {onlooker} {verb2}.</p>\"\n",
    "    story += \"\\n\"\n",
    "    # and then add to the content\n",
    "    content += story\n",
    "print(content)"
   ]
  },
  {
   "cell_type": "code",
   "execution_count": 28,
   "id": "d2f27c1f",
   "metadata": {},
   "outputs": [],
   "source": [
    "html_src = html_tmpl.format(title=random.choice(nouns).capitalize(), content=content)"
   ]
  },
  {
   "cell_type": "code",
   "execution_count": 29,
   "id": "447ffe72",
   "metadata": {},
   "outputs": [
    {
     "data": {
      "text/html": [
       "\n",
       "<!DOCTYPE html>\n",
       "<html lang=\"en\">\n",
       "<head>\n",
       "    <meta charset=\"utf-8\">\n",
       "    <title>Outdoors: A Computer-generated Chapbook</title>\n",
       "    <style>\n",
       "    h2 {\n",
       "        page-break-before: always;\n",
       "    }\n",
       "    p {\n",
       "        width: 14em;\n",
       "        font-size: 14pt;\n",
       "    }\n",
       "    </style>\n",
       "</head>\n",
       "<body>\n",
       "<h1>Outdoors</h1>\n",
       "<h2>1. The Outdoors</h2>\n",
       "<p>The outdoors tautened the boasting. Meanwhile, the professional intercession swung.</p>\n",
       "<h2>2. The Outdoors</h2>\n",
       "<p>The outdoors corroded the boasting. Nevertheless, the codified defection corroded.</p>\n",
       "<h2>3. The Line-up</h2>\n",
       "<p>The line-up charred the intercession. Nearby, the disheveled intercession hastened.</p>\n",
       "<h2>4. The Intercession</h2>\n",
       "<p>The intercession deployed the outdoors. Later, the codified defection swung.</p>\n",
       "<h2>5. The Line-up</h2>\n",
       "<p>The line-up dragged the intercession. Nearby, the long-held defection drilled.</p>\n",
       "<h2>6. The Outdoors</h2>\n",
       "<p>The outdoors deployed the outdoors. Meanwhile, the disheveled equator corroded.</p>\n",
       "<h2>7. The Outdoors</h2>\n",
       "<p>The outdoors hastened the intercession. Nearby, the long-held equator tautened.</p>\n",
       "<h2>8. The Line-up</h2>\n",
       "<p>The line-up charred the terrier. Nevertheless, the disheveled defection hastened.</p>\n",
       "<h2>9. The Intercession</h2>\n",
       "<p>The intercession hastened the equator. Meanwhile, the corporatist outdoors corroded.</p>\n",
       "<h2>10. The Boasting</h2>\n",
       "<p>The boasting dragged the terrier. Meanwhile, the perplexed outdoors swung.</p>\n",
       "\n",
       "</body>\n",
       "</html>\n"
      ],
      "text/plain": [
       "<IPython.core.display.HTML object>"
      ]
     },
     "metadata": {
      "isolated": true
     },
     "output_type": "display_data"
    }
   ],
   "source": [
    "show_html(html_src)"
   ]
  },
  {
   "cell_type": "code",
   "execution_count": 30,
   "id": "b203e8a7",
   "metadata": {},
   "outputs": [],
   "source": [
    "with open(\"chapbook.html\", \"w\") as fh:\n",
    "    fh.write(html_src)"
   ]
  },
  {
   "cell_type": "code",
   "execution_count": 31,
   "id": "e7e8fc81",
   "metadata": {},
   "outputs": [],
   "source": [
    "!open chapbook.html"
   ]
  },
  {
   "cell_type": "markdown",
   "id": "4e7d71a6",
   "metadata": {},
   "source": [
    "<h1> Composition"
   ]
  },
  {
   "cell_type": "code",
   "execution_count": 32,
   "id": "b2f718aa",
   "metadata": {},
   "outputs": [],
   "source": [
    "import random\n",
    "import math"
   ]
  },
  {
   "cell_type": "code",
   "execution_count": 33,
   "id": "cc953749",
   "metadata": {},
   "outputs": [],
   "source": [
    "from IPython.display import display, HTML\n",
    "def show_html(src):\n",
    "    return display(HTML(src), metadata=dict(isolated=True))"
   ]
  },
  {
   "cell_type": "code",
   "execution_count": 34,
   "id": "218a00d5",
   "metadata": {},
   "outputs": [
    {
     "data": {
      "text/html": [
       "\n",
       "<body>\n",
       "<p style=\"height: 240px; background-image: url(https://i.giphy.com/media/OmK8lulOMQ9XO/giphy-downsized.gif);\">Hello!</h1>\n",
       "</body>\n",
       "</html>\n"
      ],
      "text/plain": [
       "<IPython.core.display.HTML object>"
      ]
     },
     "metadata": {
      "isolated": true
     },
     "output_type": "display_data"
    }
   ],
   "source": [
    "html_src = \"\"\"\n",
    "<body>\n",
    "<p style=\"height: 240px; background-image: url(https://i.giphy.com/media/OmK8lulOMQ9XO/giphy-downsized.gif);\">Hello!</h1>\n",
    "</body>\n",
    "</html>\n",
    "\"\"\"\n",
    "show_html(html_src)"
   ]
  },
  {
   "cell_type": "code",
   "execution_count": 35,
   "id": "f777f9d4",
   "metadata": {},
   "outputs": [],
   "source": [
    "html_tmpl=\"\"\"\n",
    "<DOCTYPE html>\n",
    "<html lang=\"en\">\n",
    "<head>\n",
    "    <meta charset=\"utf-8\">\n",
    "    <title>{title}</title>\n",
    "    <style>\n",
    "    html {{min-height: 32em; overflow: hidden;}}\n",
    "    </style>\n",
    "<body>\n",
    "{content}\n",
    "</body>\n",
    "</html>\n",
    "\"\"\""
   ]
  },
  {
   "cell_type": "code",
   "execution_count": 36,
   "id": "630075af",
   "metadata": {},
   "outputs": [
    {
     "name": "stdout",
     "output_type": "stream",
     "text": [
      "\n",
      "<DOCTYPE html>\n",
      "<html lang=\"en\">\n",
      "<head>\n",
      "    <meta charset=\"utf-8\">\n",
      "    <title>first HTML</title>\n",
      "    <style>\n",
      "    html {min-height: 32em; overflow: hidden;}\n",
      "    </style>\n",
      "<body>\n",
      "<h1>Hello!</h1>\n",
      "</body>\n",
      "</html>\n",
      "\n"
     ]
    }
   ],
   "source": [
    "interp_src = html_tmpl.format(title=\"first HTML\", content=\"<h1>Hello!</h1>\")\n",
    "print(interp_src)"
   ]
  },
  {
   "cell_type": "code",
   "execution_count": 37,
   "id": "be9c57f3",
   "metadata": {},
   "outputs": [
    {
     "data": {
      "text/html": [
       "\n",
       "<DOCTYPE html>\n",
       "<html lang=\"en\">\n",
       "<head>\n",
       "    <meta charset=\"utf-8\">\n",
       "    <title>first HTML</title>\n",
       "    <style>\n",
       "    html {min-height: 32em; overflow: hidden;}\n",
       "    </style>\n",
       "<body>\n",
       "<h1>Hello!</h1>\n",
       "</body>\n",
       "</html>\n"
      ],
      "text/plain": [
       "<IPython.core.display.HTML object>"
      ]
     },
     "metadata": {
      "isolated": true
     },
     "output_type": "display_data"
    }
   ],
   "source": [
    "show_html(interp_src)"
   ]
  },
  {
   "cell_type": "code",
   "execution_count": 38,
   "id": "e39976de",
   "metadata": {},
   "outputs": [
    {
     "data": {
      "text/plain": [
       "208"
      ]
     },
     "execution_count": 38,
     "metadata": {},
     "output_type": "execute_result"
    }
   ],
   "source": [
    "open(\"week6_test.html\", \"w\").write(interp_src)"
   ]
  },
  {
   "cell_type": "code",
   "execution_count": 39,
   "id": "b8b3e94c",
   "metadata": {},
   "outputs": [],
   "source": [
    "!open week6_test.html"
   ]
  },
  {
   "cell_type": "code",
   "execution_count": 40,
   "id": "9afbb2e7",
   "metadata": {
    "scrolled": true
   },
   "outputs": [
    {
     "data": {
      "text/html": [
       "\n",
       "<DOCTYPE html>\n",
       "<html lang=\"en\">\n",
       "<head>\n",
       "    <meta charset=\"utf-8\">\n",
       "    <title>hello</title>\n",
       "    <style>\n",
       "    html {min-height: 32em; overflow: hidden;}\n",
       "    </style>\n",
       "<body>\n",
       "<div style='position: absolute; left: 15%; top:50px;'>test</div>\n",
       "</body>\n",
       "</html>\n"
      ],
      "text/plain": [
       "<IPython.core.display.HTML object>"
      ]
     },
     "metadata": {
      "isolated": true
     },
     "output_type": "display_data"
    }
   ],
   "source": [
    "my_div = \"<div style='position: absolute; left: 15%; top:50px;'>test</div>\"\n",
    "html_src=html_tmpl.format(title=\"hello\", content=my_div)\n",
    "show_html(html_src)"
   ]
  },
  {
   "cell_type": "code",
   "execution_count": 41,
   "id": "fc7c4c15",
   "metadata": {},
   "outputs": [
    {
     "data": {
      "text/html": [
       "\n",
       "<DOCTYPE html>\n",
       "<html lang=\"en\">\n",
       "<head>\n",
       "    <meta charset=\"utf-8\">\n",
       "    <title>salt1</title>\n",
       "    <style>\n",
       "    html {min-height: 32em; overflow: hidden;}\n",
       "    </style>\n",
       "<body>\n",
       "<div style='position: absolute; left:52.26865945651562%; top: 17.88143506831196%; color: rgba(115, 129, 141, 0.4003386925379756)'>s</div><div style='position: absolute; left:17.25717568179612%; top: 44.49096857557841%; color: rgba(115, 129, 141, 0.8721117371554861)'>s</div><div style='position: absolute; left:57.87644744516698%; top: 88.79812183389068%; color: rgba(115, 129, 141, 0.1351884957005015)'>s</div><div style='position: absolute; left:49.12900169007113%; top: 20.90870952071837%; color: rgba(115, 129, 141, 0.9365227671725626)'>l</div><div style='position: absolute; left:99.91715744277279%; top: 72.31961364086392%; color: rgba(115, 129, 141, 0.06440870515601349)'>a</div><div style='position: absolute; left:95.80242962544634%; top: 10.033808570789915%; color: rgba(115, 129, 141, 0.7080995413338849)'>t</div><div style='position: absolute; left:72.4257620986594%; top: 0.44246198970950834%; color: rgba(115, 129, 141, 0.7163055827253778)'>a</div><div style='position: absolute; left:29.871680117164413%; top: 99.60186383786143%; color: rgba(115, 129, 141, 0.5536978751154279)'>s</div><div style='position: absolute; left:88.98984041879457%; top: 0.5328961948603994%; color: rgba(115, 129, 141, 0.07822337845725025)'>t</div><div style='position: absolute; left:86.2466555103812%; top: 7.897518570363504%; color: rgba(115, 129, 141, 0.4071643885060099)'>a</div><div style='position: absolute; left:17.86866601955488%; top: 32.34005647710213%; color: rgba(115, 129, 141, 0.22189801850682145)'>s</div><div style='position: absolute; left:73.65186446767653%; top: 57.881791799781034%; color: rgba(115, 129, 141, 0.364021644487613)'>l</div><div style='position: absolute; left:66.41507866408176%; top: 3.941564325546565%; color: rgba(115, 129, 141, 0.8314212104703447)'>s</div><div style='position: absolute; left:78.16547797626829%; top: 84.13812578892205%; color: rgba(115, 129, 141, 0.3659918227029051)'>l</div><div style='position: absolute; left:43.05544223792296%; top: 94.90617976844524%; color: rgba(115, 129, 141, 0.4649123214941573)'>a</div><div style='position: absolute; left:8.831475390085908%; top: 97.24361850108401%; color: rgba(115, 129, 141, 0.7923539748164683)'>a</div><div style='position: absolute; left:64.28628538473387%; top: 55.92216784917569%; color: rgba(115, 129, 141, 0.655794378296842)'>a</div><div style='position: absolute; left:66.57881229786793%; top: 68.71582157068487%; color: rgba(115, 129, 141, 0.20250274397807677)'>t</div><div style='position: absolute; left:37.70842403413327%; top: 17.716871658035792%; color: rgba(115, 129, 141, 0.26661576011686805)'>t</div><div style='position: absolute; left:69.4696679743438%; top: 98.11218408713931%; color: rgba(115, 129, 141, 0.060980136940018026)'>s</div><div style='position: absolute; left:77.11922098770891%; top: 86.7637863093957%; color: rgba(115, 129, 141, 0.6592315243681687)'>l</div><div style='position: absolute; left:24.20507536696128%; top: 70.71043412007889%; color: rgba(115, 129, 141, 0.5753449794325876)'>s</div><div style='position: absolute; left:90.02588860905576%; top: 66.97406298388333%; color: rgba(115, 129, 141, 0.6763543654501821)'>a</div><div style='position: absolute; left:78.08090166989959%; top: 42.53395442780912%; color: rgba(115, 129, 141, 0.41790238485340425)'>s</div><div style='position: absolute; left:32.48273313243091%; top: 25.99847240573563%; color: rgba(115, 129, 141, 0.9236236101149768)'>t</div><div style='position: absolute; left:58.03767213362031%; top: 77.92331834687496%; color: rgba(115, 129, 141, 0.38004205293609417)'>s</div><div style='position: absolute; left:49.06158200139058%; top: 78.51649215887291%; color: rgba(115, 129, 141, 0.45957713245022636)'>s</div><div style='position: absolute; left:19.080851227891927%; top: 18.708311077717276%; color: rgba(115, 129, 141, 0.11074528177203846)'>l</div><div style='position: absolute; left:66.87527493702981%; top: 43.13741891101044%; color: rgba(115, 129, 141, 0.8485659549622707)'>a</div><div style='position: absolute; left:90.50809145126412%; top: 83.43577821231398%; color: rgba(115, 129, 141, 0.19995539936080464)'>l</div><div style='position: absolute; left:91.53795564365095%; top: 61.58687673369726%; color: rgba(115, 129, 141, 0.37267161607095056)'>a</div><div style='position: absolute; left:22.812297083681234%; top: 42.18247369014355%; color: rgba(115, 129, 141, 0.01609963298521877)'>l</div><div style='position: absolute; left:74.54978228508881%; top: 90.60404636415561%; color: rgba(115, 129, 141, 0.9169739890097275)'>t</div><div style='position: absolute; left:69.52214332163707%; top: 57.079099636777364%; color: rgba(115, 129, 141, 0.41540584878442444)'>s</div><div style='position: absolute; left:19.917308417414215%; top: 60.68494983074125%; color: rgba(115, 129, 141, 0.6008789259899835)'>t</div><div style='position: absolute; left:10.791591978491134%; top: 72.05368347407901%; color: rgba(115, 129, 141, 0.3871893008601309)'>l</div><div style='position: absolute; left:51.98279192561549%; top: 62.75432741181268%; color: rgba(115, 129, 141, 0.6605386168543312)'>s</div><div style='position: absolute; left:76.77887419926702%; top: 57.54090370579459%; color: rgba(115, 129, 141, 0.30449685372690993)'>s</div><div style='position: absolute; left:34.168517707520394%; top: 97.90141656861887%; color: rgba(115, 129, 141, 0.7157570098132731)'>t</div><div style='position: absolute; left:23.709842056602838%; top: 36.732223740987%; color: rgba(115, 129, 141, 0.1977427966448403)'>s</div><div style='position: absolute; left:89.44718127688336%; top: 60.43834623106663%; color: rgba(115, 129, 141, 0.05562162367416512)'>l</div><div style='position: absolute; left:38.490036932746754%; top: 40.49070575031012%; color: rgba(115, 129, 141, 0.82433800900058)'>l</div><div style='position: absolute; left:81.72562791818103%; top: 49.390931869171204%; color: rgba(115, 129, 141, 0.4259944343973616)'>s</div><div style='position: absolute; left:14.242010921526072%; top: 51.74165035422653%; color: rgba(115, 129, 141, 0.9350824244520229)'>t</div><div style='position: absolute; left:93.16366109981445%; top: 54.8324745749519%; color: rgba(115, 129, 141, 0.8775761206801357)'>t</div><div style='position: absolute; left:31.342779404534447%; top: 3.5909425219506796%; color: rgba(115, 129, 141, 0.6254799814374887)'>l</div><div style='position: absolute; left:15.978744377360899%; top: 51.82490902101977%; color: rgba(115, 129, 141, 0.43699917104303243)'>l</div><div style='position: absolute; left:80.80730076568527%; top: 89.09230895184318%; color: rgba(115, 129, 141, 0.08973051393353282)'>s</div><div style='position: absolute; left:16.82733661687601%; top: 27.907139379561052%; color: rgba(115, 129, 141, 0.03678005550160812)'>t</div><div style='position: absolute; left:60.498592133661575%; top: 37.51204262928548%; color: rgba(115, 129, 141, 0.07444877892171475)'>s</div>\n",
       "</body>\n",
       "</html>\n"
      ],
      "text/plain": [
       "<IPython.core.display.HTML object>"
      ]
     },
     "metadata": {
      "isolated": true
     },
     "output_type": "display_data"
    }
   ],
   "source": [
    "divs =[]\n",
    "for i in range(50):\n",
    "    x = random.random()*100\n",
    "    y = random.random()*100\n",
    "    alpha = random.random()\n",
    "    letter = random.choice([\"s\", \"a\", \"l\", \"t\"])\n",
    "    this_div = f\"<div style='position: absolute; left:{x}%; top: {y}%; color: rgba(115, 129, 141, {alpha})'>{letter}</div>\"\n",
    "    divs.append(this_div)\n",
    "html_src = html_tmpl.format(title=\"salt1\", content=\"\".join(divs))\n",
    "show_html(html_src)"
   ]
  },
  {
   "cell_type": "markdown",
   "id": "b339582f",
   "metadata": {},
   "source": [
    "<h1>Div-making function"
   ]
  },
  {
   "cell_type": "code",
   "execution_count": 42,
   "id": "e248082d",
   "metadata": {},
   "outputs": [],
   "source": [
    "def mkdiv(content, **kwargs):\n",
    "    if 'position' not in kwargs:\n",
    "        kwargs['position'] = 'absolute'\n",
    "    style_str = ''.join([\":\".join((k.replace('_', '-'), v))+\";\" for k, v in kwargs.items()])\n",
    "    return f\"<div style='{style_str}'>{content}</div>\""
   ]
  },
  {
   "cell_type": "code",
   "execution_count": 43,
   "id": "37aa5e2b",
   "metadata": {},
   "outputs": [
    {
     "data": {
      "text/plain": [
       "\"<div style='top:10%;left:5%;position:absolute;'>hello</div>\""
      ]
     },
     "execution_count": 43,
     "metadata": {},
     "output_type": "execute_result"
    }
   ],
   "source": [
    "mkdiv(\"hello\", top=\"10%\", left=\"5%\")"
   ]
  },
  {
   "cell_type": "code",
   "execution_count": 44,
   "id": "a941d62d",
   "metadata": {},
   "outputs": [
    {
     "name": "stdout",
     "output_type": "stream",
     "text": [
      "<div style='top:50%;left:50%;font-family:Helvetica;position:absolute;'>better</div>\n"
     ]
    }
   ],
   "source": [
    "new_div = mkdiv(\"better\",\n",
    "               top=\"50%\",\n",
    "               left=\"50%\",\n",
    "               font_family=\"Helvetica\")\n",
    "print(new_div)"
   ]
  },
  {
   "cell_type": "code",
   "execution_count": 45,
   "id": "9c95690e",
   "metadata": {
    "scrolled": true
   },
   "outputs": [
    {
     "data": {
      "text/html": [
       "\n",
       "<DOCTYPE html>\n",
       "<html lang=\"en\">\n",
       "<head>\n",
       "    <meta charset=\"utf-8\">\n",
       "    <title>salt2</title>\n",
       "    <style>\n",
       "    html {min-height: 32em; overflow: hidden;}\n",
       "    </style>\n",
       "<body>\n",
       "<div style='top:50%;left:50%;font-size:30pt;border:1px grey solid;color:rgb(200, 200, 200);transform:translate(-50%, -50%) rotate(180deg);position:absolute;'>tlas</div><div style='bottom:50%;left:50%;font-size:30pt;border:1px grey solid;position:absolute;'>salt</div>\n",
       "</body>\n",
       "</html>\n"
      ],
      "text/plain": [
       "<IPython.core.display.HTML object>"
      ]
     },
     "metadata": {
      "isolated": true
     },
     "output_type": "display_data"
    }
   ],
   "source": [
    "second_divs=[\n",
    "    mkdiv(\"tlas\", top=\"50%\", left=\"50%\", font_size =\"30pt\", border = \"1px grey solid\", color=\"rgb(200, 200, 200)\", transform=\"translate(-50%, -50%) rotate(180deg)\" ),    \n",
    "    mkdiv(\"salt\", bottom=\"50%\", left=\"50%\", font_size =\"30pt\", border = \"1px grey solid\")\n",
    "]\n",
    "html_src = html_tmpl.format(title=\"salt2\", content=\"\".join(second_divs))\n",
    "show_html(html_src)"
   ]
  },
  {
   "cell_type": "code",
   "execution_count": 46,
   "id": "c5df4cc7",
   "metadata": {},
   "outputs": [
    {
     "data": {
      "text/html": [
       "\n",
       "<DOCTYPE html>\n",
       "<html lang=\"en\">\n",
       "<head>\n",
       "    <meta charset=\"utf-8\">\n",
       "    <title>salt2</title>\n",
       "    <style>\n",
       "    html {min-height: 32em; overflow: hidden;}\n",
       "    </style>\n",
       "<body>\n",
       "<div style='top:50%;left:50%;font-size:30pt;color:rgb(200, 200, 200);transform:translate(-50%, -50%) rotate(180deg);position:absolute;'>tlas</div><div style='bottom:50%;left:50%;font-size:30pt;color:rgb(100, 100, 100);position:absolute;'>salt</div>\n",
       "</body>\n",
       "</html>\n"
      ],
      "text/plain": [
       "<IPython.core.display.HTML object>"
      ]
     },
     "metadata": {
      "isolated": true
     },
     "output_type": "display_data"
    }
   ],
   "source": [
    "second_divs=[\n",
    "    mkdiv(\"tlas\", top=\"50%\", left=\"50%\", font_size =\"30pt\", color=\"rgb(200, 200, 200)\", transform=\"translate(-50%, -50%) rotate(180deg)\" ),    \n",
    "    mkdiv(\"salt\", bottom=\"50%\", left=\"50%\", font_size =\"30pt\", color=\"rgb(100, 100, 100)\")\n",
    "]\n",
    "html_src = html_tmpl.format(title=\"salt2\", content=\"\".join(second_divs))\n",
    "show_html(html_src)"
   ]
  },
  {
   "cell_type": "code",
   "execution_count": 47,
   "id": "6c13a975",
   "metadata": {
    "scrolled": false
   },
   "outputs": [
    {
     "data": {
      "text/html": [
       "\n",
       "<DOCTYPE html>\n",
       "<html lang=\"en\">\n",
       "<head>\n",
       "    <meta charset=\"utf-8\">\n",
       "    <title>salt3</title>\n",
       "    <style>\n",
       "    html {min-height: 32em; overflow: hidden;}\n",
       "    </style>\n",
       "<body>\n",
       "<div style='left:92.0896108030051%;top:20.809126591713245%;font-size:15pt;transform:translate(-50%, -50%);color:rgba(115,129,141,0.9043347546860979);position:absolute;'>盐</div><div style='left:76.35210458619288%;top:26.197605857769346%;font-size:13pt;transform:translate(-50%, -50%);color:rgba(115,129,141,0.518819633572144);position:absolute;'>盐</div><div style='left:9.482374228291624%;top:45.17754227681067%;font-size:15pt;transform:translate(-50%, -50%);color:rgba(115,129,141,0.707501598327466);position:absolute;'>䀋</div><div style='left:33.99218949960451%;top:54.460282938208515%;font-size:12pt;transform:translate(-50%, -50%);color:rgba(115,129,141,0.3700327904271028);position:absolute;'>塩</div><div style='left:14.651832990177727%;top:9.158895173931036%;font-size:4pt;transform:translate(-50%, -50%);color:rgba(115,129,141,0.6878965542275587);position:absolute;'>盐</div><div style='left:68.06598277441269%;top:49.037612662891306%;font-size:6pt;transform:translate(-50%, -50%);color:rgba(115,129,141,0.27778515867246967);position:absolute;'>䀋</div><div style='left:10.268964714732242%;top:36.884218064023756%;font-size:8pt;transform:translate(-50%, -50%);color:rgba(115,129,141,0.7432361682845242);position:absolute;'>盐</div><div style='left:49.044143702749984%;top:2.664140161659001%;font-size:10pt;transform:translate(-50%, -50%);color:rgba(115,129,141,0.8127793681934726);position:absolute;'>盐</div><div style='left:14.935106725073732%;top:21.03897821915308%;font-size:15pt;transform:translate(-50%, -50%);color:rgba(115,129,141,0.6679673970379477);position:absolute;'>䀋</div><div style='left:84.81775281480367%;top:26.395499409917722%;font-size:13pt;transform:translate(-50%, -50%);color:rgba(115,129,141,0.6660080163006677);position:absolute;'>塩</div><div style='left:41.278075581267046%;top:39.91072824244385%;font-size:13pt;transform:translate(-50%, -50%);color:rgba(115,129,141,0.7559061415744761);position:absolute;'>塩</div><div style='left:26.363247763441976%;top:13.907487269442953%;font-size:14pt;transform:translate(-50%, -50%);color:rgba(115,129,141,0.6935514363028493);position:absolute;'>盐</div><div style='left:74.09486710810037%;top:88.35063514357503%;font-size:5pt;transform:translate(-50%, -50%);color:rgba(115,129,141,0.6745715807269076);position:absolute;'>塩</div><div style='left:64.33007485601823%;top:98.71664735088187%;font-size:10pt;transform:translate(-50%, -50%);color:rgba(115,129,141,0.6018496668222442);position:absolute;'>盐</div><div style='left:62.14072335731743%;top:28.180892649877887%;font-size:4pt;transform:translate(-50%, -50%);color:rgba(115,129,141,0.8098738597125841);position:absolute;'>盐</div><div style='left:52.90038186874313%;top:34.87167416456691%;font-size:6pt;transform:translate(-50%, -50%);color:rgba(115,129,141,0.7429105531581397);position:absolute;'>塩</div><div style='left:24.95787047401594%;top:11.169770674657808%;font-size:4pt;transform:translate(-50%, -50%);color:rgba(115,129,141,0.145366711049827);position:absolute;'>塩</div><div style='left:14.488179594786587%;top:57.320814010409315%;font-size:7pt;transform:translate(-50%, -50%);color:rgba(115,129,141,0.9934547638620138);position:absolute;'>䀋</div><div style='left:28.222172361613907%;top:26.49979598103911%;font-size:11pt;transform:translate(-50%, -50%);color:rgba(115,129,141,0.11351584924004654);position:absolute;'>䀋</div><div style='left:0.05140936351141212%;top:92.1128201779767%;font-size:11pt;transform:translate(-50%, -50%);color:rgba(115,129,141,0.018947130412848012);position:absolute;'>塩</div><div style='left:51.64282375543401%;top:78.00297621391199%;font-size:15pt;transform:translate(-50%, -50%);color:rgba(115,129,141,0.7396032861181462);position:absolute;'>䀋</div><div style='left:22.71161006514203%;top:52.48625175965802%;font-size:15pt;transform:translate(-50%, -50%);color:rgba(115,129,141,0.2459498595762507);position:absolute;'>盐</div><div style='left:92.65440182680443%;top:26.537423041090435%;font-size:11pt;transform:translate(-50%, -50%);color:rgba(115,129,141,0.4448058500012949);position:absolute;'>塩</div><div style='left:66.39306591461695%;top:50.92865168379374%;font-size:7pt;transform:translate(-50%, -50%);color:rgba(115,129,141,0.37630781238151534);position:absolute;'>䀋</div><div style='left:92.83641151271534%;top:63.566383689093186%;font-size:15pt;transform:translate(-50%, -50%);color:rgba(115,129,141,0.5472555190163355);position:absolute;'>䀋</div><div style='left:83.66219938755604%;top:26.02845921929321%;font-size:4pt;transform:translate(-50%, -50%);color:rgba(115,129,141,0.6292671505641937);position:absolute;'>盐</div><div style='left:92.74662413939723%;top:88.82136133448093%;font-size:7pt;transform:translate(-50%, -50%);color:rgba(115,129,141,0.8206274992355803);position:absolute;'>盐</div><div style='left:6.187638607324175%;top:79.92958626087406%;font-size:8pt;transform:translate(-50%, -50%);color:rgba(115,129,141,0.28024655399094855);position:absolute;'>盐</div><div style='left:67.85573689800924%;top:61.65881019599102%;font-size:12pt;transform:translate(-50%, -50%);color:rgba(115,129,141,0.9291267471719428);position:absolute;'>䀋</div><div style='left:19.42163129414928%;top:81.42254832359633%;font-size:14pt;transform:translate(-50%, -50%);color:rgba(115,129,141,0.5398397686515193);position:absolute;'>䀋</div><div style='left:19.737881221674137%;top:96.35402186933469%;font-size:12pt;transform:translate(-50%, -50%);color:rgba(115,129,141,0.9820195384723377);position:absolute;'>䀋</div><div style='left:16.07294116442023%;top:28.10079413846732%;font-size:10pt;transform:translate(-50%, -50%);color:rgba(115,129,141,0.7553882705768161);position:absolute;'>䀋</div><div style='left:90.90740747470963%;top:66.10298407813166%;font-size:7pt;transform:translate(-50%, -50%);color:rgba(115,129,141,0.8361526221374049);position:absolute;'>䀋</div><div style='left:68.83421473194421%;top:4.152326238891957%;font-size:5pt;transform:translate(-50%, -50%);color:rgba(115,129,141,0.3802540692527029);position:absolute;'>盐</div><div style='left:27.140526299928325%;top:4.610536300146261%;font-size:7pt;transform:translate(-50%, -50%);color:rgba(115,129,141,0.9998591412398854);position:absolute;'>䀋</div><div style='left:14.846739092527105%;top:88.60000137570208%;font-size:4pt;transform:translate(-50%, -50%);color:rgba(115,129,141,0.4436493133371945);position:absolute;'>䀋</div><div style='left:87.42638298214636%;top:62.49618553894927%;font-size:13pt;transform:translate(-50%, -50%);color:rgba(115,129,141,0.5050185884570617);position:absolute;'>塩</div><div style='left:55.816292122054755%;top:40.9035362692841%;font-size:10pt;transform:translate(-50%, -50%);color:rgba(115,129,141,0.8274436736223139);position:absolute;'>塩</div><div style='left:84.59938947094103%;top:42.46834844486524%;font-size:7pt;transform:translate(-50%, -50%);color:rgba(115,129,141,0.8008651865853218);position:absolute;'>盐</div><div style='left:65.0102292148249%;top:79.11892209754664%;font-size:6pt;transform:translate(-50%, -50%);color:rgba(115,129,141,0.8879973465978688);position:absolute;'>塩</div><div style='left:64.0537105627175%;top:98.92765686766614%;font-size:12pt;transform:translate(-50%, -50%);color:rgba(115,129,141,0.4784524108429207);position:absolute;'>塩</div><div style='left:57.02331646665122%;top:40.79211954826645%;font-size:6pt;transform:translate(-50%, -50%);color:rgba(115,129,141,0.864233730406795);position:absolute;'>䀋</div><div style='left:34.315343375942845%;top:59.34998950657282%;font-size:6pt;transform:translate(-50%, -50%);color:rgba(115,129,141,0.6233663809585109);position:absolute;'>盐</div><div style='left:34.781585243242816%;top:43.797703459463335%;font-size:10pt;transform:translate(-50%, -50%);color:rgba(115,129,141,0.16694611259680892);position:absolute;'>䀋</div><div style='left:18.37498926488297%;top:65.10032803392664%;font-size:12pt;transform:translate(-50%, -50%);color:rgba(115,129,141,0.5365746795888625);position:absolute;'>盐</div><div style='left:26.447459089771296%;top:45.14569354063964%;font-size:11pt;transform:translate(-50%, -50%);color:rgba(115,129,141,0.32972923494230544);position:absolute;'>盐</div><div style='left:78.5061384988688%;top:90.82891366878656%;font-size:13pt;transform:translate(-50%, -50%);color:rgba(115,129,141,0.985312084320982);position:absolute;'>塩</div><div style='left:9.592552976613034%;top:15.094296228379145%;font-size:8pt;transform:translate(-50%, -50%);color:rgba(115,129,141,0.5293484977614767);position:absolute;'>塩</div><div style='left:77.38724688164535%;top:18.263639961506804%;font-size:12pt;transform:translate(-50%, -50%);color:rgba(115,129,141,0.7950499045100317);position:absolute;'>盐</div><div style='left:52.56877124126604%;top:21.35424189001548%;font-size:12pt;transform:translate(-50%, -50%);color:rgba(115,129,141,0.13501051670504793);position:absolute;'>塩</div><div style='left:31.02104307269242%;top:40.39602153796522%;font-size:7pt;transform:translate(-50%, -50%);color:rgba(115,129,141,0.7494850220736242);position:absolute;'>塩</div><div style='left:23.67011765662411%;top:55.08191641710168%;font-size:4pt;transform:translate(-50%, -50%);color:rgba(115,129,141,0.6766889329310976);position:absolute;'>䀋</div><div style='left:54.100758258871494%;top:60.14976334754639%;font-size:9pt;transform:translate(-50%, -50%);color:rgba(115,129,141,0.5496220627093944);position:absolute;'>䀋</div><div style='left:44.078394748587634%;top:31.440190618819162%;font-size:11pt;transform:translate(-50%, -50%);color:rgba(115,129,141,0.4015050192713383);position:absolute;'>塩</div><div style='left:59.73251636111757%;top:70.32826794688319%;font-size:5pt;transform:translate(-50%, -50%);color:rgba(115,129,141,0.6254815075125353);position:absolute;'>䀋</div><div style='left:86.83300422980491%;top:75.2061233900779%;font-size:5pt;transform:translate(-50%, -50%);color:rgba(115,129,141,0.4289378157269531);position:absolute;'>盐</div><div style='left:36.28804298207214%;top:24.916744537638213%;font-size:5pt;transform:translate(-50%, -50%);color:rgba(115,129,141,0.5976983013213368);position:absolute;'>盐</div><div style='left:12.507632581165396%;top:80.63035520240153%;font-size:7pt;transform:translate(-50%, -50%);color:rgba(115,129,141,0.9127143649358906);position:absolute;'>盐</div><div style='left:77.83547625693976%;top:0.5262824412868627%;font-size:8pt;transform:translate(-50%, -50%);color:rgba(115,129,141,0.7001197803366294);position:absolute;'>䀋</div><div style='left:5.457588416392934%;top:79.08035851758596%;font-size:11pt;transform:translate(-50%, -50%);color:rgba(115,129,141,0.6394839913115693);position:absolute;'>䀋</div><div style='left:17.614599912785543%;top:49.81924664584751%;font-size:12pt;transform:translate(-50%, -50%);color:rgba(115,129,141,0.8847682678387041);position:absolute;'>盐</div><div style='left:71.8176127178647%;top:32.225726599150285%;font-size:4pt;transform:translate(-50%, -50%);color:rgba(115,129,141,0.04218186518283851);position:absolute;'>䀋</div><div style='left:79.27507025451209%;top:96.35475320140067%;font-size:12pt;transform:translate(-50%, -50%);color:rgba(115,129,141,0.8935153317759644);position:absolute;'>盐</div><div style='left:49.334598969374%;top:89.85421926722684%;font-size:13pt;transform:translate(-50%, -50%);color:rgba(115,129,141,0.42095367466868294);position:absolute;'>盐</div><div style='left:51.55508646850143%;top:68.46562338741616%;font-size:11pt;transform:translate(-50%, -50%);color:rgba(115,129,141,0.2758329329374447);position:absolute;'>塩</div><div style='left:98.29434561096386%;top:46.907085393300996%;font-size:13pt;transform:translate(-50%, -50%);color:rgba(115,129,141,0.7640776862832709);position:absolute;'>盐</div><div style='left:95.01948106725881%;top:66.03303653951875%;font-size:4pt;transform:translate(-50%, -50%);color:rgba(115,129,141,0.23345627742464492);position:absolute;'>盐</div><div style='left:48.8450410653784%;top:65.52595029864113%;font-size:9pt;transform:translate(-50%, -50%);color:rgba(115,129,141,0.8541323167701196);position:absolute;'>䀋</div><div style='left:62.71588126958385%;top:82.20263216424098%;font-size:8pt;transform:translate(-50%, -50%);color:rgba(115,129,141,0.1896099178352474);position:absolute;'>盐</div><div style='left:31.60891478908726%;top:98.4353736245793%;font-size:14pt;transform:translate(-50%, -50%);color:rgba(115,129,141,0.9582811393076973);position:absolute;'>盐</div><div style='left:24.69889517527384%;top:11.770212540179925%;font-size:11pt;transform:translate(-50%, -50%);color:rgba(115,129,141,0.5807418880134589);position:absolute;'>盐</div><div style='left:52.96069202469762%;top:63.66418135486504%;font-size:6pt;transform:translate(-50%, -50%);color:rgba(115,129,141,0.4022401330445793);position:absolute;'>盐</div><div style='left:0.1551349137126512%;top:68.79806288151552%;font-size:5pt;transform:translate(-50%, -50%);color:rgba(115,129,141,0.7463929243619596);position:absolute;'>塩</div><div style='left:46.27411526351663%;top:6.074642356288296%;font-size:9pt;transform:translate(-50%, -50%);color:rgba(115,129,141,0.3903854032290842);position:absolute;'>塩</div><div style='left:92.12406824255949%;top:94.20288106538868%;font-size:5pt;transform:translate(-50%, -50%);color:rgba(115,129,141,0.06010354824109676);position:absolute;'>塩</div><div style='left:72.167394459244%;top:39.51980371531783%;font-size:11pt;transform:translate(-50%, -50%);color:rgba(115,129,141,0.6488881939563557);position:absolute;'>塩</div><div style='left:40.290886844310805%;top:65.4621737687328%;font-size:9pt;transform:translate(-50%, -50%);color:rgba(115,129,141,0.2986864828104755);position:absolute;'>盐</div><div style='left:42.47531945871088%;top:46.73223526523698%;font-size:5pt;transform:translate(-50%, -50%);color:rgba(115,129,141,0.85804525463681);position:absolute;'>盐</div><div style='left:19.731203105880766%;top:60.08405266309678%;font-size:6pt;transform:translate(-50%, -50%);color:rgba(115,129,141,0.7931247890646148);position:absolute;'>塩</div><div style='left:33.15139862942982%;top:74.58332622105807%;font-size:4pt;transform:translate(-50%, -50%);color:rgba(115,129,141,0.06712278260180116);position:absolute;'>盐</div><div style='left:12.01327155195031%;top:10.747538255300014%;font-size:10pt;transform:translate(-50%, -50%);color:rgba(115,129,141,0.6445249711512238);position:absolute;'>塩</div><div style='left:63.343746876190544%;top:98.79408462441319%;font-size:7pt;transform:translate(-50%, -50%);color:rgba(115,129,141,0.2849898968326341);position:absolute;'>䀋</div><div style='left:99.87560255782714%;top:29.660565194264%;font-size:5pt;transform:translate(-50%, -50%);color:rgba(115,129,141,0.6148000810734808);position:absolute;'>塩</div><div style='left:42.07741701954693%;top:41.48958024407251%;font-size:12pt;transform:translate(-50%, -50%);color:rgba(115,129,141,0.1941750746210238);position:absolute;'>塩</div><div style='left:37.13135899543971%;top:36.86323199560964%;font-size:10pt;transform:translate(-50%, -50%);color:rgba(115,129,141,0.580517976148437);position:absolute;'>塩</div><div style='left:45.16318269114063%;top:65.34312695386356%;font-size:15pt;transform:translate(-50%, -50%);color:rgba(115,129,141,0.12328351447729813);position:absolute;'>盐</div><div style='left:49.756360277053055%;top:39.677637985791634%;font-size:7pt;transform:translate(-50%, -50%);color:rgba(115,129,141,0.7268648019112136);position:absolute;'>盐</div><div style='left:24.739009394107946%;top:19.51648703292407%;font-size:11pt;transform:translate(-50%, -50%);color:rgba(115,129,141,0.6481102276691533);position:absolute;'>塩</div><div style='left:45.84272110813012%;top:62.84267047998798%;font-size:10pt;transform:translate(-50%, -50%);color:rgba(115,129,141,0.7674469235438067);position:absolute;'>䀋</div><div style='left:13.223832865722617%;top:24.543041097084007%;font-size:11pt;transform:translate(-50%, -50%);color:rgba(115,129,141,0.358407665532695);position:absolute;'>塩</div><div style='left:98.79269835910236%;top:72.39531356756513%;font-size:8pt;transform:translate(-50%, -50%);color:rgba(115,129,141,0.7152840841878815);position:absolute;'>塩</div><div style='left:95.8047883072419%;top:94.42218684429258%;font-size:12pt;transform:translate(-50%, -50%);color:rgba(115,129,141,0.6315346281315461);position:absolute;'>盐</div><div style='left:43.56555747707961%;top:91.19448722299657%;font-size:8pt;transform:translate(-50%, -50%);color:rgba(115,129,141,0.5613448774462867);position:absolute;'>塩</div><div style='left:38.703087151631244%;top:12.751992443275961%;font-size:4pt;transform:translate(-50%, -50%);color:rgba(115,129,141,0.2974894438782052);position:absolute;'>盐</div><div style='left:2.3832315474366705%;top:21.351566635970354%;font-size:4pt;transform:translate(-50%, -50%);color:rgba(115,129,141,0.04277899641276117);position:absolute;'>塩</div><div style='left:98.04850234814549%;top:29.769780398138757%;font-size:11pt;transform:translate(-50%, -50%);color:rgba(115,129,141,0.9752265555595897);position:absolute;'>盐</div><div style='left:50.23423151400531%;top:71.55683797795191%;font-size:5pt;transform:translate(-50%, -50%);color:rgba(115,129,141,0.6641058220466403);position:absolute;'>塩</div><div style='left:83.011872897016%;top:64.06106985731303%;font-size:13pt;transform:translate(-50%, -50%);color:rgba(115,129,141,0.19538246722093133);position:absolute;'>塩</div><div style='left:64.93138848767211%;top:21.596993594976112%;font-size:10pt;transform:translate(-50%, -50%);color:rgba(115,129,141,0.9232191544771726);position:absolute;'>盐</div><div style='left:65.474169413832%;top:3.3819055659963904%;font-size:4pt;transform:translate(-50%, -50%);color:rgba(115,129,141,0.26852377010940987);position:absolute;'>塩</div>\n",
       "</body>\n",
       "</html>\n"
      ],
      "text/plain": [
       "<IPython.core.display.HTML object>"
      ]
     },
     "metadata": {
      "isolated": true
     },
     "output_type": "display_data"
    }
   ],
   "source": [
    "divs = []\n",
    "for i in range(100):\n",
    "    x = random.random() * 100\n",
    "    y = random.random() * 100\n",
    "    size = random.randrange(4, 16)\n",
    "    alpha = random.random()\n",
    "    words = random.choice([\"盐\",\"塩\",\"䀋\"])\n",
    "    this_div = mkdiv(words,\n",
    "                    left=f\"{x}%\",\n",
    "                    top=f\"{y}%\",\n",
    "                    font_size=f\"{size}pt\",\n",
    "                    transform=\"translate(-50%, -50%)\",\n",
    "                    color=f\"rgba(115,129,141,{alpha})\"\n",
    "                    )\n",
    "    divs.append(this_div)\n",
    "html_src = html_tmpl.format(title=\"salt3\", content=\"\".join(divs))\n",
    "show_html(html_src)"
   ]
  },
  {
   "cell_type": "code",
   "execution_count": 48,
   "id": "49ebfee9",
   "metadata": {},
   "outputs": [
    {
     "data": {
      "text/html": [
       "\n",
       "<DOCTYPE html>\n",
       "<html lang=\"en\">\n",
       "<head>\n",
       "    <meta charset=\"utf-8\">\n",
       "    <title>salt4</title>\n",
       "    <style>\n",
       "    html {min-height: 32em; overflow: hidden;}\n",
       "    </style>\n",
       "<body>\n",
       "<div style='top:74%;left:63%;font-size:16pt;color:rgba(115,129,141,0.11802924401534898);position:absolute;'>a</div><div style='top:70%;left:74%;font-size:16pt;color:rgba(115,129,141,0.46401795985607885);position:absolute;'>f</div><div style='top:37%;left:46%;font-size:16pt;color:rgba(115,129,141,0.4694848060024063);position:absolute;'>f</div><div style='top:24%;left:35%;font-size:16pt;color:rgba(115,129,141,0.2789000465824625);position:absolute;'>l</div><div style='top:20%;left:31%;font-size:16pt;color:rgba(115,129,141,0.33193877557447293);position:absolute;'>i</div><div style='top:71%;left:31%;font-size:16pt;color:rgba(115,129,141,0.15917239968549213);position:absolute;'>a</div><div style='top:25%;left:56%;font-size:16pt;color:rgba(115,129,141,0.18732624786735486);position:absolute;'>t</div><div style='top:22%;left:53%;font-size:16pt;color:rgba(115,129,141,0.4054434816771041);position:absolute;'>e</div><div style='top:51%;left:26%;font-size:16pt;color:rgba(115,129,141,0.4062887731693602);position:absolute;'>d</div><div style='top:60%;left:47%;font-size:16pt;color:rgba(115,129,141,0.42446298686346684);position:absolute;'> </div><div style='top:29%;left:34%;font-size:16pt;color:rgba(115,129,141,0.4007899633853259);position:absolute;'>w</div><div style='top:58%;left:33%;font-size:16pt;color:rgba(115,129,141,0.06795454632421605);position:absolute;'>i</div><div style='top:36%;left:61%;font-size:16pt;color:rgba(115,129,141,0.42822397067601936);position:absolute;'>t</div><div style='top:25%;left:72%;font-size:16pt;color:rgba(115,129,141,0.028453478558487677);position:absolute;'>h</div><div style='top:22%;left:31%;font-size:16pt;color:rgba(115,129,141,0.9033116957140735);position:absolute;'> </div><div style='top:42%;left:25%;font-size:16pt;color:rgba(115,129,141,0.7114773937380168);position:absolute;'>m</div><div style='top:61%;left:52%;font-size:16pt;color:rgba(115,129,141,0.6871854269817831);position:absolute;'>o</div><div style='top:59%;left:74%;font-size:16pt;color:rgba(115,129,141,0.6371798484457146);position:absolute;'>i</div><div style='top:33%;left:71%;font-size:16pt;color:rgba(115,129,141,0.4564378210248514);position:absolute;'>s</div><div style='top:60%;left:67%;font-size:16pt;color:rgba(115,129,141,0.5437916732572617);position:absolute;'>t</div><div style='top:73%;left:59%;font-size:16pt;color:rgba(115,129,141,0.4582007875785937);position:absolute;'> </div><div style='top:65%;left:31%;font-size:16pt;color:rgba(115,129,141,0.19897705492830808);position:absolute;'>i</div><div style='top:33%;left:25%;font-size:16pt;color:rgba(115,129,141,0.4012871457502891);position:absolute;'>n</div><div style='top:54%;left:58%;font-size:16pt;color:rgba(115,129,141,0.374857376709569);position:absolute;'> </div><div style='top:22%;left:70%;font-size:16pt;color:rgba(115,129,141,0.4478447117782556);position:absolute;'>t</div><div style='top:20%;left:23%;font-size:16pt;color:rgba(115,129,141,0.47711798534552585);position:absolute;'>h</div><div style='top:29%;left:23%;font-size:16pt;color:rgba(115,129,141,0.5111584154624514);position:absolute;'>e</div><div style='top:49%;left:43%;font-size:16pt;color:rgba(115,129,141,0.44552260857791837);position:absolute;'> </div><div style='top:56%;left:25%;font-size:16pt;color:rgba(115,129,141,0.4562040308636022);position:absolute;'>a</div><div style='top:54%;left:29%;font-size:16pt;color:rgba(115,129,141,0.17495968525535466);position:absolute;'>i</div><div style='top:24%;left:64%;font-size:16pt;color:rgba(115,129,141,0.020031144089361352);position:absolute;'>r</div>\n",
       "</body>\n",
       "</html>\n"
      ],
      "text/plain": [
       "<IPython.core.display.HTML object>"
      ]
     },
     "metadata": {
      "isolated": true
     },
     "output_type": "display_data"
    }
   ],
   "source": [
    "src = \"affliated with moist in the air\"\n",
    "divs =[]\n",
    "for ch in src:\n",
    "    alpha = random.random()\n",
    "    this_div = mkdiv(ch, \n",
    "                     top=f\"{random.randrange(20, 75)}%\",\n",
    "                     left=f\"{random.randrange(20, 75)}%\",\n",
    "                     font_size=\"16pt\",\n",
    "                     color=f\"rgba(115,129,141,{alpha})\"\n",
    "                    )\n",
    "    divs.append(this_div)\n",
    "    html_src = html_tmpl.format(title=\"salt4\", content=\"\".join(divs))\n",
    "show_html(html_src)"
   ]
  },
  {
   "cell_type": "code",
   "execution_count": 81,
   "id": "c5e3ee4b",
   "metadata": {
    "scrolled": false
   },
   "outputs": [
    {
     "data": {
      "text/html": [
       "\n",
       "<DOCTYPE html>\n",
       "<html lang=\"en\">\n",
       "<head>\n",
       "    <meta charset=\"utf-8\">\n",
       "    <title>salt4</title>\n",
       "    <style>\n",
       "    html {min-height: 32em; overflow: hidden;}\n",
       "    </style>\n",
       "<body>\n",
       "<div style='top:54%;left:65%;font-size:23pt;color:rgba(115,129,141,0.7643181839178953);position:absolute;'>year</div><div style='top:27%;left:66%;font-size:18pt;color:rgba(115,129,141,0.642045610850181);position:absolute;'>month</div><div style='top:48%;left:44%;font-size:19pt;color:rgba(115,129,141,0.9828285334418726);position:absolute;'>week</div><div style='top:74%;left:71%;font-size:12pt;color:rgba(115,129,141,0.7920734196928195);position:absolute;'>day</div><div style='top:54%;left:17%;font-size:11pt;color:rgba(115,129,141,0.295421047788875);position:absolute;'>hour</div><div style='top:72%;left:53%;font-size:16pt;color:rgba(115,129,141,0.4627850233167856);position:absolute;'>minute</div><div style='top:74%;left:28%;font-size:21pt;color:rgba(115,129,141,0.7138213011501928);position:absolute;'>second</div><div style='top:40%;left:33%;font-size:10pt;color:rgba(115,129,141,0.8610949704565919);position:absolute;'>season</div><div style='top:29%;left:17%;font-size:17pt;color:rgba(115,129,141,0.10094793993282691);position:absolute;'>timezone</div><div style='top:22%;left:79%;font-size:14pt;color:rgba(115,129,141,0.24203732950735568);position:absolute;'>lifetime</div><div style='top:23%;left:57%;font-size:15pt;color:rgba(115,129,141,0.6060173734308482);position:absolute;'>decade</div><div style='top:49%;left:32%;font-size:9pt;color:rgba(115,129,141,0.025022934904841643);position:absolute;'>century</div><div style='top:37%;left:37%;font-size:11pt;color:rgba(115,129,141,0.8312219777096306);position:absolute;'>age</div><div style='top:48%;left:84%;font-size:8pt;color:rgba(115,129,141,0.061675441602301984);position:absolute;'>greenwich</div><div style='top:62%;left:23%;font-size:17pt;color:rgba(115,129,141,0.45235221755995025);position:absolute;'>mean</div><div style='top:28%;left:40%;font-size:16pt;color:rgba(115,129,141,0.20219643362251427);position:absolute;'>time</div><div style='top:82%;left:65%;font-size:22pt;color:rgba(115,129,141,0.6900349638716844);position:absolute;'>universal</div><div style='top:75%;left:17%;font-size:22pt;color:rgba(115,129,141,0.879865109465743);position:absolute;'>time</div><div style='top:59%;left:26%;font-size:24pt;color:rgba(115,129,141,0.9613901295666987);position:absolute;'>schedule</div><div style='top:42%;left:32%;font-size:12pt;color:rgba(115,129,141,0.010661436560581827);position:absolute;'>clock</div><div style='top:31%;left:45%;font-size:20pt;color:rgba(115,129,141,0.011810895428861712);position:absolute;'>calendar</div><div style='top:22%;left:50%;font-size:16pt;color:rgba(115,129,141,0.6707979191810642);position:absolute;'>semester</div><div style='top:47%;left:18%;font-size:23pt;color:rgba(115,129,141,0.00037808081036094787);position:absolute;'>weekday</div><div style='top:42%;left:53%;font-size:22pt;color:rgba(115,129,141,0.059199390985413713);position:absolute;'>weekend</div><div style='top:60%;left:57%;font-size:8pt;color:rgba(115,129,141,0.8042399384094119);position:absolute;'>quarter</div><div style='top:30%;left:16%;font-size:18pt;color:rgba(115,129,141,0.9656825795246305);position:absolute;'>circadian</div><div style='top:80%;left:26%;font-size:11pt;color:rgba(115,129,141,0.14847445672957926);position:absolute;'>schoolday</div><div style='top:33%;left:63%;font-size:13pt;color:rgba(115,129,141,0.010816480835284414);position:absolute;'>workday</div><div style='top:66%;left:43%;font-size:10pt;color:rgba(115,129,141,0.6226260945763313);position:absolute;'>today</div><div style='top:59%;left:21%;font-size:15pt;color:rgba(115,129,141,0.4972964561258445);position:absolute;'>tomorrow</div><div style='top:48%;left:41%;font-size:18pt;color:rgba(115,129,141,0.14807716689279382);position:absolute;'>tonight</div><div style='top:51%;left:73%;font-size:23pt;color:rgba(115,129,141,0.35129396560837967);position:absolute;'>rushhour</div>\n",
       "</body>\n",
       "</html>\n"
      ],
      "text/plain": [
       "<IPython.core.display.HTML object>"
      ]
     },
     "metadata": {
      "isolated": true
     },
     "output_type": "display_data"
    }
   ],
   "source": [
    "# src = \"like a grain of salt sensually affliated with moist in the air dissolve into skin deliquesce arid mind\"\n",
    "src = \"year month week day hour minute second season timezone lifetime decade century age greenwich mean time universal time schedule clock calendar semester weekday weekend quarter circadian schoolday workday today tomorrow tonight rushhour\"\n",
    "divs =[]\n",
    "for ch in src.split():\n",
    "    alpha = random.random()\n",
    "    this_div = mkdiv(ch, \n",
    "                     top=f\"{random.randrange(15, 85)}%\",\n",
    "                     left=f\"{random.randrange(15, 85)}%\",\n",
    "                     font_size=f\"{random.randrange(8, 25)}pt\",\n",
    "                     color=f\"rgba(115,129,141,{alpha})\"\n",
    "                    )\n",
    "    divs.append(this_div)\n",
    "    html_src = html_tmpl.format(title=\"salt4\", content=\"\".join(divs))\n",
    "show_html(html_src)"
   ]
  },
  {
   "cell_type": "code",
   "execution_count": 50,
   "id": "d4e335f5",
   "metadata": {
    "scrolled": false
   },
   "outputs": [
    {
     "data": {
      "text/html": [
       "\n",
       "<DOCTYPE html>\n",
       "<html lang=\"en\">\n",
       "<head>\n",
       "    <meta charset=\"utf-8\">\n",
       "    <title>salt5</title>\n",
       "    <style>\n",
       "    html {min-height: 32em; overflow: hidden;}\n",
       "    </style>\n",
       "<body>\n",
       "<div style='top:1.8385107401210365%;left:6.601744169334856%;font-size:15pt;color:rgba(162, 179, 191,0.8);font-family:Andale Mono;position:absolute;'>e</div><div style='top:0.5073584301024525%;left:14.649209733903135%;font-size:8pt;color:rgba(162, 179, 191,0.9);font-family:Andale Mono;position:absolute;'>u</div><div style='top:1.769841252618481%;left:16.921572961003566%;font-size:11pt;color:rgba(162, 179, 191,0.6);font-family:Andale Mono;position:absolute;'> </div><div style='top:1.9798886474147155%;left:21.430805999421803%;font-size:14pt;color:rgba(162, 179, 191,0.6);font-family:Andale Mono;position:absolute;'>e</div><div style='top:1.9446833130530237%;left:31.087057227332597%;font-size:16pt;color:rgba(162, 179, 191,0.8);font-family:Andale Mono;position:absolute;'>t</div><div style='top:1.5516037265688283%;left:39.77396593034172%;font-size:21pt;color:rgba(162, 179, 191,0.7);font-family:Andale Mono;position:absolute;'>y</div><div style='top:0.014878198110287011%;left:49.76786791947104%;font-size:9pt;color:rgba(162, 179, 191,0.7);font-family:Andale Mono;position:absolute;'>l</div><div style='top:1.1567499279051818%;left:51.3310829216151%;font-size:19pt;color:rgba(162, 179, 191,0.8);font-family:Andale Mono;position:absolute;'> </div><div style='top:0.1619801491079138%;left:57.14467078586378%;font-size:18pt;color:rgba(162, 179, 191,0.5);font-family:Andale Mono;position:absolute;'>m</div><div style='top:0.9274690304607462%;left:64.09653683537613%;font-size:9pt;color:rgba(162, 179, 191,0.3);font-family:Andale Mono;position:absolute;'> </div><div style='top:0.4214389784343753%;left:73.14355510087397%;font-size:7pt;color:rgba(162, 179, 191,0.8);font-family:Andale Mono;position:absolute;'>o</div><div style='top:0.2894428056254601%;left:78.39771000254288%;font-size:9pt;color:rgba(162, 179, 191,0.3);font-family:Andale Mono;position:absolute;'>d</div><div style='top:0.9209979539983923%;left:80.90307902025951%;font-size:12pt;color:rgba(162, 179, 191,0.5);font-family:Andale Mono;position:absolute;'>f</div><div style='top:1.2533673130949678%;left:98.39955844274412%;font-size:13pt;color:rgba(162, 179, 191,0.8);font-family:Andale Mono;position:absolute;'>v</div><div style='top:6.141156870258876%;left:16.7815866265567%;font-size:19pt;color:rgba(162, 179, 191,0.5);font-family:Andale Mono;position:absolute;'>m</div><div style='top:6.579161237638224%;left:24.34569744458393%;font-size:5pt;color:rgba(162, 179, 191,0.3);font-family:Andale Mono;position:absolute;'>t</div><div style='top:5.854858502005261%;left:26.290472224011246%;font-size:18pt;color:rgba(162, 179, 191,0.4);font-family:Andale Mono;position:absolute;'>n</div><div style='top:6.470900569176778%;left:32.54444586597281%;font-size:17pt;color:rgba(162, 179, 191,0.7);font-family:Andale Mono;position:absolute;'>a</div><div style='top:5.510016173998196%;left:37.65483484977214%;font-size:18pt;color:rgba(162, 179, 191,0.6);font-family:Andale Mono;position:absolute;'>n</div><div style='top:5.244644769994435%;left:42.21905736437852%;font-size:11pt;color:rgba(162, 179, 191,0.9);font-family:Andale Mono;position:absolute;'> </div><div style='top:6.43439478687811%;left:54.55214612735304%;font-size:14pt;color:rgba(162, 179, 191,0.3);font-family:Andale Mono;position:absolute;'>v</div><div style='top:5.946530259967685%;left:59.45682918129134%;font-size:5pt;color:rgba(162, 179, 191,0.8);font-family:Andale Mono;position:absolute;'>c</div><div style='top:5.96290740196906%;left:64.01966952500675%;font-size:10pt;color:rgba(162, 179, 191,0.5);font-family:Andale Mono;position:absolute;'>i</div><div style='top:5.341956353341395%;left:79.37659184337208%;font-size:22pt;color:rgba(162, 179, 191,0.5);font-family:Andale Mono;position:absolute;'>d</div><div style='top:5.141349152823073%;left:84.55630642618397%;font-size:13pt;color:rgba(162, 179, 191,0.9);font-family:Andale Mono;position:absolute;'>n</div><div style='top:5.7489710636087565%;left:86.4436264755979%;font-size:12pt;color:rgba(162, 179, 191,0.9);font-family:Andale Mono;position:absolute;'> </div><div style='top:5.184315011635076%;left:91.11992328105497%;font-size:17pt;color:rgba(162, 179, 191,0.6);font-family:Andale Mono;position:absolute;'>a</div><div style='top:11.100308920216067%;left:8.875106134651167%;font-size:20pt;color:rgba(162, 179, 191,0.4);font-family:Andale Mono;position:absolute;'>c</div><div style='top:10.776901830479916%;left:14.167723264270949%;font-size:23pt;color:rgba(162, 179, 191,0.3);font-family:Andale Mono;position:absolute;'>e</div><div style='top:11.796105815762681%;left:16.93775701287746%;font-size:17pt;color:rgba(162, 179, 191,0.8);font-family:Andale Mono;position:absolute;'>i</div><div style='top:10.698085794517914%;left:25.06794976759411%;font-size:21pt;color:rgba(162, 179, 191,0.9);font-family:Andale Mono;position:absolute;'>n</div><div style='top:10.156718873219248%;left:35.88326758722724%;font-size:17pt;color:rgba(162, 179, 191,0.7);font-family:Andale Mono;position:absolute;'>f</div><div style='top:10.049644914823588%;left:48.690447981179844%;font-size:10pt;color:rgba(162, 179, 191,0.3);font-family:Andale Mono;position:absolute;'>s</div><div style='top:11.803879524587146%;left:54.43019216491889%;font-size:17pt;color:rgba(162, 179, 191,0.7);font-family:Andale Mono;position:absolute;'>l</div><div style='top:10.641037909359307%;left:65.93733435255633%;font-size:15pt;color:rgba(162, 179, 191,0.3);font-family:Andale Mono;position:absolute;'>l</div><div style='top:10.067527150552827%;left:85.50649690144694%;font-size:21pt;color:rgba(162, 179, 191,0.4);font-family:Andale Mono;position:absolute;'>i</div><div style='top:11.504842988538542%;left:94.44182624987528%;font-size:22pt;color:rgba(162, 179, 191,0.3);font-family:Andale Mono;position:absolute;'>n</div><div style='top:11.62781106290725%;left:99.04020314637108%;font-size:21pt;color:rgba(162, 179, 191,0.6);font-family:Andale Mono;position:absolute;'>a</div><div style='top:15.360214838616354%;left:0.6788246209612397%;font-size:22pt;color:rgba(162, 179, 191,0.4);font-family:Andale Mono;position:absolute;'>a</div><div style='top:15.423521424767484%;left:8.52135712493653%;font-size:19pt;color:rgba(162, 179, 191,0.9);font-family:Andale Mono;position:absolute;'>t</div><div style='top:15.070446622162022%;left:11.175838539920807%;font-size:14pt;color:rgba(162, 179, 191,0.5);font-family:Andale Mono;position:absolute;'>s</div><div style='top:16.016136918378333%;left:24.5299837062136%;font-size:23pt;color:rgba(162, 179, 191,0.4);font-family:Andale Mono;position:absolute;'>l</div><div style='top:16.318377441732782%;left:25.357840962613444%;font-size:10pt;color:rgba(162, 179, 191,0.6);font-family:Andale Mono;position:absolute;'>u</div><div style='top:15.659339648028583%;left:36.231573629240664%;font-size:6pt;color:rgba(162, 179, 191,0.6);font-family:Andale Mono;position:absolute;'>q</div><div style='top:15.4288351160417%;left:50.76075118936586%;font-size:8pt;color:rgba(162, 179, 191,0.6);font-family:Andale Mono;position:absolute;'> </div><div style='top:15.65538468032679%;left:66.98885139206728%;font-size:19pt;color:rgba(162, 179, 191,0.9);font-family:Andale Mono;position:absolute;'>l</div><div style='top:15.693054535742085%;left:89.76265582415081%;font-size:17pt;color:rgba(162, 179, 191,0.7);font-family:Andale Mono;position:absolute;'> </div><div style='top:15.742278369166236%;left:91.81792562417117%;font-size:20pt;color:rgba(162, 179, 191,0.3);font-family:Andale Mono;position:absolute;'>a</div><div style='top:20.453495636113715%;left:1.8872968100916476%;font-size:5pt;color:rgba(162, 179, 191,0.5);font-family:Andale Mono;position:absolute;'> </div><div style='top:20.071554628323028%;left:9.335720365373025%;font-size:15pt;color:rgba(162, 179, 191,0.9);font-family:Andale Mono;position:absolute;'>e</div><div style='top:21.407591786682627%;left:24.39238340666917%;font-size:20pt;color:rgba(162, 179, 191,0.7);font-family:Andale Mono;position:absolute;'>l</div><div style='top:21.24230641231025%;left:28.591187983932706%;font-size:7pt;color:rgba(162, 179, 191,0.3);font-family:Andale Mono;position:absolute;'>i</div><div style='top:21.864545594509913%;left:35.46143300521782%;font-size:9pt;color:rgba(162, 179, 191,0.8);font-family:Andale Mono;position:absolute;'>t</div><div style='top:21.486325211685358%;left:58.885146741740336%;font-size:15pt;color:rgba(162, 179, 191,0.7);font-family:Andale Mono;position:absolute;'>i</div><div style='top:20.395975693127077%;left:65.864542399915%;font-size:12pt;color:rgba(162, 179, 191,0.3);font-family:Andale Mono;position:absolute;'> </div><div style='top:21.41807539681543%;left:70.83879823159211%;font-size:22pt;color:rgba(162, 179, 191,0.6);font-family:Andale Mono;position:absolute;'> </div><div style='top:21.736105535962686%;left:78.99390411811564%;font-size:22pt;color:rgba(162, 179, 191,0.9);font-family:Andale Mono;position:absolute;'>a</div><div style='top:20.192256126021128%;left:83.44172856119944%;font-size:16pt;color:rgba(162, 179, 191,0.8);font-family:Andale Mono;position:absolute;'>d</div><div style='top:20.19055212283934%;left:89.84565268173061%;font-size:15pt;color:rgba(162, 179, 191,0.8);font-family:Andale Mono;position:absolute;'>u</div><div style='top:20.06119315468152%;left:91.71149132938743%;font-size:5pt;color:rgba(162, 179, 191,0.5);font-family:Andale Mono;position:absolute;'>r</div><div style='top:20.45765164046304%;left:99.4675181840331%;font-size:16pt;color:rgba(162, 179, 191,0.5);font-family:Andale Mono;position:absolute;'> </div><div style='top:26.469510705774788%;left:10.085424493487983%;font-size:12pt;color:rgba(162, 179, 191,0.3);font-family:Andale Mono;position:absolute;'>e</div><div style='top:26.441539231399545%;left:18.746722132195856%;font-size:15pt;color:rgba(162, 179, 191,0.9);font-family:Andale Mono;position:absolute;'>i</div><div style='top:25.253550483495005%;left:23.170963249627263%;font-size:17pt;color:rgba(162, 179, 191,0.6);font-family:Andale Mono;position:absolute;'>i</div><div style='top:25.913643048973974%;left:34.261201108897126%;font-size:13pt;color:rgba(162, 179, 191,0.9);font-family:Andale Mono;position:absolute;'>a</div><div style='top:26.124361876926418%;left:36.2165448414465%;font-size:8pt;color:rgba(162, 179, 191,0.9);font-family:Andale Mono;position:absolute;'>s</div><div style='top:26.121888416983385%;left:44.818940729765046%;font-size:7pt;color:rgba(162, 179, 191,0.7);font-family:Andale Mono;position:absolute;'>t</div><div style='top:26.553397444728425%;left:45.35083831185312%;font-size:20pt;color:rgba(162, 179, 191,0.4);font-family:Andale Mono;position:absolute;'>g</div><div style='top:25.64770147305248%;left:55.68112995391125%;font-size:7pt;color:rgba(162, 179, 191,0.8);font-family:Andale Mono;position:absolute;'>n</div><div style='top:25.775203597390455%;left:63.50942834226889%;font-size:15pt;color:rgba(162, 179, 191,0.4);font-family:Andale Mono;position:absolute;'>y</div><div style='top:25.466488895461474%;left:78.53036140697905%;font-size:12pt;color:rgba(162, 179, 191,0.5);font-family:Andale Mono;position:absolute;'>w</div><div style='top:26.872893632416208%;left:83.64934178888096%;font-size:18pt;color:rgba(162, 179, 191,0.3);font-family:Andale Mono;position:absolute;'>a</div><div style='top:30.72932764558909%;left:1.580940134025242%;font-size:11pt;color:rgba(162, 179, 191,0.9);font-family:Andale Mono;position:absolute;'> </div><div style='top:31.164393184160986%;left:19.536024326962025%;font-size:5pt;color:rgba(162, 179, 191,0.8);font-family:Andale Mono;position:absolute;'>f</div><div style='top:30.79692495633265%;left:23.746725834949%;font-size:8pt;color:rgba(162, 179, 191,0.6);font-family:Andale Mono;position:absolute;'>e</div><div style='top:31.558129282317733%;left:27.685417743579087%;font-size:11pt;color:rgba(162, 179, 191,0.5);font-family:Andale Mono;position:absolute;'>d</div><div style='top:30.683728706934367%;left:30.214135023879788%;font-size:8pt;color:rgba(162, 179, 191,0.7);font-family:Andale Mono;position:absolute;'>t</div><div style='top:31.643455640882507%;left:36.18952300209063%;font-size:17pt;color:rgba(162, 179, 191,0.4);font-family:Andale Mono;position:absolute;'>i</div><div style='top:31.437812229164976%;left:40.035276165222086%;font-size:8pt;color:rgba(162, 179, 191,0.3);font-family:Andale Mono;position:absolute;'>y</div><div style='top:31.46486104131069%;left:46.074116861919116%;font-size:20pt;color:rgba(162, 179, 191,0.3);font-family:Andale Mono;position:absolute;'>o</div><div style='top:30.853303280904786%;left:52.6498551103968%;font-size:15pt;color:rgba(162, 179, 191,0.8);font-family:Andale Mono;position:absolute;'>i</div><div style='top:31.40051557489764%;left:60.25220111063804%;font-size:23pt;color:rgba(162, 179, 191,0.5);font-family:Andale Mono;position:absolute;'>t</div><div style='top:30.082210239757377%;left:69.71440227090446%;font-size:6pt;color:rgba(162, 179, 191,0.6);font-family:Andale Mono;position:absolute;'>e</div><div style='top:30.67112717966576%;left:76.7153131598768%;font-size:13pt;color:rgba(162, 179, 191,0.8);font-family:Andale Mono;position:absolute;'>k</div><div style='top:30.713741950226442%;left:81.18647016180893%;font-size:11pt;color:rgba(162, 179, 191,0.5);font-family:Andale Mono;position:absolute;'>y</div><div style='top:30.27244361575403%;left:85.45204873526629%;font-size:5pt;color:rgba(162, 179, 191,0.8);font-family:Andale Mono;position:absolute;'>t</div><div style='top:31.31626565368154%;left:90.50202411231373%;font-size:13pt;color:rgba(162, 179, 191,0.8);font-family:Andale Mono;position:absolute;'>s</div><div style='top:31.785910072760068%;left:97.48053145596829%;font-size:10pt;color:rgba(162, 179, 191,0.5);font-family:Andale Mono;position:absolute;'>n</div><div style='top:35.976309392202346%;left:8.23501236308962%;font-size:5pt;color:rgba(162, 179, 191,0.4);font-family:Andale Mono;position:absolute;'>r</div><div style='top:35.53785155146702%;left:17.577171118172906%;font-size:22pt;color:rgba(162, 179, 191,0.7);font-family:Andale Mono;position:absolute;'>y</div><div style='top:35.553779961974456%;left:21.396562171055862%;font-size:13pt;color:rgba(162, 179, 191,0.3);font-family:Andale Mono;position:absolute;'>d</div><div style='top:35.77986159539844%;left:29.47697993508708%;font-size:19pt;color:rgba(162, 179, 191,0.8);font-family:Andale Mono;position:absolute;'>h</div><div style='top:36.10614148859165%;left:35.68164203503731%;font-size:15pt;color:rgba(162, 179, 191,0.6);font-family:Andale Mono;position:absolute;'> </div><div style='top:35.14295920712072%;left:44.005428686158666%;font-size:16pt;color:rgba(162, 179, 191,0.6);font-family:Andale Mono;position:absolute;'>o</div><div style='top:36.158101333680946%;left:50.723134108562554%;font-size:8pt;color:rgba(162, 179, 191,0.8);font-family:Andale Mono;position:absolute;'>a</div><div style='top:36.413844059587895%;left:56.52974015347132%;font-size:18pt;color:rgba(162, 179, 191,0.3);font-family:Andale Mono;position:absolute;'>g</div><div style='top:36.37267798230619%;left:62.16724875568815%;font-size:21pt;color:rgba(162, 179, 191,0.4);font-family:Andale Mono;position:absolute;'>k</div><div style='top:35.99304742790842%;left:78.30678641172996%;font-size:13pt;color:rgba(162, 179, 191,0.7);font-family:Andale Mono;position:absolute;'>w</div><div style='top:36.81034991345557%;left:99.39812062640523%;font-size:17pt;color:rgba(162, 179, 191,0.8);font-family:Andale Mono;position:absolute;'> </div><div style='top:40.123140456657474%;left:4.767213779878732%;font-size:6pt;color:rgba(162, 179, 191,0.4);font-family:Andale Mono;position:absolute;'>m</div><div style='top:40.40941438936847%;left:16.414007888989307%;font-size:10pt;color:rgba(162, 179, 191,0.8);font-family:Andale Mono;position:absolute;'>i</div><div style='top:40.038166695553244%;left:24.92192276469278%;font-size:17pt;color:rgba(162, 179, 191,0.5);font-family:Andale Mono;position:absolute;'> </div><div style='top:41.08113999326856%;left:34.742595643546245%;font-size:7pt;color:rgba(162, 179, 191,0.4);font-family:Andale Mono;position:absolute;'>e</div><div style='top:41.91966661709503%;left:52.53329707986344%;font-size:20pt;color:rgba(162, 179, 191,0.4);font-family:Andale Mono;position:absolute;'> </div><div style='top:40.776074150831555%;left:71.47766113404869%;font-size:13pt;color:rgba(162, 179, 191,0.7);font-family:Andale Mono;position:absolute;'>d</div><div style='top:40.485822696849404%;left:77.72050505168349%;font-size:19pt;color:rgba(162, 179, 191,0.3);font-family:Andale Mono;position:absolute;'>n</div><div style='top:40.10581624791303%;left:94.85550068111026%;font-size:16pt;color:rgba(162, 179, 191,0.6);font-family:Andale Mono;position:absolute;'>e</div><div style='top:41.331036464224304%;left:97.1512383173824%;font-size:7pt;color:rgba(162, 179, 191,0.4);font-family:Andale Mono;position:absolute;'> </div><div style='top:45.42428840903323%;left:6.7278146171617275%;font-size:19pt;color:rgba(162, 179, 191,0.4);font-family:Andale Mono;position:absolute;'>a</div><div style='top:46.26938228528964%;left:14.467376837167565%;font-size:9pt;color:rgba(162, 179, 191,0.8);font-family:Andale Mono;position:absolute;'>a</div><div style='top:45.60097546332273%;left:17.676685833047436%;font-size:22pt;color:rgba(162, 179, 191,0.3);font-family:Andale Mono;position:absolute;'> </div><div style='top:45.71159409944791%;left:23.446577940833148%;font-size:13pt;color:rgba(162, 179, 191,0.5);font-family:Andale Mono;position:absolute;'>l</div><div style='top:46.61008145677643%;left:33.96435723320488%;font-size:16pt;color:rgba(162, 179, 191,0.8);font-family:Andale Mono;position:absolute;'>s</div><div style='top:46.6661053952737%;left:38.817348452170904%;font-size:16pt;color:rgba(162, 179, 191,0.4);font-family:Andale Mono;position:absolute;'>a</div><div style='top:46.546714908283185%;left:47.36786644552005%;font-size:5pt;color:rgba(162, 179, 191,0.5);font-family:Andale Mono;position:absolute;'> </div><div style='top:45.99186151967165%;left:54.599629715342985%;font-size:9pt;color:rgba(162, 179, 191,0.5);font-family:Andale Mono;position:absolute;'>d</div><div style='top:45.333061676191335%;left:59.41922678605808%;font-size:22pt;color:rgba(162, 179, 191,0.9);font-family:Andale Mono;position:absolute;'>i</div><div style='top:45.73633794457834%;left:61.38691991696065%;font-size:13pt;color:rgba(162, 179, 191,0.4);font-family:Andale Mono;position:absolute;'>n</div><div style='top:45.25984010217823%;left:72.38937479411088%;font-size:15pt;color:rgba(162, 179, 191,0.3);font-family:Andale Mono;position:absolute;'>e</div><div style='top:46.24540284239308%;left:79.62536530969552%;font-size:5pt;color:rgba(162, 179, 191,0.3);font-family:Andale Mono;position:absolute;'> </div><div style='top:45.77811728142164%;left:80.68219314385026%;font-size:13pt;color:rgba(162, 179, 191,0.6);font-family:Andale Mono;position:absolute;'>a</div><div style='top:46.93476779068422%;left:89.47891498748102%;font-size:23pt;color:rgba(162, 179, 191,0.9);font-family:Andale Mono;position:absolute;'> </div><div style='top:46.23395820811853%;left:94.91994318331628%;font-size:22pt;color:rgba(162, 179, 191,0.3);font-family:Andale Mono;position:absolute;'>s</div><div style='top:45.67377276255422%;left:99.50636269881029%;font-size:17pt;color:rgba(162, 179, 191,0.8);font-family:Andale Mono;position:absolute;'>m</div><div style='top:50.35437958399826%;left:0.9417280714757292%;font-size:9pt;color:rgba(162, 179, 191,0.5);font-family:Andale Mono;position:absolute;'>d</div><div style='top:51.6557946590169%;left:8.630078449273338%;font-size:8pt;color:rgba(162, 179, 191,0.3);font-family:Andale Mono;position:absolute;'>t</div><div style='top:50.69397661504276%;left:18.61074696203568%;font-size:23pt;color:rgba(162, 179, 191,0.3);font-family:Andale Mono;position:absolute;'>a</div><div style='top:50.18218189288361%;left:34.921087875897186%;font-size:18pt;color:rgba(162, 179, 191,0.9);font-family:Andale Mono;position:absolute;'>o</div><div style='top:50.02619252681881%;left:46.85950058139322%;font-size:6pt;color:rgba(162, 179, 191,0.5);font-family:Andale Mono;position:absolute;'>i</div><div style='top:51.211101291779606%;left:60.65053234983205%;font-size:13pt;color:rgba(162, 179, 191,0.3);font-family:Andale Mono;position:absolute;'> </div><div style='top:50.703159537735736%;left:70.22420189423191%;font-size:16pt;color:rgba(162, 179, 191,0.9);font-family:Andale Mono;position:absolute;'>i</div><div style='top:50.57777694654464%;left:78.56738009239942%;font-size:22pt;color:rgba(162, 179, 191,0.7);font-family:Andale Mono;position:absolute;'>g</div><div style='top:56.40134025770611%;left:9.273808316513268%;font-size:14pt;color:rgba(162, 179, 191,0.3);font-family:Andale Mono;position:absolute;'> </div><div style='top:56.260417637494164%;left:12.671331494312692%;font-size:21pt;color:rgba(162, 179, 191,0.6);font-family:Andale Mono;position:absolute;'>i</div><div style='top:55.74656835809766%;left:39.29084878477659%;font-size:17pt;color:rgba(162, 179, 191,0.4);font-family:Andale Mono;position:absolute;'>a</div><div style='top:55.14420850904479%;left:45.21864321966054%;font-size:20pt;color:rgba(162, 179, 191,0.8);font-family:Andale Mono;position:absolute;'>w</div><div style='top:55.67545397826445%;left:51.35153390692698%;font-size:19pt;color:rgba(162, 179, 191,0.9);font-family:Andale Mono;position:absolute;'>l</div><div style='top:56.83454989129624%;left:57.724976318750315%;font-size:19pt;color:rgba(162, 179, 191,0.3);font-family:Andale Mono;position:absolute;'>d</div><div style='top:56.979950792436576%;left:67.40960194141219%;font-size:5pt;color:rgba(162, 179, 191,0.3);font-family:Andale Mono;position:absolute;'>s</div><div style='top:55.75048566391091%;left:78.34284174443069%;font-size:16pt;color:rgba(162, 179, 191,0.3);font-family:Andale Mono;position:absolute;'>d</div><div style='top:56.33235355586744%;left:89.31536495678107%;font-size:6pt;color:rgba(162, 179, 191,0.3);font-family:Andale Mono;position:absolute;'> </div><div style='top:55.746677142803456%;left:91.31616975904072%;font-size:12pt;color:rgba(162, 179, 191,0.4);font-family:Andale Mono;position:absolute;'>d</div><div style='top:60.87726668396823%;left:3.4018130958226385%;font-size:8pt;color:rgba(162, 179, 191,0.6);font-family:Andale Mono;position:absolute;'>a</div><div style='top:60.76892746827295%;left:17.186495600473584%;font-size:15pt;color:rgba(162, 179, 191,0.3);font-family:Andale Mono;position:absolute;'>i</div><div style='top:60.177405236160006%;left:21.285911638227535%;font-size:9pt;color:rgba(162, 179, 191,0.7);font-family:Andale Mono;position:absolute;'>a</div><div style='top:60.97259098385492%;left:26.81625736853644%;font-size:18pt;color:rgba(162, 179, 191,0.3);font-family:Andale Mono;position:absolute;'> </div><div style='top:61.426342278325826%;left:30.848030299411832%;font-size:17pt;color:rgba(162, 179, 191,0.4);font-family:Andale Mono;position:absolute;'>i</div><div style='top:60.841961981437635%;left:37.49870327624968%;font-size:16pt;color:rgba(162, 179, 191,0.6);font-family:Andale Mono;position:absolute;'> </div><div style='top:60.61282262501147%;left:45.845101368135225%;font-size:11pt;color:rgba(162, 179, 191,0.5);font-family:Andale Mono;position:absolute;'>i</div><div style='top:61.51398712884496%;left:65.65587265376712%;font-size:7pt;color:rgba(162, 179, 191,0.6);font-family:Andale Mono;position:absolute;'>i</div><div style='top:61.2767492622961%;left:70.68815783195087%;font-size:8pt;color:rgba(162, 179, 191,0.7);font-family:Andale Mono;position:absolute;'>o</div><div style='top:61.27143943751088%;left:75.40631764021441%;font-size:16pt;color:rgba(162, 179, 191,0.5);font-family:Andale Mono;position:absolute;'>d</div><div style='top:61.62792307526115%;left:81.98513294760717%;font-size:14pt;color:rgba(162, 179, 191,0.6);font-family:Andale Mono;position:absolute;'>l</div><div style='top:61.3951693579407%;left:91.71895708237678%;font-size:19pt;color:rgba(162, 179, 191,0.8);font-family:Andale Mono;position:absolute;'>a</div><div style='top:65.20387222035912%;left:6.0984686172706715%;font-size:7pt;color:rgba(162, 179, 191,0.4);font-family:Andale Mono;position:absolute;'>l</div><div style='top:66.86516841597613%;left:13.52416658229318%;font-size:14pt;color:rgba(162, 179, 191,0.8);font-family:Andale Mono;position:absolute;'> </div><div style='top:65.68723213293556%;left:16.75513468766594%;font-size:11pt;color:rgba(162, 179, 191,0.8);font-family:Andale Mono;position:absolute;'>s</div><div style='top:66.10050783842715%;left:23.607625958303196%;font-size:18pt;color:rgba(162, 179, 191,0.6);font-family:Andale Mono;position:absolute;'>h</div><div style='top:65.99878447735814%;left:37.372082638987386%;font-size:8pt;color:rgba(162, 179, 191,0.3);font-family:Andale Mono;position:absolute;'>k</div><div style='top:66.72744797509385%;left:43.31784874356952%;font-size:17pt;color:rgba(162, 179, 191,0.3);font-family:Andale Mono;position:absolute;'>i</div><div style='top:66.87982274316458%;left:45.46122837055666%;font-size:17pt;color:rgba(162, 179, 191,0.9);font-family:Andale Mono;position:absolute;'>d</div><div style='top:66.47058160732414%;left:53.60312457364741%;font-size:12pt;color:rgba(162, 179, 191,0.6);font-family:Andale Mono;position:absolute;'> </div><div style='top:66.6989118782818%;left:68.88014036135284%;font-size:23pt;color:rgba(162, 179, 191,0.4);font-family:Andale Mono;position:absolute;'>s</div><div style='top:66.14461262804966%;left:74.82744483421422%;font-size:21pt;color:rgba(162, 179, 191,0.7);font-family:Andale Mono;position:absolute;'>v</div><div style='top:66.7820621390283%;left:83.1438575900673%;font-size:22pt;color:rgba(162, 179, 191,0.4);font-family:Andale Mono;position:absolute;'>i</div><div style='top:66.58067707790205%;left:85.43748642581257%;font-size:14pt;color:rgba(162, 179, 191,0.3);font-family:Andale Mono;position:absolute;'> </div><div style='top:66.05695620595407%;left:93.02536773655837%;font-size:9pt;color:rgba(162, 179, 191,0.7);font-family:Andale Mono;position:absolute;'> </div><div style='top:66.80633315502021%;left:98.65766930607325%;font-size:20pt;color:rgba(162, 179, 191,0.6);font-family:Andale Mono;position:absolute;'>e</div><div style='top:70.89802740453608%;left:4.808104008168976%;font-size:18pt;color:rgba(162, 179, 191,0.7);font-family:Andale Mono;position:absolute;'>c</div><div style='top:71.54242541080745%;left:7.155882410624995%;font-size:5pt;color:rgba(162, 179, 191,0.7);font-family:Andale Mono;position:absolute;'>a</div><div style='top:70.52092565695756%;left:22.67413348757185%;font-size:7pt;color:rgba(162, 179, 191,0.4);font-family:Andale Mono;position:absolute;'>q</div><div style='top:70.90463939691168%;left:26.697028742413103%;font-size:20pt;color:rgba(162, 179, 191,0.9);font-family:Andale Mono;position:absolute;'>s</div><div style='top:70.7872074600615%;left:30.007746953455758%;font-size:17pt;color:rgba(162, 179, 191,0.4);font-family:Andale Mono;position:absolute;'>o</div><div style='top:71.12381375817621%;left:39.44091761100069%;font-size:6pt;color:rgba(162, 179, 191,0.8);font-family:Andale Mono;position:absolute;'>a</div><div style='top:70.4384140132841%;left:44.59849790090979%;font-size:21pt;color:rgba(162, 179, 191,0.5);font-family:Andale Mono;position:absolute;'>r</div><div style='top:71.01713489454467%;left:53.235898427100295%;font-size:21pt;color:rgba(162, 179, 191,0.4);font-family:Andale Mono;position:absolute;'>d</div><div style='top:71.59380383056326%;left:55.35991634623459%;font-size:8pt;color:rgba(162, 179, 191,0.6);font-family:Andale Mono;position:absolute;'>g</div><div style='top:71.60983694442177%;left:62.34624865771809%;font-size:13pt;color:rgba(162, 179, 191,0.4);font-family:Andale Mono;position:absolute;'>s</div><div style='top:70.14005401238977%;left:70.71434330454099%;font-size:5pt;color:rgba(162, 179, 191,0.3);font-family:Andale Mono;position:absolute;'>k</div><div style='top:70.04349983675246%;left:76.25267523396313%;font-size:16pt;color:rgba(162, 179, 191,0.6);font-family:Andale Mono;position:absolute;'>c</div><div style='top:71.97559909878119%;left:99.52820687010531%;font-size:15pt;color:rgba(162, 179, 191,0.8);font-family:Andale Mono;position:absolute;'>h</div><div style='top:75.94982469292539%;left:2.93230451829058%;font-size:15pt;color:rgba(162, 179, 191,0.6);font-family:Andale Mono;position:absolute;'> </div><div style='top:76.96874145493871%;left:5.298867464350267%;font-size:16pt;color:rgba(162, 179, 191,0.7);font-family:Andale Mono;position:absolute;'> </div><div style='top:76.6311775534055%;left:13.554143025139634%;font-size:19pt;color:rgba(162, 179, 191,0.3);font-family:Andale Mono;position:absolute;'>a</div><div style='top:76.59292217464629%;left:29.01273147837354%;font-size:15pt;color:rgba(162, 179, 191,0.4);font-family:Andale Mono;position:absolute;'>e</div><div style='top:75.01675538279993%;left:32.49039049000051%;font-size:11pt;color:rgba(162, 179, 191,0.9);font-family:Andale Mono;position:absolute;'>l</div><div style='top:76.40381547236859%;left:35.67275082804745%;font-size:8pt;color:rgba(162, 179, 191,0.5);font-family:Andale Mono;position:absolute;'>n</div><div style='top:76.35276729791684%;left:47.32348609602315%;font-size:9pt;color:rgba(162, 179, 191,0.5);font-family:Andale Mono;position:absolute;'>u</div><div style='top:75.97677377254075%;left:58.52474921946123%;font-size:22pt;color:rgba(162, 179, 191,0.6);font-family:Andale Mono;position:absolute;'>m</div><div style='top:75.77312683800449%;left:60.14181725607962%;font-size:16pt;color:rgba(162, 179, 191,0.8);font-family:Andale Mono;position:absolute;'>d</div><div style='top:75.68479252754938%;left:68.82809324881049%;font-size:22pt;color:rgba(162, 179, 191,0.3);font-family:Andale Mono;position:absolute;'>e</div><div style='top:76.44889236876848%;left:70.30488505354212%;font-size:11pt;color:rgba(162, 179, 191,0.8);font-family:Andale Mono;position:absolute;'> </div><div style='top:75.00361041958878%;left:88.68944123705506%;font-size:19pt;color:rgba(162, 179, 191,0.8);font-family:Andale Mono;position:absolute;'>t</div><div style='top:75.55462851815433%;left:97.84106116842145%;font-size:6pt;color:rgba(162, 179, 191,0.3);font-family:Andale Mono;position:absolute;'>e</div><div style='top:81.89637880835481%;left:4.94413419012646%;font-size:12pt;color:rgba(162, 179, 191,0.4);font-family:Andale Mono;position:absolute;'>f</div><div style='top:80.13052410424714%;left:7.696582320913345%;font-size:22pt;color:rgba(162, 179, 191,0.5);font-family:Andale Mono;position:absolute;'>m</div><div style='top:80.41408374802471%;left:18.155533935211793%;font-size:17pt;color:rgba(162, 179, 191,0.5);font-family:Andale Mono;position:absolute;'>l</div><div style='top:81.69889244633534%;left:24.08643478668899%;font-size:22pt;color:rgba(162, 179, 191,0.5);font-family:Andale Mono;position:absolute;'>l</div><div style='top:80.20945672049262%;left:25.334713983321656%;font-size:20pt;color:rgba(162, 179, 191,0.6);font-family:Andale Mono;position:absolute;'>c</div><div style='top:81.49224185941534%;left:32.62017117449153%;font-size:13pt;color:rgba(162, 179, 191,0.9);font-family:Andale Mono;position:absolute;'>i</div><div style='top:81.53610526580454%;left:47.161869945314706%;font-size:18pt;color:rgba(162, 179, 191,0.6);font-family:Andale Mono;position:absolute;'>o</div><div style='top:80.06682472341741%;left:55.693479062628%;font-size:20pt;color:rgba(162, 179, 191,0.6);font-family:Andale Mono;position:absolute;'>l</div><div style='top:81.9801867117722%;left:61.002739724107876%;font-size:14pt;color:rgba(162, 179, 191,0.7);font-family:Andale Mono;position:absolute;'>s</div><div style='top:80.20465786927%;left:74.61267416219421%;font-size:13pt;color:rgba(162, 179, 191,0.8);font-family:Andale Mono;position:absolute;'>o</div><div style='top:80.47226440844582%;left:78.77156982536798%;font-size:8pt;color:rgba(162, 179, 191,0.9);font-family:Andale Mono;position:absolute;'>i</div><div style='top:81.12291264293802%;left:88.97089644409944%;font-size:9pt;color:rgba(162, 179, 191,0.9);font-family:Andale Mono;position:absolute;'>n</div><div style='top:85.24787151431383%;left:9.413729558349988%;font-size:19pt;color:rgba(162, 179, 191,0.9);font-family:Andale Mono;position:absolute;'>k</div><div style='top:86.57380055875154%;left:34.0076954167455%;font-size:22pt;color:rgba(162, 179, 191,0.3);font-family:Andale Mono;position:absolute;'>h</div><div style='top:85.50784822315437%;left:45.44599162803359%;font-size:22pt;color:rgba(162, 179, 191,0.7);font-family:Andale Mono;position:absolute;'>d</div><div style='top:86.44042879479828%;left:54.40592529980046%;font-size:14pt;color:rgba(162, 179, 191,0.8);font-family:Andale Mono;position:absolute;'> </div><div style='top:85.00702924655577%;left:70.82821114626685%;font-size:5pt;color:rgba(162, 179, 191,0.5);font-family:Andale Mono;position:absolute;'>h</div><div style='top:85.48063135009454%;left:79.58161239121372%;font-size:6pt;color:rgba(162, 179, 191,0.8);font-family:Andale Mono;position:absolute;'>i</div><div style='top:86.01508277714241%;left:80.50811319178915%;font-size:23pt;color:rgba(162, 179, 191,0.8);font-family:Andale Mono;position:absolute;'>t</div><div style='top:85.85979980311652%;left:85.86953378463552%;font-size:5pt;color:rgba(162, 179, 191,0.8);font-family:Andale Mono;position:absolute;'>o</div><div style='top:86.88055223858562%;left:92.71110644659161%;font-size:15pt;color:rgba(162, 179, 191,0.7);font-family:Andale Mono;position:absolute;'>s</div><div style='top:85.74795286965619%;left:97.15340083054993%;font-size:16pt;color:rgba(162, 179, 191,0.4);font-family:Andale Mono;position:absolute;'>n</div><div style='top:91.80244789086997%;left:12.567584926425079%;font-size:13pt;color:rgba(162, 179, 191,0.5);font-family:Andale Mono;position:absolute;'>q</div><div style='top:90.09154920853248%;left:16.69813708724933%;font-size:21pt;color:rgba(162, 179, 191,0.6);font-family:Andale Mono;position:absolute;'>l</div><div style='top:91.09164414007792%;left:22.905372014990636%;font-size:14pt;color:rgba(162, 179, 191,0.8);font-family:Andale Mono;position:absolute;'>i</div><div style='top:91.8784997987432%;left:26.92256612587958%;font-size:19pt;color:rgba(162, 179, 191,0.9);font-family:Andale Mono;position:absolute;'>m</div><div style='top:90.03848434336544%;left:35.65630004709699%;font-size:18pt;color:rgba(162, 179, 191,0.9);font-family:Andale Mono;position:absolute;'>s</div><div style='top:91.01282925704712%;left:48.26253372563243%;font-size:13pt;color:rgba(162, 179, 191,0.7);font-family:Andale Mono;position:absolute;'>i</div><div style='top:91.54843592361067%;left:51.87316618529393%;font-size:20pt;color:rgba(162, 179, 191,0.5);font-family:Andale Mono;position:absolute;'>e</div><div style='top:90.0542761071479%;left:61.8301206584953%;font-size:9pt;color:rgba(162, 179, 191,0.5);font-family:Andale Mono;position:absolute;'>i</div><div style='top:90.85342490736876%;left:72.98865275758301%;font-size:21pt;color:rgba(162, 179, 191,0.7);font-family:Andale Mono;position:absolute;'>h</div><div style='top:90.1399837273887%;left:84.65277262823783%;font-size:18pt;color:rgba(162, 179, 191,0.9);font-family:Andale Mono;position:absolute;'>m</div><div style='top:90.10222857360311%;left:93.84683119449046%;font-size:8pt;color:rgba(162, 179, 191,0.9);font-family:Andale Mono;position:absolute;'>a</div><div style='top:96.06323519075433%;left:10.205556534746803%;font-size:12pt;color:rgba(162, 179, 191,0.6);font-family:Andale Mono;position:absolute;'>l</div><div style='top:95.8048250794701%;left:25.856266640790533%;font-size:12pt;color:rgba(162, 179, 191,0.6);font-family:Andale Mono;position:absolute;'>t</div><div style='top:96.50985097443791%;left:49.68998362844297%;font-size:11pt;color:rgba(162, 179, 191,0.9);font-family:Andale Mono;position:absolute;'>l</div><div style='top:96.90211046459557%;left:69.39873554254591%;font-size:20pt;color:rgba(162, 179, 191,0.7);font-family:Andale Mono;position:absolute;'>i</div><div style='top:95.87446667877053%;left:71.67727745204685%;font-size:16pt;color:rgba(162, 179, 191,0.3);font-family:Andale Mono;position:absolute;'>t</div><div style='top:95.08004173960171%;left:76.82417566211946%;font-size:6pt;color:rgba(162, 179, 191,0.3);font-family:Andale Mono;position:absolute;'>i</div><div style='top:95.73521329548161%;left:80.44262564780672%;font-size:19pt;color:rgba(162, 179, 191,0.6);font-family:Andale Mono;position:absolute;'>t</div><div style='top:95.54393161559993%;left:94.42830419841223%;font-size:8pt;color:rgba(162, 179, 191,0.7);font-family:Andale Mono;position:absolute;'>e</div><div style='top:96.45457660094344%;left:99.75758385571493%;font-size:14pt;color:rgba(162, 179, 191,0.8);font-family:Andale Mono;position:absolute;'>g</div>\n",
       "</body>\n",
       "</html>\n"
      ],
      "text/plain": [
       "<IPython.core.display.HTML object>"
      ]
     },
     "metadata": {
      "isolated": true
     },
     "output_type": "display_data"
    }
   ],
   "source": [
    "letters=list(src)\n",
    "grid_size = 20\n",
    "divs=[]\n",
    "for i in range(grid_size):\n",
    "    for j in range(grid_size):\n",
    "        x_pos = (100/grid_size)*i+random.random()*2\n",
    "        y_pos = (100/grid_size)*j+random.random()*5\n",
    "        alpha=random.randrange(3, 10)/10\n",
    "        if(random.random()<0.6):\n",
    "            this_div = mkdiv(random.choice(letters),\n",
    "                            top=f\"{x_pos}%\",\n",
    "                            left=f\"{y_pos}%\",\n",
    "                            font_size = f\"{random.randrange(5, 24)}pt\",\n",
    "                            color=f\"rgba(162, 179, 191,{alpha})\",\n",
    "                            font_family = \"Andale Mono\"\n",
    "                            )\n",
    "            divs.append(this_div)\n",
    "html_src = html_tmpl.format(title=\"salt5\", content=\"\".join(divs))\n",
    "show_html(html_src)  "
   ]
  },
  {
   "cell_type": "markdown",
   "id": "72c817cc",
   "metadata": {},
   "source": [
    "<h1>Along Lines"
   ]
  },
  {
   "cell_type": "code",
   "execution_count": 51,
   "id": "cee51b35",
   "metadata": {},
   "outputs": [
    {
     "data": {
      "text/plain": [
       "[(0.0, 0.0),\n",
       " (0.2272727272727273, 0.9090909090909092),\n",
       " (0.4545454545454546, 1.8181818181818183),\n",
       " (0.6818181818181818, 2.727272727272727),\n",
       " (0.9090909090909092, 3.6363636363636367),\n",
       " (1.1363636363636362, 4.545454545454545),\n",
       " (1.3636363636363635, 5.454545454545454),\n",
       " (1.5909090909090908, 6.363636363636363),\n",
       " (1.8181818181818183, 7.272727272727273),\n",
       " (2.0454545454545454, 8.181818181818182),\n",
       " (2.2727272727272725, 9.09090909090909),\n",
       " (2.5, 10.0),\n",
       " (2.727272727272727, 10.909090909090908),\n",
       " (2.9545454545454546, 11.818181818181818),\n",
       " (3.1818181818181817, 12.727272727272727),\n",
       " (3.4090909090909087, 13.636363636363635),\n",
       " (3.6363636363636367, 14.545454545454547),\n",
       " (3.8636363636363633, 15.454545454545453),\n",
       " (4.090909090909091, 16.363636363636363),\n",
       " (4.318181818181818, 17.272727272727273),\n",
       " (4.545454545454545, 18.18181818181818),\n",
       " (4.772727272727273, 19.090909090909093),\n",
       " (5.0, 20.0)]"
      ]
     },
     "execution_count": 51,
     "metadata": {},
     "output_type": "execute_result"
    }
   ],
   "source": [
    "import numpy as np\n",
    "def interp(p1, p2, n=10):\n",
    "    p1 = np.array(p1)\n",
    "    p2 = np.array(p2)\n",
    "    pts = []\n",
    "    for i in range(n):\n",
    "        pt = (p2 * (i/(n-1))) + (p1 * (1-(i/(n-1))))\n",
    "        pts.append(tuple(pt))\n",
    "    return pts\n",
    "interp((0, 0), (5, 20), n=23)"
   ]
  },
  {
   "cell_type": "code",
   "execution_count": 52,
   "id": "9a598b69",
   "metadata": {},
   "outputs": [
    {
     "data": {
      "text/plain": [
       "[(0.0, 0.0), (1.25, 5.25), (2.5, 10.5), (3.75, 15.75), (5.0, 21.0)]"
      ]
     },
     "execution_count": 52,
     "metadata": {},
     "output_type": "execute_result"
    }
   ],
   "source": [
    "import numpy as np\n",
    "def interp(p1, p2, n=10):\n",
    "    p1 = np.array(p1)\n",
    "    p2 = np.array(p2)\n",
    "    pts = []\n",
    "    for i in range(n):\n",
    "        pt = (p2 * (i/(n-1))) + (p1 * (1-(i/(n-1))))\n",
    "        pts.append(tuple(pt))\n",
    "    return pts\n",
    "interp((0, 0), (5, 21), n=5)"
   ]
  },
  {
   "cell_type": "code",
   "execution_count": 53,
   "id": "63f0ffc0",
   "metadata": {
    "scrolled": false
   },
   "outputs": [
    {
     "data": {
      "text/html": [
       "\n",
       "<DOCTYPE html>\n",
       "<html lang=\"en\">\n",
       "<head>\n",
       "    <meta charset=\"utf-8\">\n",
       "    <title>salt6</title>\n",
       "    <style>\n",
       "    html {min-height: 32em; overflow: hidden;}\n",
       "    </style>\n",
       "<body>\n",
       "<div style='top:11.314725916322416%;left:13.288096862915417%;font-size:16pt;color:rgba(115,129,123, 0.3);position:absolute;'>l</div><div style='top:13.256320640620892%;left:15.72373255766486%;font-size:16pt;color:rgba(115,129,116, 0.3);position:absolute;'>i</div><div style='top:14.720356852399414%;left:15.031753737159688%;font-size:16pt;color:rgba(115,129,156, 0.3);position:absolute;'>k</div><div style='top:16.832192001420587%;left:16.762316074842015%;font-size:16pt;color:rgba(115,129,112, 0.3);position:absolute;'>e</div><div style='top:18.18272908087694%;left:17.81395531423069%;font-size:16pt;color:rgba(115,129,179, 0.3);position:absolute;'> </div><div style='top:19.276548070557702%;left:20.471629521666245%;font-size:16pt;color:rgba(115,129,155, 0.3);position:absolute;'>a</div><div style='top:18.635969333941613%;left:19.99925668165079%;font-size:16pt;color:rgba(115,129,161, 0.3);position:absolute;'> </div><div style='top:19.2160794230305%;left:19.737705302937588%;font-size:16pt;color:rgba(115,129,110, 0.3);position:absolute;'>g</div><div style='top:21.55781427158688%;left:23.780726658344463%;font-size:16pt;color:rgba(115,129,113, 0.3);position:absolute;'>r</div><div style='top:23.42968021567615%;left:25.11351826071588%;font-size:16pt;color:rgba(115,129,193, 0.3);position:absolute;'>a</div><div style='top:23.306754168801177%;left:23.50891228616237%;font-size:16pt;color:rgba(115,129,115, 0.3);position:absolute;'>i</div><div style='top:26.064279336811072%;left:28.722164299492896%;font-size:16pt;color:rgba(115,129,125, 0.3);position:absolute;'>n</div><div style='top:26.374349431841555%;left:28.75291504193674%;font-size:16pt;color:rgba(115,129,126, 0.3);position:absolute;'> </div><div style='top:29.525840669349304%;left:28.58397530352429%;font-size:16pt;color:rgba(115,129,125, 0.3);position:absolute;'>o</div><div style='top:30.072888140843887%;left:32.83436431374297%;font-size:16pt;color:rgba(115,129,147, 0.3);position:absolute;'>f</div><div style='top:31.376838907872283%;left:31.787123439068633%;font-size:16pt;color:rgba(115,129,160, 0.3);position:absolute;'> </div><div style='top:30.822061600739893%;left:32.80940199964692%;font-size:16pt;color:rgba(115,129,105, 0.3);position:absolute;'>s</div><div style='top:33.75450626020964%;left:32.467668996280935%;font-size:16pt;color:rgba(115,129,198, 0.3);position:absolute;'>a</div><div style='top:35.00073000280946%;left:36.80794537341181%;font-size:16pt;color:rgba(115,129,145, 0.3);position:absolute;'>l</div><div style='top:37.32402876635435%;left:39.192062743880825%;font-size:16pt;color:rgba(115,129,149, 0.3);position:absolute;'>t</div><div style='top:38.4871604636585%;left:37.18173437481049%;font-size:16pt;color:rgba(115,129,176, 0.3);position:absolute;'> </div><div style='top:40.2658551340794%;left:37.495689323690385%;font-size:16pt;color:rgba(115,129,160, 0.3);position:absolute;'>s</div><div style='top:40.40598785767907%;left:41.48232379829365%;font-size:16pt;color:rgba(115,129,197, 0.3);position:absolute;'>e</div><div style='top:40.081321616257775%;left:44.487863456066115%;font-size:16pt;color:rgba(115,129,192, 0.3);position:absolute;'>n</div><div style='top:42.454914168045384%;left:42.52322452019443%;font-size:16pt;color:rgba(115,129,187, 0.3);position:absolute;'>s</div><div style='top:43.09161440380057%;left:46.741090370906136%;font-size:16pt;color:rgba(115,129,178, 0.3);position:absolute;'>u</div><div style='top:44.514227871865565%;left:47.40532378122531%;font-size:16pt;color:rgba(115,129,171, 0.3);position:absolute;'>a</div><div style='top:47.9231211623558%;left:45.56537827018447%;font-size:16pt;color:rgba(115,129,178, 0.3);position:absolute;'>l</div><div style='top:48.21017119133961%;left:48.51216848923028%;font-size:16pt;color:rgba(115,129,155, 0.3);position:absolute;'>l</div><div style='top:48.40450418858721%;left:48.70032510203351%;font-size:16pt;color:rgba(115,129,172, 0.3);position:absolute;'>y</div><div style='top:50.72162320757604%;left:50.28358418355522%;font-size:16pt;color:rgba(115,129,149, 0.3);position:absolute;'> </div><div style='top:52.11197379320554%;left:54.70076337064102%;font-size:16pt;color:rgba(115,129,181, 0.3);position:absolute;'>a</div><div style='top:52.695173962847974%;left:56.275298888003285%;font-size:16pt;color:rgba(115,129,189, 0.3);position:absolute;'>f</div><div style='top:55.40807929226868%;left:56.85859077459988%;font-size:16pt;color:rgba(115,129,184, 0.3);position:absolute;'>f</div><div style='top:56.43679235537582%;left:57.50607487107388%;font-size:16pt;color:rgba(115,129,168, 0.3);position:absolute;'>l</div><div style='top:56.59489671215792%;left:59.59336246440795%;font-size:16pt;color:rgba(115,129,141, 0.3);position:absolute;'>i</div><div style='top:56.8399444179069%;left:59.81496475322592%;font-size:16pt;color:rgba(115,129,135, 0.3);position:absolute;'>a</div><div style='top:60.867151024290564%;left:61.232779488213424%;font-size:16pt;color:rgba(115,129,188, 0.3);position:absolute;'>t</div><div style='top:62.292010573242905%;left:60.182443053590035%;font-size:16pt;color:rgba(115,129,195, 0.3);position:absolute;'>e</div><div style='top:62.89217226440394%;left:62.26725747882175%;font-size:16pt;color:rgba(115,129,114, 0.3);position:absolute;'>d</div><div style='top:64.55458571383397%;left:62.44810130958764%;font-size:16pt;color:rgba(115,129,142, 0.3);position:absolute;'> </div><div style='top:63.34677319493714%;left:64.65629084790378%;font-size:16pt;color:rgba(115,129,153, 0.3);position:absolute;'>w</div><div style='top:66.76858656597332%;left:67.32055707615193%;font-size:16pt;color:rgba(115,129,108, 0.3);position:absolute;'>i</div><div style='top:66.6529074104356%;left:67.45351849288888%;font-size:16pt;color:rgba(115,129,130, 0.3);position:absolute;'>t</div><div style='top:69.29297169022715%;left:68.37420992905692%;font-size:16pt;color:rgba(115,129,175, 0.3);position:absolute;'>h</div><div style='top:69.08097447586007%;left:69.31913288238916%;font-size:16pt;color:rgba(115,129,125, 0.3);position:absolute;'> </div><div style='top:72.53716857712367%;left:74.12419014911703%;font-size:16pt;color:rgba(115,129,146, 0.3);position:absolute;'>m</div><div style='top:71.23222705959317%;left:72.70608881772385%;font-size:16pt;color:rgba(115,129,160, 0.3);position:absolute;'>o</div><div style='top:73.34554035426177%;left:76.04562044849095%;font-size:16pt;color:rgba(115,129,198, 0.3);position:absolute;'>i</div><div style='top:74.10323238192292%;left:78.29086647740661%;font-size:16pt;color:rgba(115,129,115, 0.3);position:absolute;'>s</div><div style='top:76.86115777770222%;left:78.64273896658872%;font-size:16pt;color:rgba(115,129,155, 0.3);position:absolute;'>t</div>\n",
       "</body>\n",
       "</html>\n"
      ],
      "text/plain": [
       "<IPython.core.display.HTML object>"
      ]
     },
     "metadata": {
      "isolated": true
     },
     "output_type": "display_data"
    }
   ],
   "source": [
    "src = \"like a grain of salt sensually affliated with moist in the air dissolve into skin deliquesce arid mind\"\n",
    "start = (10, 10)\n",
    "end = (75, 75)\n",
    "pts = interp(start, end, n=int(len(src)/2))\n",
    "new_divs=[]\n",
    "for i in range(int(len(src)/2)):\n",
    "    ch=src[i]\n",
    "    pt=pts[i]\n",
    "    gap=random.random()*3\n",
    "    gap2=random.random()*5\n",
    "    blue = random.randrange(100, 200)\n",
    "    this_div = mkdiv(ch, \n",
    "                     top=f\"{pt[1]+gap}%\",\n",
    "                     left=f\"{pt[0]+gap2}%\",\n",
    "                     font_size=\"16pt\",\n",
    "                     color=f\"rgba(115,129,{blue}, 0.3)\")\n",
    "    new_divs.append(this_div)\n",
    "html_src = html_tmpl.format(title=\"salt6\", content=\"\".join(new_divs))\n",
    "show_html(html_src)"
   ]
  },
  {
   "cell_type": "code",
   "execution_count": 54,
   "id": "145a3966",
   "metadata": {},
   "outputs": [
    {
     "name": "stdout",
     "output_type": "stream",
     "text": [
      "['like', 'a', 'grain', 'of', 'salt', 'sensually', 'affliated', 'with', 'moist', 'in', 'the', 'air', 'dissolve', 'into', 'skin', 'deliquesce', 'arid', 'mind']\n"
     ]
    }
   ],
   "source": [
    "words = src.split()\n",
    "print(words)"
   ]
  },
  {
   "cell_type": "code",
   "execution_count": 55,
   "id": "33dfbb26",
   "metadata": {},
   "outputs": [
    {
     "name": "stdout",
     "output_type": "stream",
     "text": [
      "10\n"
     ]
    },
    {
     "data": {
      "text/html": [
       "\n",
       "<DOCTYPE html>\n",
       "<html lang=\"en\">\n",
       "<head>\n",
       "    <meta charset=\"utf-8\">\n",
       "    <title>salt7</title>\n",
       "    <style>\n",
       "    html {min-height: 32em; overflow: hidden;}\n",
       "    </style>\n",
       "<body>\n",
       "<div style='top:10.0%;left:10.0%;transform:translate(-50%, -50%)deg);font-size:10pt;font-family:Andale Mono;color:rgba(115,129,140,1.0);position:absolute;'>l</div><div style='top:14.444444444444445%;left:14.444444444444445%;transform:translate(-50%, -50%)deg);font-size:9pt;font-family:Andale Mono;color:rgba(115,129,140,0.8);position:absolute;'>i</div><div style='top:18.88888888888889%;left:18.88888888888889%;transform:translate(-50%, -50%)deg);font-size:8pt;font-family:Andale Mono;color:rgba(115,129,140,0.6);position:absolute;'>k</div><div style='top:23.333333333333332%;left:23.333333333333332%;transform:translate(-50%, -50%)deg);font-size:7pt;font-family:Andale Mono;color:rgba(115,129,140,0.3999999999999999);position:absolute;'>e</div><div style='top:35.0%;left:10.0%;transform:translate(-50%, -50%)deg);font-size:10pt;font-family:Andale Mono;color:rgba(115,129,140,1.0);position:absolute;'>a</div><div style='top:60.0%;left:10.0%;transform:translate(-50%, -50%)deg);font-size:10pt;font-family:Andale Mono;color:rgba(115,129,140,1.0);position:absolute;'>g</div><div style='top:59.99999999999999%;left:14.444444444444445%;transform:translate(-50%, -50%)deg);font-size:9pt;font-family:Andale Mono;color:rgba(115,129,140,0.8);position:absolute;'>r</div><div style='top:60.0%;left:18.88888888888889%;transform:translate(-50%, -50%)deg);font-size:8pt;font-family:Andale Mono;color:rgba(115,129,140,0.6);position:absolute;'>a</div><div style='top:60.00000000000001%;left:23.333333333333332%;transform:translate(-50%, -50%)deg);font-size:7pt;font-family:Andale Mono;color:rgba(115,129,140,0.3999999999999999);position:absolute;'>i</div><div style='top:60.0%;left:27.77777777777778%;transform:translate(-50%, -50%)deg);font-size:6pt;font-family:Andale Mono;color:rgba(115,129,140,0.19999999999999996);position:absolute;'>n</div><div style='top:85.0%;left:10.0%;transform:translate(-50%, -50%)deg);font-size:10pt;font-family:Andale Mono;color:rgba(115,129,140,1.0);position:absolute;'>o</div><div style='top:82.77777777777777%;left:14.444444444444445%;transform:translate(-50%, -50%)deg);font-size:9pt;font-family:Andale Mono;color:rgba(115,129,140,0.8);position:absolute;'>f</div><div style='top:10.0%;left:35.0%;transform:translate(-50%, -50%)deg);font-size:10pt;font-family:Andale Mono;color:rgba(115,129,140,1.0);position:absolute;'>s</div><div style='top:14.444444444444445%;left:37.22222222222222%;transform:translate(-50%, -50%)deg);font-size:9pt;font-family:Andale Mono;color:rgba(115,129,140,0.8);position:absolute;'>a</div><div style='top:18.88888888888889%;left:39.44444444444444%;transform:translate(-50%, -50%)deg);font-size:8pt;font-family:Andale Mono;color:rgba(115,129,140,0.6);position:absolute;'>l</div><div style='top:23.333333333333332%;left:41.66666666666667%;transform:translate(-50%, -50%)deg);font-size:7pt;font-family:Andale Mono;color:rgba(115,129,140,0.3999999999999999);position:absolute;'>t</div><div style='top:35.0%;left:35.0%;transform:translate(-50%, -50%)deg);font-size:10pt;font-family:Andale Mono;color:rgba(115,129,140,1.0);position:absolute;'>s</div><div style='top:37.22222222222222%;left:37.22222222222222%;transform:translate(-50%, -50%)deg);font-size:9pt;font-family:Andale Mono;color:rgba(115,129,140,0.8);position:absolute;'>e</div><div style='top:39.44444444444444%;left:39.44444444444444%;transform:translate(-50%, -50%)deg);font-size:8pt;font-family:Andale Mono;color:rgba(115,129,140,0.6);position:absolute;'>n</div><div style='top:41.66666666666667%;left:41.66666666666667%;transform:translate(-50%, -50%)deg);font-size:7pt;font-family:Andale Mono;color:rgba(115,129,140,0.3999999999999999);position:absolute;'>s</div><div style='top:43.888888888888886%;left:43.888888888888886%;transform:translate(-50%, -50%)deg);font-size:6pt;font-family:Andale Mono;color:rgba(115,129,140,0.19999999999999996);position:absolute;'>u</div><div style='top:46.111111111111114%;left:46.111111111111114%;transform:translate(-50%, -50%)deg);font-size:5pt;font-family:Andale Mono;color:rgba(115,129,140,0.0);position:absolute;'>a</div><div style='top:48.33333333333333%;left:48.33333333333333%;transform:translate(-50%, -50%)deg);font-size:4pt;font-family:Andale Mono;color:rgba(115,129,140,-0.20000000000000018);position:absolute;'>l</div><div style='top:50.55555555555556%;left:50.55555555555556%;transform:translate(-50%, -50%)deg);font-size:3pt;font-family:Andale Mono;color:rgba(115,129,140,-0.40000000000000013);position:absolute;'>l</div><div style='top:52.77777777777778%;left:52.77777777777778%;transform:translate(-50%, -50%)deg);font-size:2pt;font-family:Andale Mono;color:rgba(115,129,140,-0.6000000000000001);position:absolute;'>y</div><div style='top:60.0%;left:35.0%;transform:translate(-50%, -50%)deg);font-size:10pt;font-family:Andale Mono;color:rgba(115,129,140,1.0);position:absolute;'>a</div><div style='top:59.99999999999999%;left:37.22222222222222%;transform:translate(-50%, -50%)deg);font-size:9pt;font-family:Andale Mono;color:rgba(115,129,140,0.8);position:absolute;'>f</div><div style='top:60.0%;left:39.44444444444444%;transform:translate(-50%, -50%)deg);font-size:8pt;font-family:Andale Mono;color:rgba(115,129,140,0.6);position:absolute;'>f</div><div style='top:60.00000000000001%;left:41.66666666666667%;transform:translate(-50%, -50%)deg);font-size:7pt;font-family:Andale Mono;color:rgba(115,129,140,0.3999999999999999);position:absolute;'>l</div><div style='top:60.0%;left:43.888888888888886%;transform:translate(-50%, -50%)deg);font-size:6pt;font-family:Andale Mono;color:rgba(115,129,140,0.19999999999999996);position:absolute;'>i</div><div style='top:60.0%;left:46.111111111111114%;transform:translate(-50%, -50%)deg);font-size:5pt;font-family:Andale Mono;color:rgba(115,129,140,0.0);position:absolute;'>a</div><div style='top:60.0%;left:48.33333333333333%;transform:translate(-50%, -50%)deg);font-size:4pt;font-family:Andale Mono;color:rgba(115,129,140,-0.20000000000000018);position:absolute;'>t</div><div style='top:60.0%;left:50.55555555555556%;transform:translate(-50%, -50%)deg);font-size:3pt;font-family:Andale Mono;color:rgba(115,129,140,-0.40000000000000013);position:absolute;'>e</div><div style='top:60.0%;left:52.77777777777778%;transform:translate(-50%, -50%)deg);font-size:2pt;font-family:Andale Mono;color:rgba(115,129,140,-0.6000000000000001);position:absolute;'>d</div><div style='top:85.0%;left:35.0%;transform:translate(-50%, -50%)deg);font-size:10pt;font-family:Andale Mono;color:rgba(115,129,140,1.0);position:absolute;'>w</div><div style='top:82.77777777777777%;left:37.22222222222222%;transform:translate(-50%, -50%)deg);font-size:9pt;font-family:Andale Mono;color:rgba(115,129,140,0.8);position:absolute;'>i</div><div style='top:80.55555555555556%;left:39.44444444444444%;transform:translate(-50%, -50%)deg);font-size:8pt;font-family:Andale Mono;color:rgba(115,129,140,0.6);position:absolute;'>t</div><div style='top:78.33333333333334%;left:41.66666666666667%;transform:translate(-50%, -50%)deg);font-size:7pt;font-family:Andale Mono;color:rgba(115,129,140,0.3999999999999999);position:absolute;'>h</div><div style='top:10.0%;left:60.0%;transform:translate(-50%, -50%)deg);font-size:10pt;font-family:Andale Mono;color:rgba(115,129,140,1.0);position:absolute;'>m</div><div style='top:14.444444444444445%;left:59.99999999999999%;transform:translate(-50%, -50%)deg);font-size:9pt;font-family:Andale Mono;color:rgba(115,129,140,0.8);position:absolute;'>o</div><div style='top:18.88888888888889%;left:60.0%;transform:translate(-50%, -50%)deg);font-size:8pt;font-family:Andale Mono;color:rgba(115,129,140,0.6);position:absolute;'>i</div><div style='top:23.333333333333332%;left:60.00000000000001%;transform:translate(-50%, -50%)deg);font-size:7pt;font-family:Andale Mono;color:rgba(115,129,140,0.3999999999999999);position:absolute;'>s</div><div style='top:27.77777777777778%;left:60.0%;transform:translate(-50%, -50%)deg);font-size:6pt;font-family:Andale Mono;color:rgba(115,129,140,0.19999999999999996);position:absolute;'>t</div><div style='top:35.0%;left:60.0%;transform:translate(-50%, -50%)deg);font-size:10pt;font-family:Andale Mono;color:rgba(115,129,140,1.0);position:absolute;'>i</div><div style='top:37.22222222222222%;left:59.99999999999999%;transform:translate(-50%, -50%)deg);font-size:9pt;font-family:Andale Mono;color:rgba(115,129,140,0.8);position:absolute;'>n</div><div style='top:60.0%;left:60.0%;transform:translate(-50%, -50%)deg);font-size:10pt;font-family:Andale Mono;color:rgba(115,129,140,1.0);position:absolute;'>t</div><div style='top:59.99999999999999%;left:59.99999999999999%;transform:translate(-50%, -50%)deg);font-size:9pt;font-family:Andale Mono;color:rgba(115,129,140,0.8);position:absolute;'>h</div><div style='top:60.0%;left:60.0%;transform:translate(-50%, -50%)deg);font-size:8pt;font-family:Andale Mono;color:rgba(115,129,140,0.6);position:absolute;'>e</div><div style='top:85.0%;left:60.0%;transform:translate(-50%, -50%)deg);font-size:10pt;font-family:Andale Mono;color:rgba(115,129,140,1.0);position:absolute;'>a</div><div style='top:82.77777777777777%;left:59.99999999999999%;transform:translate(-50%, -50%)deg);font-size:9pt;font-family:Andale Mono;color:rgba(115,129,140,0.8);position:absolute;'>i</div><div style='top:80.55555555555556%;left:60.0%;transform:translate(-50%, -50%)deg);font-size:8pt;font-family:Andale Mono;color:rgba(115,129,140,0.6);position:absolute;'>r</div><div style='top:10.0%;left:85.0%;transform:translate(-50%, -50%)deg);font-size:10pt;font-family:Andale Mono;color:rgba(115,129,140,1.0);position:absolute;'>d</div><div style='top:14.444444444444445%;left:82.77777777777777%;transform:translate(-50%, -50%)deg);font-size:9pt;font-family:Andale Mono;color:rgba(115,129,140,0.8);position:absolute;'>i</div><div style='top:18.88888888888889%;left:80.55555555555556%;transform:translate(-50%, -50%)deg);font-size:8pt;font-family:Andale Mono;color:rgba(115,129,140,0.6);position:absolute;'>s</div><div style='top:23.333333333333332%;left:78.33333333333334%;transform:translate(-50%, -50%)deg);font-size:7pt;font-family:Andale Mono;color:rgba(115,129,140,0.3999999999999999);position:absolute;'>s</div><div style='top:27.77777777777778%;left:76.11111111111111%;transform:translate(-50%, -50%)deg);font-size:6pt;font-family:Andale Mono;color:rgba(115,129,140,0.19999999999999996);position:absolute;'>o</div><div style='top:32.22222222222222%;left:73.88888888888889%;transform:translate(-50%, -50%)deg);font-size:5pt;font-family:Andale Mono;color:rgba(115,129,140,0.0);position:absolute;'>l</div><div style='top:36.666666666666664%;left:71.66666666666666%;transform:translate(-50%, -50%)deg);font-size:4pt;font-family:Andale Mono;color:rgba(115,129,140,-0.20000000000000018);position:absolute;'>v</div><div style='top:41.111111111111114%;left:69.44444444444444%;transform:translate(-50%, -50%)deg);font-size:3pt;font-family:Andale Mono;color:rgba(115,129,140,-0.40000000000000013);position:absolute;'>e</div><div style='top:35.0%;left:85.0%;transform:translate(-50%, -50%)deg);font-size:10pt;font-family:Andale Mono;color:rgba(115,129,140,1.0);position:absolute;'>i</div><div style='top:37.22222222222222%;left:82.77777777777777%;transform:translate(-50%, -50%)deg);font-size:9pt;font-family:Andale Mono;color:rgba(115,129,140,0.8);position:absolute;'>n</div><div style='top:39.44444444444444%;left:80.55555555555556%;transform:translate(-50%, -50%)deg);font-size:8pt;font-family:Andale Mono;color:rgba(115,129,140,0.6);position:absolute;'>t</div><div style='top:41.66666666666667%;left:78.33333333333334%;transform:translate(-50%, -50%)deg);font-size:7pt;font-family:Andale Mono;color:rgba(115,129,140,0.3999999999999999);position:absolute;'>o</div><div style='top:60.0%;left:85.0%;transform:translate(-50%, -50%)deg);font-size:10pt;font-family:Andale Mono;color:rgba(115,129,140,1.0);position:absolute;'>s</div><div style='top:59.99999999999999%;left:82.77777777777777%;transform:translate(-50%, -50%)deg);font-size:9pt;font-family:Andale Mono;color:rgba(115,129,140,0.8);position:absolute;'>k</div><div style='top:60.0%;left:80.55555555555556%;transform:translate(-50%, -50%)deg);font-size:8pt;font-family:Andale Mono;color:rgba(115,129,140,0.6);position:absolute;'>i</div><div style='top:60.00000000000001%;left:78.33333333333334%;transform:translate(-50%, -50%)deg);font-size:7pt;font-family:Andale Mono;color:rgba(115,129,140,0.3999999999999999);position:absolute;'>n</div><div style='top:85.0%;left:85.0%;transform:translate(-50%, -50%)deg);font-size:10pt;font-family:Andale Mono;color:rgba(115,129,140,1.0);position:absolute;'>d</div><div style='top:82.77777777777777%;left:82.77777777777777%;transform:translate(-50%, -50%)deg);font-size:9pt;font-family:Andale Mono;color:rgba(115,129,140,0.8);position:absolute;'>e</div><div style='top:80.55555555555556%;left:80.55555555555556%;transform:translate(-50%, -50%)deg);font-size:8pt;font-family:Andale Mono;color:rgba(115,129,140,0.6);position:absolute;'>l</div><div style='top:78.33333333333334%;left:78.33333333333334%;transform:translate(-50%, -50%)deg);font-size:7pt;font-family:Andale Mono;color:rgba(115,129,140,0.3999999999999999);position:absolute;'>i</div><div style='top:76.11111111111111%;left:76.11111111111111%;transform:translate(-50%, -50%)deg);font-size:6pt;font-family:Andale Mono;color:rgba(115,129,140,0.19999999999999996);position:absolute;'>q</div><div style='top:73.88888888888889%;left:73.88888888888889%;transform:translate(-50%, -50%)deg);font-size:5pt;font-family:Andale Mono;color:rgba(115,129,140,0.0);position:absolute;'>u</div><div style='top:71.66666666666666%;left:71.66666666666666%;transform:translate(-50%, -50%)deg);font-size:4pt;font-family:Andale Mono;color:rgba(115,129,140,-0.20000000000000018);position:absolute;'>e</div><div style='top:69.44444444444444%;left:69.44444444444444%;transform:translate(-50%, -50%)deg);font-size:3pt;font-family:Andale Mono;color:rgba(115,129,140,-0.40000000000000013);position:absolute;'>s</div><div style='top:67.22222222222221%;left:67.22222222222221%;transform:translate(-50%, -50%)deg);font-size:2pt;font-family:Andale Mono;color:rgba(115,129,140,-0.6000000000000001);position:absolute;'>c</div><div style='top:65.0%;left:65.0%;transform:translate(-50%, -50%)deg);font-size:1pt;font-family:Andale Mono;color:rgba(115,129,140,-0.8);position:absolute;'>e</div>\n",
       "</body>\n",
       "</html>\n"
      ],
      "text/plain": [
       "<IPython.core.display.HTML object>"
      ]
     },
     "metadata": {
      "isolated": true
     },
     "output_type": "display_data"
    }
   ],
   "source": [
    "longest = max([len(w) for w in words])\n",
    "print(longest)\n",
    "divs =[]\n",
    "grid_size = 4\n",
    "current_index = 0\n",
    "for i in range(grid_size):\n",
    "    for j in range(grid_size):\n",
    "        x1 = 10 + (100/grid_size)*i\n",
    "        y1 = 10 + (100/grid_size)*j\n",
    "        x2 = 50 + (20/grid_size)*i\n",
    "        y2 = 50 + (20/grid_size)*j\n",
    "        word = words[current_index]\n",
    "        pts = interp((x1, y1), (x2, y2), longest)\n",
    "        current_index += 1\n",
    "        for k in range(len(word)):\n",
    "            pt = pts[k]\n",
    "            this_div = mkdiv(word[k],\n",
    "                            top=f\"{pt[1]}%\",\n",
    "                            left=f\"{pt[0]}%\",\n",
    "                            transform=f\"translate(-50%, -50%)deg)\",\n",
    "                            font_size=f\"{10 - (k*1)}pt\",\n",
    "                            font_family=\"Andale Mono\",\n",
    "                            color=f\"rgba(115,129,140,{1.0-k*0.2})\"\n",
    "                            )\n",
    "            divs.append(this_div)\n",
    "html_src = html_tmpl.format(title=\"salt7\", content=\"\".join(divs))\n",
    "show_html(html_src)"
   ]
  },
  {
   "cell_type": "code",
   "execution_count": 56,
   "id": "83f20a33",
   "metadata": {},
   "outputs": [
    {
     "data": {
      "text/html": [
       "\n",
       "<DOCTYPE html>\n",
       "<html lang=\"en\">\n",
       "<head>\n",
       "    <meta charset=\"utf-8\">\n",
       "    <title>salt8</title>\n",
       "    <style>\n",
       "    html {min-height: 32em; overflow: hidden;}\n",
       "    </style>\n",
       "<body>\n",
       "<div style='top:20.0%;left:20.0%;font-size:10pt;font-family:Andale Mono;color:rgba(115,129,140);position:absolute;'>l</div><div style='top:20.0%;left:26.666666666666668%;font-size:10pt;font-family:Andale Mono;color:rgba(115,129,140);position:absolute;'>i</div><div style='top:20.0%;left:33.33333333333333%;font-size:10pt;font-family:Andale Mono;color:rgba(115,129,140);position:absolute;'>k</div><div style='top:20.0%;left:40.0%;font-size:10pt;font-family:Andale Mono;color:rgba(115,129,140);position:absolute;'>e</div><div style='top:19.0%;left:39.0%;font-size:10pt;font-family:Andale Mono;color:rgba(115,129,140);position:absolute;'>a</div><div style='top:22.333333333333336%;left:39.0%;font-size:10pt;font-family:Andale Mono;color:rgba(115,129,140);position:absolute;'> </div><div style='top:25.666666666666668%;left:39.0%;font-size:10pt;font-family:Andale Mono;color:rgba(115,129,140);position:absolute;'>g</div><div style='top:29.0%;left:39.0%;font-size:10pt;font-family:Andale Mono;color:rgba(115,129,140);position:absolute;'>r</div><div style='top:32.33333333333333%;left:39.0%;font-size:10pt;font-family:Andale Mono;color:rgba(115,129,140);position:absolute;'>a</div><div style='top:35.66666666666667%;left:39.0%;font-size:10pt;font-family:Andale Mono;color:rgba(115,129,140);position:absolute;'>i</div><div style='top:39.0%;left:39.0%;font-size:10pt;font-family:Andale Mono;color:rgba(115,129,140);position:absolute;'>n</div><div style='top:38.0%;left:38.0%;font-size:10pt;font-family:Andale Mono;color:rgba(115,129,140);position:absolute;'>o</div><div style='top:38.0%;left:34.66666666666667%;font-size:10pt;font-family:Andale Mono;color:rgba(115,129,140);position:absolute;'>f</div><div style='top:38.0%;left:31.333333333333336%;font-size:10pt;font-family:Andale Mono;color:rgba(115,129,140);position:absolute;'> </div><div style='top:38.0%;left:28.0%;font-size:10pt;font-family:Andale Mono;color:rgba(115,129,140);position:absolute;'>s</div><div style='top:38.0%;left:24.666666666666668%;font-size:10pt;font-family:Andale Mono;color:rgba(115,129,140);position:absolute;'>a</div><div style='top:38.0%;left:21.333333333333332%;font-size:10pt;font-family:Andale Mono;color:rgba(115,129,140);position:absolute;'>l</div><div style='top:38.0%;left:18.0%;font-size:10pt;font-family:Andale Mono;color:rgba(115,129,140);position:absolute;'>t</div><div style='top:37.0%;left:17.0%;font-size:10pt;font-family:Andale Mono;color:rgba(115,129,140);position:absolute;'>m</div><div style='top:32.0%;left:17.0%;font-size:10pt;font-family:Andale Mono;color:rgba(115,129,140);position:absolute;'>o</div><div style='top:27.0%;left:17.0%;font-size:10pt;font-family:Andale Mono;color:rgba(115,129,140);position:absolute;'>i</div><div style='top:22.0%;left:17.0%;font-size:10pt;font-family:Andale Mono;color:rgba(115,129,140);position:absolute;'>s</div><div style='top:17.0%;left:17.0%;font-size:10pt;font-family:Andale Mono;color:rgba(115,129,140);position:absolute;'>t</div>\n",
       "</body>\n",
       "</html>\n"
      ],
      "text/plain": [
       "<IPython.core.display.HTML object>"
      ]
     },
     "metadata": {
      "isolated": true
     },
     "output_type": "display_data"
    }
   ],
   "source": [
    "divs = []\n",
    "parts = ['like', 'a grain', 'of salt', 'moist']\n",
    "polygon = [(20, 20), (40, 20), (40, 40), (20, 40), (20, 20)]\n",
    "for i in range(len(polygon)-1):\n",
    "    side_text = parts[i]\n",
    "    pts = interp(polygon[i], polygon[i+1], n=len(side_text))\n",
    "    for j in range(len(pts)):\n",
    "        ch = side_text[j]\n",
    "        pt = pts[j]\n",
    "        this_div = mkdiv(ch,\n",
    "                     top=f\"{pt[1]-i}%\",\n",
    "                     left=f\"{pt[0]-i}%\",\n",
    "                     font_size=\"10pt\",\n",
    "                     font_family=\"Andale Mono\",\n",
    "                     color=f\"rgba(115,129,140)\")\n",
    "        divs.append(this_div)\n",
    "html_src = html_tmpl.format(title=\"salt8\", content=\"\".join(divs))\n",
    "show_html(html_src)"
   ]
  },
  {
   "cell_type": "code",
   "execution_count": 57,
   "id": "68ad508e",
   "metadata": {
    "scrolled": true
   },
   "outputs": [
    {
     "data": {
      "text/html": [
       "\n",
       "<DOCTYPE html>\n",
       "<html lang=\"en\">\n",
       "<head>\n",
       "    <meta charset=\"utf-8\">\n",
       "    <title>salt8</title>\n",
       "    <style>\n",
       "    html {min-height: 32em; overflow: hidden;}\n",
       "    </style>\n",
       "<body>\n",
       "<div style='top:3.0%;left:3.0%;font-size:10pt;font-family:Andale Mono;color:rgba(115,129,140, 0.0);position:absolute;'>l</div><div style='top:3.0%;left:9.666666666666666%;font-size:10pt;font-family:Andale Mono;color:rgba(115,129,140, 0.0);position:absolute;'>i</div><div style='top:3.0%;left:16.333333333333332%;font-size:10pt;font-family:Andale Mono;color:rgba(115,129,140, 0.0);position:absolute;'>k</div><div style='top:3.0%;left:23.0%;font-size:10pt;font-family:Andale Mono;color:rgba(115,129,140, 0.0);position:absolute;'>e</div><div style='top:2.0%;left:22.0%;font-size:10pt;font-family:Andale Mono;color:rgba(115,129,140, 0.0);position:absolute;'>a</div><div style='top:5.333333333333333%;left:22.0%;font-size:10pt;font-family:Andale Mono;color:rgba(115,129,140, 0.0);position:absolute;'> </div><div style='top:8.666666666666666%;left:22.0%;font-size:10pt;font-family:Andale Mono;color:rgba(115,129,140, 0.0);position:absolute;'>g</div><div style='top:12.0%;left:22.0%;font-size:10pt;font-family:Andale Mono;color:rgba(115,129,140, 0.0);position:absolute;'>r</div><div style='top:15.333333333333332%;left:22.0%;font-size:10pt;font-family:Andale Mono;color:rgba(115,129,140, 0.0);position:absolute;'>a</div><div style='top:18.666666666666668%;left:22.0%;font-size:10pt;font-family:Andale Mono;color:rgba(115,129,140, 0.0);position:absolute;'>i</div><div style='top:22.0%;left:22.0%;font-size:10pt;font-family:Andale Mono;color:rgba(115,129,140, 0.0);position:absolute;'>n</div><div style='top:21.0%;left:21.0%;font-size:10pt;font-family:Andale Mono;color:rgba(115,129,140, 0.0);position:absolute;'>o</div><div style='top:21.0%;left:17.666666666666668%;font-size:10pt;font-family:Andale Mono;color:rgba(115,129,140, 0.0);position:absolute;'>f</div><div style='top:21.0%;left:14.333333333333336%;font-size:10pt;font-family:Andale Mono;color:rgba(115,129,140, 0.0);position:absolute;'> </div><div style='top:21.0%;left:11.0%;font-size:10pt;font-family:Andale Mono;color:rgba(115,129,140, 0.0);position:absolute;'>s</div><div style='top:21.0%;left:7.666666666666668%;font-size:10pt;font-family:Andale Mono;color:rgba(115,129,140, 0.0);position:absolute;'>a</div><div style='top:21.0%;left:4.333333333333332%;font-size:10pt;font-family:Andale Mono;color:rgba(115,129,140, 0.0);position:absolute;'>l</div><div style='top:21.0%;left:1.0%;font-size:10pt;font-family:Andale Mono;color:rgba(115,129,140, 0.0);position:absolute;'>t</div><div style='top:20.0%;left:0.0%;font-size:10pt;font-family:Andale Mono;color:rgba(115,129,140, 0.0);position:absolute;'>m</div><div style='top:15.0%;left:0.0%;font-size:10pt;font-family:Andale Mono;color:rgba(115,129,140, 0.0);position:absolute;'>o</div><div style='top:10.0%;left:0.0%;font-size:10pt;font-family:Andale Mono;color:rgba(115,129,140, 0.0);position:absolute;'>i</div><div style='top:5.0%;left:0.0%;font-size:10pt;font-family:Andale Mono;color:rgba(115,129,140, 0.0);position:absolute;'>s</div><div style='top:0.0%;left:0.0%;font-size:10pt;font-family:Andale Mono;color:rgba(115,129,140, 0.0);position:absolute;'>t</div><div style='top:13.0%;left:13.0%;font-size:10pt;font-family:Andale Mono;color:rgba(115,129,140, 0.25);position:absolute;'>l</div><div style='top:13.0%;left:19.666666666666668%;font-size:10pt;font-family:Andale Mono;color:rgba(115,129,140, 0.25);position:absolute;'>i</div><div style='top:13.0%;left:26.333333333333336%;font-size:10pt;font-family:Andale Mono;color:rgba(115,129,140, 0.25);position:absolute;'>k</div><div style='top:13.0%;left:33.0%;font-size:10pt;font-family:Andale Mono;color:rgba(115,129,140, 0.25);position:absolute;'>e</div><div style='top:12.0%;left:32.0%;font-size:10pt;font-family:Andale Mono;color:rgba(115,129,140, 0.25);position:absolute;'>a</div><div style='top:15.333333333333334%;left:32.0%;font-size:10pt;font-family:Andale Mono;color:rgba(115,129,140, 0.25);position:absolute;'> </div><div style='top:18.666666666666668%;left:32.0%;font-size:10pt;font-family:Andale Mono;color:rgba(115,129,140, 0.25);position:absolute;'>g</div><div style='top:22.0%;left:32.0%;font-size:10pt;font-family:Andale Mono;color:rgba(115,129,140, 0.25);position:absolute;'>r</div><div style='top:25.333333333333336%;left:32.0%;font-size:10pt;font-family:Andale Mono;color:rgba(115,129,140, 0.25);position:absolute;'>a</div><div style='top:28.666666666666668%;left:32.0%;font-size:10pt;font-family:Andale Mono;color:rgba(115,129,140, 0.25);position:absolute;'>i</div><div style='top:32.0%;left:32.0%;font-size:10pt;font-family:Andale Mono;color:rgba(115,129,140, 0.25);position:absolute;'>n</div><div style='top:31.0%;left:31.0%;font-size:10pt;font-family:Andale Mono;color:rgba(115,129,140, 0.25);position:absolute;'>o</div><div style='top:31.0%;left:27.666666666666668%;font-size:10pt;font-family:Andale Mono;color:rgba(115,129,140, 0.25);position:absolute;'>f</div><div style='top:31.000000000000004%;left:24.333333333333336%;font-size:10pt;font-family:Andale Mono;color:rgba(115,129,140, 0.25);position:absolute;'> </div><div style='top:31.0%;left:21.0%;font-size:10pt;font-family:Andale Mono;color:rgba(115,129,140, 0.25);position:absolute;'>s</div><div style='top:31.0%;left:17.666666666666668%;font-size:10pt;font-family:Andale Mono;color:rgba(115,129,140, 0.25);position:absolute;'>a</div><div style='top:31.0%;left:14.333333333333332%;font-size:10pt;font-family:Andale Mono;color:rgba(115,129,140, 0.25);position:absolute;'>l</div><div style='top:31.0%;left:11.0%;font-size:10pt;font-family:Andale Mono;color:rgba(115,129,140, 0.25);position:absolute;'>t</div><div style='top:30.0%;left:10.0%;font-size:10pt;font-family:Andale Mono;color:rgba(115,129,140, 0.25);position:absolute;'>m</div><div style='top:25.0%;left:10.0%;font-size:10pt;font-family:Andale Mono;color:rgba(115,129,140, 0.25);position:absolute;'>o</div><div style='top:20.0%;left:10.0%;font-size:10pt;font-family:Andale Mono;color:rgba(115,129,140, 0.25);position:absolute;'>i</div><div style='top:15.0%;left:10.0%;font-size:10pt;font-family:Andale Mono;color:rgba(115,129,140, 0.25);position:absolute;'>s</div><div style='top:10.0%;left:10.0%;font-size:10pt;font-family:Andale Mono;color:rgba(115,129,140, 0.25);position:absolute;'>t</div><div style='top:23.0%;left:23.0%;font-size:10pt;font-family:Andale Mono;color:rgba(115,129,140, 0.5);position:absolute;'>l</div><div style='top:23.0%;left:29.666666666666668%;font-size:10pt;font-family:Andale Mono;color:rgba(115,129,140, 0.5);position:absolute;'>i</div><div style='top:23.0%;left:36.33333333333333%;font-size:10pt;font-family:Andale Mono;color:rgba(115,129,140, 0.5);position:absolute;'>k</div><div style='top:23.0%;left:43.0%;font-size:10pt;font-family:Andale Mono;color:rgba(115,129,140, 0.5);position:absolute;'>e</div><div style='top:22.0%;left:42.0%;font-size:10pt;font-family:Andale Mono;color:rgba(115,129,140, 0.5);position:absolute;'>a</div><div style='top:25.333333333333336%;left:42.0%;font-size:10pt;font-family:Andale Mono;color:rgba(115,129,140, 0.5);position:absolute;'> </div><div style='top:28.666666666666668%;left:42.0%;font-size:10pt;font-family:Andale Mono;color:rgba(115,129,140, 0.5);position:absolute;'>g</div><div style='top:32.0%;left:42.0%;font-size:10pt;font-family:Andale Mono;color:rgba(115,129,140, 0.5);position:absolute;'>r</div><div style='top:35.33333333333333%;left:42.0%;font-size:10pt;font-family:Andale Mono;color:rgba(115,129,140, 0.5);position:absolute;'>a</div><div style='top:38.66666666666667%;left:42.0%;font-size:10pt;font-family:Andale Mono;color:rgba(115,129,140, 0.5);position:absolute;'>i</div><div style='top:42.0%;left:42.0%;font-size:10pt;font-family:Andale Mono;color:rgba(115,129,140, 0.5);position:absolute;'>n</div><div style='top:41.0%;left:41.0%;font-size:10pt;font-family:Andale Mono;color:rgba(115,129,140, 0.5);position:absolute;'>o</div><div style='top:41.0%;left:37.66666666666667%;font-size:10pt;font-family:Andale Mono;color:rgba(115,129,140, 0.5);position:absolute;'>f</div><div style='top:41.0%;left:34.333333333333336%;font-size:10pt;font-family:Andale Mono;color:rgba(115,129,140, 0.5);position:absolute;'> </div><div style='top:41.0%;left:31.0%;font-size:10pt;font-family:Andale Mono;color:rgba(115,129,140, 0.5);position:absolute;'>s</div><div style='top:41.0%;left:27.666666666666668%;font-size:10pt;font-family:Andale Mono;color:rgba(115,129,140, 0.5);position:absolute;'>a</div><div style='top:41.0%;left:24.333333333333332%;font-size:10pt;font-family:Andale Mono;color:rgba(115,129,140, 0.5);position:absolute;'>l</div><div style='top:41.0%;left:21.0%;font-size:10pt;font-family:Andale Mono;color:rgba(115,129,140, 0.5);position:absolute;'>t</div><div style='top:40.0%;left:20.0%;font-size:10pt;font-family:Andale Mono;color:rgba(115,129,140, 0.5);position:absolute;'>m</div><div style='top:35.0%;left:20.0%;font-size:10pt;font-family:Andale Mono;color:rgba(115,129,140, 0.5);position:absolute;'>o</div><div style='top:30.0%;left:20.0%;font-size:10pt;font-family:Andale Mono;color:rgba(115,129,140, 0.5);position:absolute;'>i</div><div style='top:25.0%;left:20.0%;font-size:10pt;font-family:Andale Mono;color:rgba(115,129,140, 0.5);position:absolute;'>s</div><div style='top:20.0%;left:20.0%;font-size:10pt;font-family:Andale Mono;color:rgba(115,129,140, 0.5);position:absolute;'>t</div><div style='top:33.0%;left:33.0%;font-size:10pt;font-family:Andale Mono;color:rgba(115,129,140, 0.75);position:absolute;'>l</div><div style='top:33.0%;left:39.66666666666667%;font-size:10pt;font-family:Andale Mono;color:rgba(115,129,140, 0.75);position:absolute;'>i</div><div style='top:33.0%;left:46.33333333333333%;font-size:10pt;font-family:Andale Mono;color:rgba(115,129,140, 0.75);position:absolute;'>k</div><div style='top:33.0%;left:53.0%;font-size:10pt;font-family:Andale Mono;color:rgba(115,129,140, 0.75);position:absolute;'>e</div><div style='top:32.0%;left:52.0%;font-size:10pt;font-family:Andale Mono;color:rgba(115,129,140, 0.75);position:absolute;'>a</div><div style='top:35.33333333333333%;left:52.0%;font-size:10pt;font-family:Andale Mono;color:rgba(115,129,140, 0.75);position:absolute;'> </div><div style='top:38.66666666666667%;left:52.0%;font-size:10pt;font-family:Andale Mono;color:rgba(115,129,140, 0.75);position:absolute;'>g</div><div style='top:42.0%;left:52.0%;font-size:10pt;font-family:Andale Mono;color:rgba(115,129,140, 0.75);position:absolute;'>r</div><div style='top:45.33333333333333%;left:52.0%;font-size:10pt;font-family:Andale Mono;color:rgba(115,129,140, 0.75);position:absolute;'>a</div><div style='top:48.66666666666667%;left:52.0%;font-size:10pt;font-family:Andale Mono;color:rgba(115,129,140, 0.75);position:absolute;'>i</div><div style='top:52.0%;left:52.0%;font-size:10pt;font-family:Andale Mono;color:rgba(115,129,140, 0.75);position:absolute;'>n</div><div style='top:51.0%;left:51.0%;font-size:10pt;font-family:Andale Mono;color:rgba(115,129,140, 0.75);position:absolute;'>o</div><div style='top:51.0%;left:47.66666666666667%;font-size:10pt;font-family:Andale Mono;color:rgba(115,129,140, 0.75);position:absolute;'>f</div><div style='top:51.0%;left:44.333333333333336%;font-size:10pt;font-family:Andale Mono;color:rgba(115,129,140, 0.75);position:absolute;'> </div><div style='top:51.0%;left:41.0%;font-size:10pt;font-family:Andale Mono;color:rgba(115,129,140, 0.75);position:absolute;'>s</div><div style='top:51.0%;left:37.66666666666667%;font-size:10pt;font-family:Andale Mono;color:rgba(115,129,140, 0.75);position:absolute;'>a</div><div style='top:51.0%;left:34.33333333333333%;font-size:10pt;font-family:Andale Mono;color:rgba(115,129,140, 0.75);position:absolute;'>l</div><div style='top:51.0%;left:31.0%;font-size:10pt;font-family:Andale Mono;color:rgba(115,129,140, 0.75);position:absolute;'>t</div><div style='top:50.0%;left:30.0%;font-size:10pt;font-family:Andale Mono;color:rgba(115,129,140, 0.75);position:absolute;'>m</div><div style='top:45.0%;left:30.0%;font-size:10pt;font-family:Andale Mono;color:rgba(115,129,140, 0.75);position:absolute;'>o</div><div style='top:40.0%;left:30.0%;font-size:10pt;font-family:Andale Mono;color:rgba(115,129,140, 0.75);position:absolute;'>i</div><div style='top:35.0%;left:30.0%;font-size:10pt;font-family:Andale Mono;color:rgba(115,129,140, 0.75);position:absolute;'>s</div><div style='top:30.0%;left:30.0%;font-size:10pt;font-family:Andale Mono;color:rgba(115,129,140, 0.75);position:absolute;'>t</div><div style='top:43.0%;left:43.0%;font-size:10pt;font-family:Andale Mono;color:rgba(115,129,140, 1.0);position:absolute;'>l</div><div style='top:43.0%;left:49.66666666666667%;font-size:10pt;font-family:Andale Mono;color:rgba(115,129,140, 1.0);position:absolute;'>i</div><div style='top:43.0%;left:56.333333333333336%;font-size:10pt;font-family:Andale Mono;color:rgba(115,129,140, 1.0);position:absolute;'>k</div><div style='top:43.0%;left:63.0%;font-size:10pt;font-family:Andale Mono;color:rgba(115,129,140, 1.0);position:absolute;'>e</div><div style='top:42.0%;left:62.0%;font-size:10pt;font-family:Andale Mono;color:rgba(115,129,140, 1.0);position:absolute;'>a</div><div style='top:45.333333333333336%;left:62.0%;font-size:10pt;font-family:Andale Mono;color:rgba(115,129,140, 1.0);position:absolute;'> </div><div style='top:48.66666666666667%;left:62.00000000000001%;font-size:10pt;font-family:Andale Mono;color:rgba(115,129,140, 1.0);position:absolute;'>g</div><div style='top:52.0%;left:62.0%;font-size:10pt;font-family:Andale Mono;color:rgba(115,129,140, 1.0);position:absolute;'>r</div><div style='top:55.333333333333336%;left:62.0%;font-size:10pt;font-family:Andale Mono;color:rgba(115,129,140, 1.0);position:absolute;'>a</div><div style='top:58.666666666666664%;left:62.0%;font-size:10pt;font-family:Andale Mono;color:rgba(115,129,140, 1.0);position:absolute;'>i</div><div style='top:62.0%;left:62.0%;font-size:10pt;font-family:Andale Mono;color:rgba(115,129,140, 1.0);position:absolute;'>n</div><div style='top:61.0%;left:61.0%;font-size:10pt;font-family:Andale Mono;color:rgba(115,129,140, 1.0);position:absolute;'>o</div><div style='top:61.0%;left:57.666666666666664%;font-size:10pt;font-family:Andale Mono;color:rgba(115,129,140, 1.0);position:absolute;'>f</div><div style='top:61.00000000000001%;left:54.33333333333334%;font-size:10pt;font-family:Andale Mono;color:rgba(115,129,140, 1.0);position:absolute;'> </div><div style='top:61.0%;left:51.0%;font-size:10pt;font-family:Andale Mono;color:rgba(115,129,140, 1.0);position:absolute;'>s</div><div style='top:61.0%;left:47.66666666666667%;font-size:10pt;font-family:Andale Mono;color:rgba(115,129,140, 1.0);position:absolute;'>a</div><div style='top:61.0%;left:44.333333333333336%;font-size:10pt;font-family:Andale Mono;color:rgba(115,129,140, 1.0);position:absolute;'>l</div><div style='top:61.0%;left:41.0%;font-size:10pt;font-family:Andale Mono;color:rgba(115,129,140, 1.0);position:absolute;'>t</div><div style='top:60.0%;left:40.0%;font-size:10pt;font-family:Andale Mono;color:rgba(115,129,140, 1.0);position:absolute;'>m</div><div style='top:55.0%;left:40.0%;font-size:10pt;font-family:Andale Mono;color:rgba(115,129,140, 1.0);position:absolute;'>o</div><div style='top:50.0%;left:40.0%;font-size:10pt;font-family:Andale Mono;color:rgba(115,129,140, 1.0);position:absolute;'>i</div><div style='top:45.0%;left:40.0%;font-size:10pt;font-family:Andale Mono;color:rgba(115,129,140, 1.0);position:absolute;'>s</div><div style='top:40.0%;left:40.0%;font-size:10pt;font-family:Andale Mono;color:rgba(115,129,140, 1.0);position:absolute;'>t</div>\n",
       "</body>\n",
       "</html>\n"
      ],
      "text/plain": [
       "<IPython.core.display.HTML object>"
      ]
     },
     "metadata": {
      "isolated": true
     },
     "output_type": "display_data"
    }
   ],
   "source": [
    "divs = []\n",
    "parts = ['like', 'a grain', 'of salt', 'moist']\n",
    "for k in range(5):\n",
    "    polygon = [(k*10, k*10), (k*10+20, k*10), (20+k*10, 20+k*10), (k*10, 20+k*10), (k*10, k*10)]\n",
    "    for i in range(len(polygon)-1):\n",
    "        side_text = parts[i]\n",
    "        pts = interp(polygon[i], polygon[i+1], n=len(side_text))\n",
    "        for j in range(len(pts)):\n",
    "            ch = side_text[j]\n",
    "            pt = pts[j]\n",
    "            this_div = mkdiv(ch,\n",
    "                         top=f\"{pt[1]-i+3}%\",\n",
    "                         left=f\"{pt[0]-i+3}%\",\n",
    "                         font_size=\"10pt\",\n",
    "                         font_family=\"Andale Mono\",\n",
    "                         color=f\"rgba(115,129,140, {k/4})\")\n",
    "            divs.append(this_div)\n",
    "\n",
    "html_src = html_tmpl.format(title=\"salt8\", content=\"\".join(divs))\n",
    "show_html(html_src)"
   ]
  },
  {
   "cell_type": "code",
   "execution_count": 58,
   "id": "703596e6",
   "metadata": {},
   "outputs": [
    {
     "data": {
      "text/html": [
       "\n",
       "<DOCTYPE html>\n",
       "<html lang=\"en\">\n",
       "<head>\n",
       "    <meta charset=\"utf-8\">\n",
       "    <title>salt8</title>\n",
       "    <style>\n",
       "    html {min-height: 32em; overflow: hidden;}\n",
       "    </style>\n",
       "<body>\n",
       "<div style='top:13.0%;left:13.0%;font-size:10pt;font-family:Andale Mono;color:rgba(115,129,140, 0.0);position:absolute;'>d</div><div style='top:13.0%;left:16.636363636363637%;font-size:10pt;font-family:Andale Mono;color:rgba(115,129,140, 0.0);position:absolute;'>e</div><div style='top:13.0%;left:20.272727272727273%;font-size:10pt;font-family:Andale Mono;color:rgba(115,129,140, 0.0);position:absolute;'> </div><div style='top:13.0%;left:23.909090909090907%;font-size:10pt;font-family:Andale Mono;color:rgba(115,129,140, 0.0);position:absolute;'>l</div><div style='top:13.0%;left:27.545454545454547%;font-size:10pt;font-family:Andale Mono;color:rgba(115,129,140, 0.0);position:absolute;'>a</div><div style='top:13.0%;left:31.18181818181818%;font-size:10pt;font-family:Andale Mono;color:rgba(115,129,140, 0.0);position:absolute;'> </div><div style='top:13.0%;left:34.81818181818181%;font-size:10pt;font-family:Andale Mono;color:rgba(115,129,140, 0.0);position:absolute;'>t</div><div style='top:13.0%;left:38.45454545454545%;font-size:10pt;font-family:Andale Mono;color:rgba(115,129,140, 0.0);position:absolute;'>i</div><div style='top:13.0%;left:42.09090909090909%;font-size:10pt;font-family:Andale Mono;color:rgba(115,129,140, 0.0);position:absolute;'>e</div><div style='top:13.0%;left:45.72727272727273%;font-size:10pt;font-family:Andale Mono;color:rgba(115,129,140, 0.0);position:absolute;'>r</div><div style='top:13.0%;left:49.36363636363636%;font-size:10pt;font-family:Andale Mono;color:rgba(115,129,140, 0.0);position:absolute;'>r</div><div style='top:13.0%;left:53.0%;font-size:10pt;font-family:Andale Mono;color:rgba(115,129,140, 0.0);position:absolute;'>a</div><div style='top:12.0%;left:52.0%;font-size:10pt;font-family:Andale Mono;color:rgba(115,129,140, 0.125);position:absolute;'>L</div><div style='top:20.0%;left:52.0%;font-size:10pt;font-family:Andale Mono;color:rgba(115,129,140, 0.125);position:absolute;'>a</div><div style='top:28.0%;left:52.0%;font-size:10pt;font-family:Andale Mono;color:rgba(115,129,140, 0.125);position:absolute;'> </div><div style='top:36.0%;left:52.0%;font-size:10pt;font-family:Andale Mono;color:rgba(115,129,140, 0.125);position:absolute;'>s</div><div style='top:44.0%;left:52.0%;font-size:10pt;font-family:Andale Mono;color:rgba(115,129,140, 0.125);position:absolute;'>a</div><div style='top:52.0%;left:52.0%;font-size:10pt;font-family:Andale Mono;color:rgba(115,129,140, 0.125);position:absolute;'>l</div><div style='top:51.0%;left:51.0%;font-size:10pt;font-family:Andale Mono;color:rgba(115,129,140, 0.25);position:absolute;'>o</div><div style='top:51.0%;left:47.36363636363636%;font-size:10pt;font-family:Andale Mono;color:rgba(115,129,140, 0.25);position:absolute;'>f</div><div style='top:51.0%;left:43.72727272727273%;font-size:10pt;font-family:Andale Mono;color:rgba(115,129,140, 0.25);position:absolute;'> </div><div style='top:51.0%;left:40.09090909090909%;font-size:10pt;font-family:Andale Mono;color:rgba(115,129,140, 0.25);position:absolute;'>t</div><div style='top:51.0%;left:36.45454545454545%;font-size:10pt;font-family:Andale Mono;color:rgba(115,129,140, 0.25);position:absolute;'>h</div><div style='top:51.0%;left:32.81818181818181%;font-size:10pt;font-family:Andale Mono;color:rgba(115,129,140, 0.25);position:absolute;'>e</div><div style='top:51.0%;left:29.181818181818183%;font-size:10pt;font-family:Andale Mono;color:rgba(115,129,140, 0.25);position:absolute;'> </div><div style='top:51.0%;left:25.545454545454547%;font-size:10pt;font-family:Andale Mono;color:rgba(115,129,140, 0.25);position:absolute;'>e</div><div style='top:51.0%;left:21.909090909090907%;font-size:10pt;font-family:Andale Mono;color:rgba(115,129,140, 0.25);position:absolute;'>a</div><div style='top:51.0%;left:18.27272727272727%;font-size:10pt;font-family:Andale Mono;color:rgba(115,129,140, 0.25);position:absolute;'>r</div><div style='top:51.0%;left:14.636363636363637%;font-size:10pt;font-family:Andale Mono;color:rgba(115,129,140, 0.25);position:absolute;'>t</div><div style='top:51.0%;left:11.0%;font-size:10pt;font-family:Andale Mono;color:rgba(115,129,140, 0.25);position:absolute;'>h</div><div style='top:50.0%;left:10.0%;font-size:10pt;font-family:Andale Mono;color:rgba(115,129,140, 0.375);position:absolute;'>t</div><div style='top:44.28571428571429%;left:10.0%;font-size:10pt;font-family:Andale Mono;color:rgba(115,129,140, 0.375);position:absolute;'>h</div><div style='top:38.57142857142857%;left:10.0%;font-size:10pt;font-family:Andale Mono;color:rgba(115,129,140, 0.375);position:absolute;'>e</div><div style='top:32.857142857142854%;left:10.0%;font-size:10pt;font-family:Andale Mono;color:rgba(115,129,140, 0.375);position:absolute;'> </div><div style='top:27.142857142857146%;left:10.0%;font-size:10pt;font-family:Andale Mono;color:rgba(115,129,140, 0.375);position:absolute;'>s</div><div style='top:21.428571428571427%;left:10.0%;font-size:10pt;font-family:Andale Mono;color:rgba(115,129,140, 0.375);position:absolute;'>a</div><div style='top:15.714285714285715%;left:10.0%;font-size:10pt;font-family:Andale Mono;color:rgba(115,129,140, 0.375);position:absolute;'>l</div><div style='top:10.0%;left:10.0%;font-size:10pt;font-family:Andale Mono;color:rgba(115,129,140, 0.375);position:absolute;'>t</div><div style='top:18.0%;left:18.0%;font-size:10pt;font-family:Andale Mono;color:rgba(115,129,140, 0.125);position:absolute;'>d</div><div style='top:18.0%;left:21.636363636363637%;font-size:10pt;font-family:Andale Mono;color:rgba(115,129,140, 0.125);position:absolute;'>e</div><div style='top:18.0%;left:25.272727272727273%;font-size:10pt;font-family:Andale Mono;color:rgba(115,129,140, 0.125);position:absolute;'> </div><div style='top:18.0%;left:28.909090909090907%;font-size:10pt;font-family:Andale Mono;color:rgba(115,129,140, 0.125);position:absolute;'>l</div><div style='top:18.0%;left:32.54545454545455%;font-size:10pt;font-family:Andale Mono;color:rgba(115,129,140, 0.125);position:absolute;'>a</div><div style='top:18.0%;left:36.18181818181818%;font-size:10pt;font-family:Andale Mono;color:rgba(115,129,140, 0.125);position:absolute;'> </div><div style='top:18.0%;left:39.81818181818181%;font-size:10pt;font-family:Andale Mono;color:rgba(115,129,140, 0.125);position:absolute;'>t</div><div style='top:18.0%;left:43.45454545454545%;font-size:10pt;font-family:Andale Mono;color:rgba(115,129,140, 0.125);position:absolute;'>i</div><div style='top:18.0%;left:47.09090909090909%;font-size:10pt;font-family:Andale Mono;color:rgba(115,129,140, 0.125);position:absolute;'>e</div><div style='top:18.0%;left:50.72727272727273%;font-size:10pt;font-family:Andale Mono;color:rgba(115,129,140, 0.125);position:absolute;'>r</div><div style='top:18.0%;left:54.36363636363636%;font-size:10pt;font-family:Andale Mono;color:rgba(115,129,140, 0.125);position:absolute;'>r</div><div style='top:18.0%;left:58.0%;font-size:10pt;font-family:Andale Mono;color:rgba(115,129,140, 0.125);position:absolute;'>a</div><div style='top:17.0%;left:57.0%;font-size:10pt;font-family:Andale Mono;color:rgba(115,129,140, 0.25);position:absolute;'>L</div><div style='top:25.0%;left:57.0%;font-size:10pt;font-family:Andale Mono;color:rgba(115,129,140, 0.25);position:absolute;'>a</div><div style='top:33.0%;left:57.0%;font-size:10pt;font-family:Andale Mono;color:rgba(115,129,140, 0.25);position:absolute;'> </div><div style='top:41.0%;left:57.0%;font-size:10pt;font-family:Andale Mono;color:rgba(115,129,140, 0.25);position:absolute;'>s</div><div style='top:49.0%;left:57.0%;font-size:10pt;font-family:Andale Mono;color:rgba(115,129,140, 0.25);position:absolute;'>a</div><div style='top:57.0%;left:57.0%;font-size:10pt;font-family:Andale Mono;color:rgba(115,129,140, 0.25);position:absolute;'>l</div><div style='top:56.0%;left:56.0%;font-size:10pt;font-family:Andale Mono;color:rgba(115,129,140, 0.375);position:absolute;'>o</div><div style='top:56.0%;left:52.36363636363636%;font-size:10pt;font-family:Andale Mono;color:rgba(115,129,140, 0.375);position:absolute;'>f</div><div style='top:55.99999999999999%;left:48.72727272727272%;font-size:10pt;font-family:Andale Mono;color:rgba(115,129,140, 0.375);position:absolute;'> </div><div style='top:56.0%;left:45.09090909090909%;font-size:10pt;font-family:Andale Mono;color:rgba(115,129,140, 0.375);position:absolute;'>t</div><div style='top:56.0%;left:41.45454545454545%;font-size:10pt;font-family:Andale Mono;color:rgba(115,129,140, 0.375);position:absolute;'>h</div><div style='top:56.0%;left:37.81818181818181%;font-size:10pt;font-family:Andale Mono;color:rgba(115,129,140, 0.375);position:absolute;'>e</div><div style='top:56.0%;left:34.18181818181819%;font-size:10pt;font-family:Andale Mono;color:rgba(115,129,140, 0.375);position:absolute;'> </div><div style='top:56.0%;left:30.545454545454547%;font-size:10pt;font-family:Andale Mono;color:rgba(115,129,140, 0.375);position:absolute;'>e</div><div style='top:56.0%;left:26.909090909090907%;font-size:10pt;font-family:Andale Mono;color:rgba(115,129,140, 0.375);position:absolute;'>a</div><div style='top:56.0%;left:23.27272727272727%;font-size:10pt;font-family:Andale Mono;color:rgba(115,129,140, 0.375);position:absolute;'>r</div><div style='top:56.0%;left:19.636363636363637%;font-size:10pt;font-family:Andale Mono;color:rgba(115,129,140, 0.375);position:absolute;'>t</div><div style='top:56.0%;left:16.0%;font-size:10pt;font-family:Andale Mono;color:rgba(115,129,140, 0.375);position:absolute;'>h</div><div style='top:55.0%;left:15.0%;font-size:10pt;font-family:Andale Mono;color:rgba(115,129,140, 0.5);position:absolute;'>t</div><div style='top:49.28571428571429%;left:15.0%;font-size:10pt;font-family:Andale Mono;color:rgba(115,129,140, 0.5);position:absolute;'>h</div><div style='top:43.57142857142858%;left:15.0%;font-size:10pt;font-family:Andale Mono;color:rgba(115,129,140, 0.5);position:absolute;'>e</div><div style='top:37.857142857142854%;left:15.0%;font-size:10pt;font-family:Andale Mono;color:rgba(115,129,140, 0.5);position:absolute;'> </div><div style='top:32.142857142857146%;left:15.0%;font-size:10pt;font-family:Andale Mono;color:rgba(115,129,140, 0.5);position:absolute;'>s</div><div style='top:26.428571428571427%;left:15.0%;font-size:10pt;font-family:Andale Mono;color:rgba(115,129,140, 0.5);position:absolute;'>a</div><div style='top:20.714285714285715%;left:15.0%;font-size:10pt;font-family:Andale Mono;color:rgba(115,129,140, 0.5);position:absolute;'>l</div><div style='top:15.0%;left:15.0%;font-size:10pt;font-family:Andale Mono;color:rgba(115,129,140, 0.5);position:absolute;'>t</div><div style='top:23.0%;left:23.0%;font-size:10pt;font-family:Andale Mono;color:rgba(115,129,140, 0.25);position:absolute;'>d</div><div style='top:23.0%;left:26.636363636363637%;font-size:10pt;font-family:Andale Mono;color:rgba(115,129,140, 0.25);position:absolute;'>e</div><div style='top:23.0%;left:30.272727272727273%;font-size:10pt;font-family:Andale Mono;color:rgba(115,129,140, 0.25);position:absolute;'> </div><div style='top:23.0%;left:33.90909090909091%;font-size:10pt;font-family:Andale Mono;color:rgba(115,129,140, 0.25);position:absolute;'>l</div><div style='top:23.0%;left:37.54545454545455%;font-size:10pt;font-family:Andale Mono;color:rgba(115,129,140, 0.25);position:absolute;'>a</div><div style='top:23.0%;left:41.18181818181818%;font-size:10pt;font-family:Andale Mono;color:rgba(115,129,140, 0.25);position:absolute;'> </div><div style='top:23.0%;left:44.81818181818181%;font-size:10pt;font-family:Andale Mono;color:rgba(115,129,140, 0.25);position:absolute;'>t</div><div style='top:23.0%;left:48.45454545454545%;font-size:10pt;font-family:Andale Mono;color:rgba(115,129,140, 0.25);position:absolute;'>i</div><div style='top:23.0%;left:52.09090909090909%;font-size:10pt;font-family:Andale Mono;color:rgba(115,129,140, 0.25);position:absolute;'>e</div><div style='top:23.0%;left:55.727272727272734%;font-size:10pt;font-family:Andale Mono;color:rgba(115,129,140, 0.25);position:absolute;'>r</div><div style='top:23.0%;left:59.36363636363636%;font-size:10pt;font-family:Andale Mono;color:rgba(115,129,140, 0.25);position:absolute;'>r</div><div style='top:23.0%;left:63.0%;font-size:10pt;font-family:Andale Mono;color:rgba(115,129,140, 0.25);position:absolute;'>a</div><div style='top:22.0%;left:62.0%;font-size:10pt;font-family:Andale Mono;color:rgba(115,129,140, 0.375);position:absolute;'>L</div><div style='top:30.0%;left:62.0%;font-size:10pt;font-family:Andale Mono;color:rgba(115,129,140, 0.375);position:absolute;'>a</div><div style='top:38.0%;left:62.0%;font-size:10pt;font-family:Andale Mono;color:rgba(115,129,140, 0.375);position:absolute;'> </div><div style='top:46.0%;left:62.0%;font-size:10pt;font-family:Andale Mono;color:rgba(115,129,140, 0.375);position:absolute;'>s</div><div style='top:54.0%;left:62.0%;font-size:10pt;font-family:Andale Mono;color:rgba(115,129,140, 0.375);position:absolute;'>a</div><div style='top:62.0%;left:62.0%;font-size:10pt;font-family:Andale Mono;color:rgba(115,129,140, 0.375);position:absolute;'>l</div><div style='top:61.0%;left:61.0%;font-size:10pt;font-family:Andale Mono;color:rgba(115,129,140, 0.5);position:absolute;'>o</div><div style='top:61.0%;left:57.36363636363636%;font-size:10pt;font-family:Andale Mono;color:rgba(115,129,140, 0.5);position:absolute;'>f</div><div style='top:61.0%;left:53.72727272727273%;font-size:10pt;font-family:Andale Mono;color:rgba(115,129,140, 0.5);position:absolute;'> </div><div style='top:61.0%;left:50.09090909090909%;font-size:10pt;font-family:Andale Mono;color:rgba(115,129,140, 0.5);position:absolute;'>t</div><div style='top:61.0%;left:46.45454545454545%;font-size:10pt;font-family:Andale Mono;color:rgba(115,129,140, 0.5);position:absolute;'>h</div><div style='top:61.0%;left:42.81818181818181%;font-size:10pt;font-family:Andale Mono;color:rgba(115,129,140, 0.5);position:absolute;'>e</div><div style='top:61.0%;left:39.18181818181819%;font-size:10pt;font-family:Andale Mono;color:rgba(115,129,140, 0.5);position:absolute;'> </div><div style='top:61.0%;left:35.54545454545455%;font-size:10pt;font-family:Andale Mono;color:rgba(115,129,140, 0.5);position:absolute;'>e</div><div style='top:61.0%;left:31.909090909090907%;font-size:10pt;font-family:Andale Mono;color:rgba(115,129,140, 0.5);position:absolute;'>a</div><div style='top:61.0%;left:28.27272727272727%;font-size:10pt;font-family:Andale Mono;color:rgba(115,129,140, 0.5);position:absolute;'>r</div><div style='top:61.0%;left:24.636363636363637%;font-size:10pt;font-family:Andale Mono;color:rgba(115,129,140, 0.5);position:absolute;'>t</div><div style='top:61.0%;left:21.0%;font-size:10pt;font-family:Andale Mono;color:rgba(115,129,140, 0.5);position:absolute;'>h</div><div style='top:60.0%;left:20.0%;font-size:10pt;font-family:Andale Mono;color:rgba(115,129,140, 0.625);position:absolute;'>t</div><div style='top:54.28571428571429%;left:20.0%;font-size:10pt;font-family:Andale Mono;color:rgba(115,129,140, 0.625);position:absolute;'>h</div><div style='top:48.57142857142857%;left:20.0%;font-size:10pt;font-family:Andale Mono;color:rgba(115,129,140, 0.625);position:absolute;'>e</div><div style='top:42.857142857142854%;left:20.0%;font-size:10pt;font-family:Andale Mono;color:rgba(115,129,140, 0.625);position:absolute;'> </div><div style='top:37.142857142857146%;left:20.0%;font-size:10pt;font-family:Andale Mono;color:rgba(115,129,140, 0.625);position:absolute;'>s</div><div style='top:31.428571428571427%;left:20.0%;font-size:10pt;font-family:Andale Mono;color:rgba(115,129,140, 0.625);position:absolute;'>a</div><div style='top:25.714285714285715%;left:20.0%;font-size:10pt;font-family:Andale Mono;color:rgba(115,129,140, 0.625);position:absolute;'>l</div><div style='top:20.0%;left:20.0%;font-size:10pt;font-family:Andale Mono;color:rgba(115,129,140, 0.625);position:absolute;'>t</div><div style='top:28.0%;left:28.0%;font-size:10pt;font-family:Andale Mono;color:rgba(115,129,140, 0.375);position:absolute;'>d</div><div style='top:28.0%;left:31.636363636363637%;font-size:10pt;font-family:Andale Mono;color:rgba(115,129,140, 0.375);position:absolute;'>e</div><div style='top:28.0%;left:35.27272727272727%;font-size:10pt;font-family:Andale Mono;color:rgba(115,129,140, 0.375);position:absolute;'> </div><div style='top:28.0%;left:38.90909090909091%;font-size:10pt;font-family:Andale Mono;color:rgba(115,129,140, 0.375);position:absolute;'>l</div><div style='top:28.0%;left:42.54545454545455%;font-size:10pt;font-family:Andale Mono;color:rgba(115,129,140, 0.375);position:absolute;'>a</div><div style='top:28.0%;left:46.18181818181818%;font-size:10pt;font-family:Andale Mono;color:rgba(115,129,140, 0.375);position:absolute;'> </div><div style='top:28.0%;left:49.81818181818181%;font-size:10pt;font-family:Andale Mono;color:rgba(115,129,140, 0.375);position:absolute;'>t</div><div style='top:28.0%;left:53.45454545454545%;font-size:10pt;font-family:Andale Mono;color:rgba(115,129,140, 0.375);position:absolute;'>i</div><div style='top:28.0%;left:57.09090909090909%;font-size:10pt;font-family:Andale Mono;color:rgba(115,129,140, 0.375);position:absolute;'>e</div><div style='top:28.0%;left:60.72727272727273%;font-size:10pt;font-family:Andale Mono;color:rgba(115,129,140, 0.375);position:absolute;'>r</div><div style='top:28.0%;left:64.36363636363637%;font-size:10pt;font-family:Andale Mono;color:rgba(115,129,140, 0.375);position:absolute;'>r</div><div style='top:28.0%;left:68.0%;font-size:10pt;font-family:Andale Mono;color:rgba(115,129,140, 0.375);position:absolute;'>a</div><div style='top:27.0%;left:67.0%;font-size:10pt;font-family:Andale Mono;color:rgba(115,129,140, 0.5);position:absolute;'>L</div><div style='top:35.0%;left:67.0%;font-size:10pt;font-family:Andale Mono;color:rgba(115,129,140, 0.5);position:absolute;'>a</div><div style='top:43.0%;left:67.0%;font-size:10pt;font-family:Andale Mono;color:rgba(115,129,140, 0.5);position:absolute;'> </div><div style='top:51.0%;left:67.0%;font-size:10pt;font-family:Andale Mono;color:rgba(115,129,140, 0.5);position:absolute;'>s</div><div style='top:59.0%;left:67.0%;font-size:10pt;font-family:Andale Mono;color:rgba(115,129,140, 0.5);position:absolute;'>a</div><div style='top:67.0%;left:67.0%;font-size:10pt;font-family:Andale Mono;color:rgba(115,129,140, 0.5);position:absolute;'>l</div><div style='top:66.0%;left:66.0%;font-size:10pt;font-family:Andale Mono;color:rgba(115,129,140, 0.625);position:absolute;'>o</div><div style='top:66.0%;left:62.36363636363637%;font-size:10pt;font-family:Andale Mono;color:rgba(115,129,140, 0.625);position:absolute;'>f</div><div style='top:66.0%;left:58.72727272727273%;font-size:10pt;font-family:Andale Mono;color:rgba(115,129,140, 0.625);position:absolute;'> </div><div style='top:66.0%;left:55.09090909090909%;font-size:10pt;font-family:Andale Mono;color:rgba(115,129,140, 0.625);position:absolute;'>t</div><div style='top:66.0%;left:51.45454545454545%;font-size:10pt;font-family:Andale Mono;color:rgba(115,129,140, 0.625);position:absolute;'>h</div><div style='top:66.0%;left:47.81818181818181%;font-size:10pt;font-family:Andale Mono;color:rgba(115,129,140, 0.625);position:absolute;'>e</div><div style='top:66.0%;left:44.18181818181819%;font-size:10pt;font-family:Andale Mono;color:rgba(115,129,140, 0.625);position:absolute;'> </div><div style='top:66.0%;left:40.54545454545455%;font-size:10pt;font-family:Andale Mono;color:rgba(115,129,140, 0.625);position:absolute;'>e</div><div style='top:66.0%;left:36.90909090909091%;font-size:10pt;font-family:Andale Mono;color:rgba(115,129,140, 0.625);position:absolute;'>a</div><div style='top:66.0%;left:33.272727272727266%;font-size:10pt;font-family:Andale Mono;color:rgba(115,129,140, 0.625);position:absolute;'>r</div><div style='top:66.0%;left:29.63636363636364%;font-size:10pt;font-family:Andale Mono;color:rgba(115,129,140, 0.625);position:absolute;'>t</div><div style='top:66.0%;left:26.0%;font-size:10pt;font-family:Andale Mono;color:rgba(115,129,140, 0.625);position:absolute;'>h</div><div style='top:65.0%;left:25.0%;font-size:10pt;font-family:Andale Mono;color:rgba(115,129,140, 0.75);position:absolute;'>t</div><div style='top:59.28571428571429%;left:25.0%;font-size:10pt;font-family:Andale Mono;color:rgba(115,129,140, 0.75);position:absolute;'>h</div><div style='top:53.57142857142857%;left:25.0%;font-size:10pt;font-family:Andale Mono;color:rgba(115,129,140, 0.75);position:absolute;'>e</div><div style='top:47.857142857142854%;left:25.0%;font-size:10pt;font-family:Andale Mono;color:rgba(115,129,140, 0.75);position:absolute;'> </div><div style='top:42.142857142857146%;left:25.0%;font-size:10pt;font-family:Andale Mono;color:rgba(115,129,140, 0.75);position:absolute;'>s</div><div style='top:36.42857142857143%;left:25.0%;font-size:10pt;font-family:Andale Mono;color:rgba(115,129,140, 0.75);position:absolute;'>a</div><div style='top:30.714285714285715%;left:25.0%;font-size:10pt;font-family:Andale Mono;color:rgba(115,129,140, 0.75);position:absolute;'>l</div><div style='top:25.0%;left:25.0%;font-size:10pt;font-family:Andale Mono;color:rgba(115,129,140, 0.75);position:absolute;'>t</div><div style='top:33.0%;left:33.0%;font-size:10pt;font-family:Andale Mono;color:rgba(115,129,140, 0.5);position:absolute;'>d</div><div style='top:33.0%;left:36.63636363636363%;font-size:10pt;font-family:Andale Mono;color:rgba(115,129,140, 0.5);position:absolute;'>e</div><div style='top:33.0%;left:40.27272727272727%;font-size:10pt;font-family:Andale Mono;color:rgba(115,129,140, 0.5);position:absolute;'> </div><div style='top:33.0%;left:43.90909090909091%;font-size:10pt;font-family:Andale Mono;color:rgba(115,129,140, 0.5);position:absolute;'>l</div><div style='top:33.0%;left:47.54545454545455%;font-size:10pt;font-family:Andale Mono;color:rgba(115,129,140, 0.5);position:absolute;'>a</div><div style='top:33.0%;left:51.18181818181818%;font-size:10pt;font-family:Andale Mono;color:rgba(115,129,140, 0.5);position:absolute;'> </div><div style='top:33.0%;left:54.81818181818182%;font-size:10pt;font-family:Andale Mono;color:rgba(115,129,140, 0.5);position:absolute;'>t</div><div style='top:33.0%;left:58.45454545454545%;font-size:10pt;font-family:Andale Mono;color:rgba(115,129,140, 0.5);position:absolute;'>i</div><div style='top:33.0%;left:62.09090909090909%;font-size:10pt;font-family:Andale Mono;color:rgba(115,129,140, 0.5);position:absolute;'>e</div><div style='top:33.0%;left:65.72727272727272%;font-size:10pt;font-family:Andale Mono;color:rgba(115,129,140, 0.5);position:absolute;'>r</div><div style='top:33.0%;left:69.36363636363637%;font-size:10pt;font-family:Andale Mono;color:rgba(115,129,140, 0.5);position:absolute;'>r</div><div style='top:33.0%;left:73.0%;font-size:10pt;font-family:Andale Mono;color:rgba(115,129,140, 0.5);position:absolute;'>a</div><div style='top:32.0%;left:72.0%;font-size:10pt;font-family:Andale Mono;color:rgba(115,129,140, 0.625);position:absolute;'>L</div><div style='top:40.0%;left:72.0%;font-size:10pt;font-family:Andale Mono;color:rgba(115,129,140, 0.625);position:absolute;'>a</div><div style='top:48.0%;left:72.0%;font-size:10pt;font-family:Andale Mono;color:rgba(115,129,140, 0.625);position:absolute;'> </div><div style='top:56.0%;left:72.0%;font-size:10pt;font-family:Andale Mono;color:rgba(115,129,140, 0.625);position:absolute;'>s</div><div style='top:64.0%;left:72.0%;font-size:10pt;font-family:Andale Mono;color:rgba(115,129,140, 0.625);position:absolute;'>a</div><div style='top:72.0%;left:72.0%;font-size:10pt;font-family:Andale Mono;color:rgba(115,129,140, 0.625);position:absolute;'>l</div><div style='top:71.0%;left:71.0%;font-size:10pt;font-family:Andale Mono;color:rgba(115,129,140, 0.75);position:absolute;'>o</div><div style='top:71.0%;left:67.36363636363637%;font-size:10pt;font-family:Andale Mono;color:rgba(115,129,140, 0.75);position:absolute;'>f</div><div style='top:71.0%;left:63.72727272727272%;font-size:10pt;font-family:Andale Mono;color:rgba(115,129,140, 0.75);position:absolute;'> </div><div style='top:71.0%;left:60.09090909090909%;font-size:10pt;font-family:Andale Mono;color:rgba(115,129,140, 0.75);position:absolute;'>t</div><div style='top:71.0%;left:56.45454545454545%;font-size:10pt;font-family:Andale Mono;color:rgba(115,129,140, 0.75);position:absolute;'>h</div><div style='top:71.0%;left:52.81818181818181%;font-size:10pt;font-family:Andale Mono;color:rgba(115,129,140, 0.75);position:absolute;'>e</div><div style='top:71.0%;left:49.18181818181818%;font-size:10pt;font-family:Andale Mono;color:rgba(115,129,140, 0.75);position:absolute;'> </div><div style='top:71.0%;left:45.54545454545455%;font-size:10pt;font-family:Andale Mono;color:rgba(115,129,140, 0.75);position:absolute;'>e</div><div style='top:71.0%;left:41.90909090909091%;font-size:10pt;font-family:Andale Mono;color:rgba(115,129,140, 0.75);position:absolute;'>a</div><div style='top:71.0%;left:38.272727272727266%;font-size:10pt;font-family:Andale Mono;color:rgba(115,129,140, 0.75);position:absolute;'>r</div><div style='top:71.0%;left:34.63636363636364%;font-size:10pt;font-family:Andale Mono;color:rgba(115,129,140, 0.75);position:absolute;'>t</div><div style='top:71.0%;left:31.0%;font-size:10pt;font-family:Andale Mono;color:rgba(115,129,140, 0.75);position:absolute;'>h</div><div style='top:70.0%;left:30.0%;font-size:10pt;font-family:Andale Mono;color:rgba(115,129,140, 0.875);position:absolute;'>t</div><div style='top:64.28571428571428%;left:30.000000000000004%;font-size:10pt;font-family:Andale Mono;color:rgba(115,129,140, 0.875);position:absolute;'>h</div><div style='top:58.57142857142858%;left:30.0%;font-size:10pt;font-family:Andale Mono;color:rgba(115,129,140, 0.875);position:absolute;'>e</div><div style='top:52.857142857142854%;left:30.0%;font-size:10pt;font-family:Andale Mono;color:rgba(115,129,140, 0.875);position:absolute;'> </div><div style='top:47.14285714285714%;left:30.0%;font-size:10pt;font-family:Andale Mono;color:rgba(115,129,140, 0.875);position:absolute;'>s</div><div style='top:41.42857142857143%;left:30.0%;font-size:10pt;font-family:Andale Mono;color:rgba(115,129,140, 0.875);position:absolute;'>a</div><div style='top:35.714285714285715%;left:30.0%;font-size:10pt;font-family:Andale Mono;color:rgba(115,129,140, 0.875);position:absolute;'>l</div><div style='top:30.0%;left:30.0%;font-size:10pt;font-family:Andale Mono;color:rgba(115,129,140, 0.875);position:absolute;'>t</div>\n",
       "</body>\n",
       "</html>\n"
      ],
      "text/plain": [
       "<IPython.core.display.HTML object>"
      ]
     },
     "metadata": {
      "isolated": true
     },
     "output_type": "display_data"
    }
   ],
   "source": [
    "parts =[ 'de la tierra', 'La sal', 'of the earth', 'the salt']\n",
    "divs = []\n",
    "for k in range(5):\n",
    "    polygon = [(k*5, k*5), (k*5+40, k*5), (40+k*5, 40+k*5), (k*5, 40+k*5), (k*5, k*5)]\n",
    "    for i in range(len(polygon)-1):\n",
    "        side_text = parts[i]\n",
    "        pts = interp(polygon[i], polygon[i+1], n=len(side_text))\n",
    "        for j in range(len(pts)):\n",
    "            ch = side_text[j]\n",
    "            pt = pts[j]\n",
    "            this_div = mkdiv(ch,\n",
    "                         top=f\"{pt[1]-i+13}%\",\n",
    "                         left=f\"{pt[0]-i+13}%\",\n",
    "                         font_size=\"10pt\",\n",
    "                         font_family=\"Andale Mono\",\n",
    "                         color=f\"rgba(115,129,140, {(k+i)/8})\")\n",
    "            divs.append(this_div)\n",
    "\n",
    "html_src = html_tmpl.format(title=\"salt8\", content=\"\".join(divs))\n",
    "show_html(html_src)"
   ]
  },
  {
   "cell_type": "code",
   "execution_count": 59,
   "id": "1182aaa6",
   "metadata": {},
   "outputs": [
    {
     "data": {
      "text/html": [
       "\n",
       "<DOCTYPE html>\n",
       "<html lang=\"en\">\n",
       "<head>\n",
       "    <meta charset=\"utf-8\">\n",
       "    <title>salt8</title>\n",
       "    <style>\n",
       "    html {min-height: 32em; overflow: hidden;}\n",
       "    </style>\n",
       "<body>\n",
       "<div style='top:13.0%;left:13.0%;font-size:10pt;font-family:Andale Mono;color:rgba(115,129,140, 0.0);position:absolute;'>d</div><div style='top:13.0%;left:18.0%;font-size:10pt;font-family:Andale Mono;color:rgba(115,129,140, 0.0);position:absolute;'>e</div><div style='top:12.0%;left:17.0%;font-size:10pt;font-family:Andale Mono;color:rgba(115,129,140, 0.125);position:absolute;'>t</div><div style='top:13.0%;left:17.0%;font-size:10pt;font-family:Andale Mono;color:rgba(115,129,140, 0.125);position:absolute;'>i</div><div style='top:14.0%;left:17.0%;font-size:10pt;font-family:Andale Mono;color:rgba(115,129,140, 0.125);position:absolute;'>e</div><div style='top:15.0%;left:17.0%;font-size:10pt;font-family:Andale Mono;color:rgba(115,129,140, 0.125);position:absolute;'>r</div><div style='top:16.0%;left:17.0%;font-size:10pt;font-family:Andale Mono;color:rgba(115,129,140, 0.125);position:absolute;'>r</div><div style='top:17.0%;left:17.0%;font-size:10pt;font-family:Andale Mono;color:rgba(115,129,140, 0.125);position:absolute;'>a</div><div style='top:16.0%;left:16.0%;font-size:10pt;font-family:Andale Mono;color:rgba(115,129,140, 0.25);position:absolute;'>L</div><div style='top:16.0%;left:11.0%;font-size:10pt;font-family:Andale Mono;color:rgba(115,129,140, 0.25);position:absolute;'>a</div><div style='top:15.0%;left:10.0%;font-size:10pt;font-family:Andale Mono;color:rgba(115,129,140, 0.375);position:absolute;'>s</div><div style='top:12.5%;left:10.0%;font-size:10pt;font-family:Andale Mono;color:rgba(115,129,140, 0.375);position:absolute;'>a</div><div style='top:10.0%;left:10.0%;font-size:10pt;font-family:Andale Mono;color:rgba(115,129,140, 0.375);position:absolute;'>l</div><div style='top:15.0%;left:15.0%;font-size:10pt;font-family:Andale Mono;color:rgba(115,129,140, 0.125);position:absolute;'>d</div><div style='top:15.0%;left:20.0%;font-size:10pt;font-family:Andale Mono;color:rgba(115,129,140, 0.125);position:absolute;'>e</div><div style='top:14.0%;left:19.0%;font-size:10pt;font-family:Andale Mono;color:rgba(115,129,140, 0.25);position:absolute;'>t</div><div style='top:15.0%;left:19.0%;font-size:10pt;font-family:Andale Mono;color:rgba(115,129,140, 0.25);position:absolute;'>i</div><div style='top:16.0%;left:19.0%;font-size:10pt;font-family:Andale Mono;color:rgba(115,129,140, 0.25);position:absolute;'>e</div><div style='top:17.0%;left:19.0%;font-size:10pt;font-family:Andale Mono;color:rgba(115,129,140, 0.25);position:absolute;'>r</div><div style='top:18.0%;left:19.0%;font-size:10pt;font-family:Andale Mono;color:rgba(115,129,140, 0.25);position:absolute;'>r</div><div style='top:19.0%;left:19.0%;font-size:10pt;font-family:Andale Mono;color:rgba(115,129,140, 0.25);position:absolute;'>a</div><div style='top:18.0%;left:18.0%;font-size:10pt;font-family:Andale Mono;color:rgba(115,129,140, 0.375);position:absolute;'>L</div><div style='top:18.0%;left:13.0%;font-size:10pt;font-family:Andale Mono;color:rgba(115,129,140, 0.375);position:absolute;'>a</div><div style='top:17.0%;left:12.0%;font-size:10pt;font-family:Andale Mono;color:rgba(115,129,140, 0.5);position:absolute;'>s</div><div style='top:14.5%;left:12.0%;font-size:10pt;font-family:Andale Mono;color:rgba(115,129,140, 0.5);position:absolute;'>a</div><div style='top:12.0%;left:12.0%;font-size:10pt;font-family:Andale Mono;color:rgba(115,129,140, 0.5);position:absolute;'>l</div><div style='top:17.0%;left:17.0%;font-size:10pt;font-family:Andale Mono;color:rgba(115,129,140, 0.25);position:absolute;'>d</div><div style='top:17.0%;left:22.0%;font-size:10pt;font-family:Andale Mono;color:rgba(115,129,140, 0.25);position:absolute;'>e</div><div style='top:16.0%;left:21.0%;font-size:10pt;font-family:Andale Mono;color:rgba(115,129,140, 0.375);position:absolute;'>t</div><div style='top:17.0%;left:21.0%;font-size:10pt;font-family:Andale Mono;color:rgba(115,129,140, 0.375);position:absolute;'>i</div><div style='top:18.0%;left:21.0%;font-size:10pt;font-family:Andale Mono;color:rgba(115,129,140, 0.375);position:absolute;'>e</div><div style='top:19.0%;left:21.0%;font-size:10pt;font-family:Andale Mono;color:rgba(115,129,140, 0.375);position:absolute;'>r</div><div style='top:20.0%;left:21.0%;font-size:10pt;font-family:Andale Mono;color:rgba(115,129,140, 0.375);position:absolute;'>r</div><div style='top:21.0%;left:21.0%;font-size:10pt;font-family:Andale Mono;color:rgba(115,129,140, 0.375);position:absolute;'>a</div><div style='top:20.0%;left:20.0%;font-size:10pt;font-family:Andale Mono;color:rgba(115,129,140, 0.5);position:absolute;'>L</div><div style='top:20.0%;left:15.0%;font-size:10pt;font-family:Andale Mono;color:rgba(115,129,140, 0.5);position:absolute;'>a</div><div style='top:19.0%;left:14.0%;font-size:10pt;font-family:Andale Mono;color:rgba(115,129,140, 0.625);position:absolute;'>s</div><div style='top:16.5%;left:14.0%;font-size:10pt;font-family:Andale Mono;color:rgba(115,129,140, 0.625);position:absolute;'>a</div><div style='top:14.0%;left:14.0%;font-size:10pt;font-family:Andale Mono;color:rgba(115,129,140, 0.625);position:absolute;'>l</div><div style='top:19.0%;left:19.0%;font-size:10pt;font-family:Andale Mono;color:rgba(115,129,140, 0.375);position:absolute;'>d</div><div style='top:19.0%;left:24.0%;font-size:10pt;font-family:Andale Mono;color:rgba(115,129,140, 0.375);position:absolute;'>e</div><div style='top:18.0%;left:23.0%;font-size:10pt;font-family:Andale Mono;color:rgba(115,129,140, 0.5);position:absolute;'>t</div><div style='top:19.0%;left:23.0%;font-size:10pt;font-family:Andale Mono;color:rgba(115,129,140, 0.5);position:absolute;'>i</div><div style='top:20.0%;left:23.0%;font-size:10pt;font-family:Andale Mono;color:rgba(115,129,140, 0.5);position:absolute;'>e</div><div style='top:21.0%;left:23.0%;font-size:10pt;font-family:Andale Mono;color:rgba(115,129,140, 0.5);position:absolute;'>r</div><div style='top:22.0%;left:23.0%;font-size:10pt;font-family:Andale Mono;color:rgba(115,129,140, 0.5);position:absolute;'>r</div><div style='top:23.0%;left:23.0%;font-size:10pt;font-family:Andale Mono;color:rgba(115,129,140, 0.5);position:absolute;'>a</div><div style='top:22.0%;left:22.0%;font-size:10pt;font-family:Andale Mono;color:rgba(115,129,140, 0.625);position:absolute;'>L</div><div style='top:22.0%;left:17.0%;font-size:10pt;font-family:Andale Mono;color:rgba(115,129,140, 0.625);position:absolute;'>a</div><div style='top:21.0%;left:16.0%;font-size:10pt;font-family:Andale Mono;color:rgba(115,129,140, 0.75);position:absolute;'>s</div><div style='top:18.5%;left:16.0%;font-size:10pt;font-family:Andale Mono;color:rgba(115,129,140, 0.75);position:absolute;'>a</div><div style='top:16.0%;left:16.0%;font-size:10pt;font-family:Andale Mono;color:rgba(115,129,140, 0.75);position:absolute;'>l</div><div style='top:21.0%;left:21.0%;font-size:10pt;font-family:Andale Mono;color:rgba(115,129,140, 0.5);position:absolute;'>d</div><div style='top:21.0%;left:26.0%;font-size:10pt;font-family:Andale Mono;color:rgba(115,129,140, 0.5);position:absolute;'>e</div><div style='top:20.0%;left:25.0%;font-size:10pt;font-family:Andale Mono;color:rgba(115,129,140, 0.625);position:absolute;'>t</div><div style='top:21.0%;left:25.0%;font-size:10pt;font-family:Andale Mono;color:rgba(115,129,140, 0.625);position:absolute;'>i</div><div style='top:22.0%;left:25.0%;font-size:10pt;font-family:Andale Mono;color:rgba(115,129,140, 0.625);position:absolute;'>e</div><div style='top:23.0%;left:25.0%;font-size:10pt;font-family:Andale Mono;color:rgba(115,129,140, 0.625);position:absolute;'>r</div><div style='top:24.0%;left:25.0%;font-size:10pt;font-family:Andale Mono;color:rgba(115,129,140, 0.625);position:absolute;'>r</div><div style='top:25.0%;left:25.0%;font-size:10pt;font-family:Andale Mono;color:rgba(115,129,140, 0.625);position:absolute;'>a</div><div style='top:24.0%;left:24.0%;font-size:10pt;font-family:Andale Mono;color:rgba(115,129,140, 0.75);position:absolute;'>L</div><div style='top:24.0%;left:19.0%;font-size:10pt;font-family:Andale Mono;color:rgba(115,129,140, 0.75);position:absolute;'>a</div><div style='top:23.0%;left:18.0%;font-size:10pt;font-family:Andale Mono;color:rgba(115,129,140, 0.875);position:absolute;'>s</div><div style='top:20.5%;left:18.0%;font-size:10pt;font-family:Andale Mono;color:rgba(115,129,140, 0.875);position:absolute;'>a</div><div style='top:18.0%;left:18.0%;font-size:10pt;font-family:Andale Mono;color:rgba(115,129,140, 0.875);position:absolute;'>l</div>\n",
       "</body>\n",
       "</html>\n"
      ],
      "text/plain": [
       "<IPython.core.display.HTML object>"
      ]
     },
     "metadata": {
      "isolated": true
     },
     "output_type": "display_data"
    }
   ],
   "source": [
    "parts = ['de', 'tierra', 'La', 'sal']\n",
    "divs = []\n",
    "for k in range(5):\n",
    "    polygon = [(k*2, k*2), (k*2+5, k*2), (5+k*2, 5+k*2), (k*2, 5+k*2), (k*2, k*2)]\n",
    "    for i in range(len(polygon)-1):\n",
    "        side_text = parts[i]\n",
    "        pts = interp(polygon[i], polygon[i+1], n=len(side_text))\n",
    "        for j in range(len(pts)):\n",
    "            ch = side_text[j]\n",
    "            pt = pts[j]\n",
    "            this_div = mkdiv(ch,\n",
    "                         top=f\"{pt[1]-i+13}%\",\n",
    "                         left=f\"{pt[0]-i+13}%\",\n",
    "                         font_size=\"10pt\",\n",
    "                         font_family=\"Andale Mono\",\n",
    "                        # transform=f\"translate({-i*5}%, {-i*5}%)\",\n",
    "                         color=f\"rgba(115,129,140, {(k+i)/8})\")\n",
    "            divs.append(this_div)\n",
    "\n",
    "html_src = html_tmpl.format(title=\"salt8\", content=\"\".join(divs))\n",
    "show_html(html_src)"
   ]
  },
  {
   "cell_type": "code",
   "execution_count": 60,
   "id": "fd9a20c3",
   "metadata": {
    "scrolled": false
   },
   "outputs": [
    {
     "name": "stdout",
     "output_type": "stream",
     "text": [
      "10\n"
     ]
    },
    {
     "data": {
      "text/html": [
       "\n",
       "<DOCTYPE html>\n",
       "<html lang=\"en\">\n",
       "<head>\n",
       "    <meta charset=\"utf-8\">\n",
       "    <title>salt9</title>\n",
       "    <style>\n",
       "    html {min-height: 32em; overflow: hidden;}\n",
       "    </style>\n",
       "<body>\n",
       "<div style='top:50.0vh;left:68.0vh;font-family:Courier New;color:rgba(115,129,140);position:absolute;'>l</div><div style='top:50.0vh;left:76.0vh;font-family:Courier New;color:rgba(115,129,140);position:absolute;'>i</div><div style='top:50.0vh;left:84.0vh;font-family:Courier New;color:rgba(115,129,140);position:absolute;'>k</div><div style='top:50.0vh;left:92.0vh;font-family:Courier New;color:rgba(115,129,140);position:absolute;'>e</div><div style='top:56.156362579862034vh;left:66.91446717414635vh;font-family:Courier New;color:rgba(115,129,140);position:absolute;'>a</div><div style='top:61.57017697435771vh;left:63.788799976141604vh;font-family:Courier New;color:rgba(115,129,140);position:absolute;'>g</div><div style='top:65.68401767635156vh;left:68.69148441210307vh;font-family:Courier New;color:rgba(115,129,140);position:absolute;'>r</div><div style='top:69.79785837834541vh;left:73.59416884806453vh;font-family:Courier New;color:rgba(115,129,140);position:absolute;'>a</div><div style='top:73.91169908033926vh;left:78.49685328402597vh;font-family:Courier New;color:rgba(115,129,140);position:absolute;'>i</div><div style='top:78.02553978233311vh;left:83.39953771998744vh;font-family:Courier New;color:rgba(115,129,140);position:absolute;'>n</div><div style='top:65.5884572681199vh;left:59.0vh;font-family:Courier New;color:rgba(115,129,140);position:absolute;'>o</div><div style='top:79.44486372867091vh;left:67.0vh;font-family:Courier New;color:rgba(115,129,140);position:absolute;'>f</div><div style='top:67.72653955421974vh;left:53.12566719800475vh;font-family:Courier New;color:rgba(115,129,140);position:absolute;'>s</div><div style='top:75.6050015783174vh;left:54.51485261934019vh;font-family:Courier New;color:rgba(115,129,140);position:absolute;'>a</div><div style='top:83.48346360241507vh;left:55.90403804067563vh;font-family:Courier New;color:rgba(115,129,140);position:absolute;'>l</div><div style='top:91.36192562651274vh;left:57.29322346201108vh;font-family:Courier New;color:rgba(115,129,140);position:absolute;'>t</div><div style='top:67.72653955421974vh;left:46.87433280199525vh;font-family:Courier New;color:rgba(115,129,140);position:absolute;'>s</div><div style='top:71.22807823159647vh;left:46.2569170591795vh;font-family:Courier New;color:rgba(115,129,140);position:absolute;'>e</div><div style='top:74.72961690897321vh;left:45.63950131636375vh;font-family:Courier New;color:rgba(115,129,140);position:absolute;'>n</div><div style='top:78.23115558634996vh;left:45.022085573548vh;font-family:Courier New;color:rgba(115,129,140);position:absolute;'>s</div><div style='top:81.7326942637267vh;left:44.404669830732246vh;font-family:Courier New;color:rgba(115,129,140);position:absolute;'>u</div><div style='top:85.23423294110344vh;left:43.787254087916494vh;font-family:Courier New;color:rgba(115,129,140);position:absolute;'>a</div><div style='top:88.73577161848019vh;left:43.16983834510074vh;font-family:Courier New;color:rgba(115,129,140);position:absolute;'>l</div><div style='top:92.23731029585691vh;left:42.55242260228499vh;font-family:Courier New;color:rgba(115,129,140);position:absolute;'>l</div><div style='top:95.73884897323366vh;left:41.93500685946924vh;font-family:Courier New;color:rgba(115,129,140);position:absolute;'>y</div><div style='top:65.5884572681199vh;left:41.0vh;font-family:Courier New;color:rgba(115,129,140);position:absolute;'>a</div><div style='top:68.6676587037979vh;left:39.22222222222222vh;font-family:Courier New;color:rgba(115,129,140);position:absolute;'>f</div><div style='top:71.7468601394759vh;left:37.44444444444445vh;font-family:Courier New;color:rgba(115,129,140);position:absolute;'>f</div><div style='top:74.82606157515391vh;left:35.66666666666667vh;font-family:Courier New;color:rgba(115,129,140);position:absolute;'>l</div><div style='top:77.90526301083192vh;left:33.88888888888889vh;font-family:Courier New;color:rgba(115,129,140);position:absolute;'>i</div><div style='top:80.98446444650992vh;left:32.111111111111114vh;font-family:Courier New;color:rgba(115,129,140);position:absolute;'>a</div><div style='top:84.06366588218792vh;left:30.33333333333334vh;font-family:Courier New;color:rgba(115,129,140);position:absolute;'>t</div><div style='top:87.14286731786594vh;left:28.555555555555564vh;font-family:Courier New;color:rgba(115,129,140);position:absolute;'>e</div><div style='top:90.22206875354394vh;left:26.77777777777779vh;font-family:Courier New;color:rgba(115,129,140);position:absolute;'>d</div><div style='top:61.57017697435771vh;left:36.211200023858396vh;font-family:Courier New;color:rgba(115,129,140);position:absolute;'>w</div><div style='top:66.71247785185002vh;left:30.082844478906573vh;font-family:Courier New;color:rgba(115,129,140);position:absolute;'>i</div><div style='top:71.85477872934234vh;left:23.95448893395475vh;font-family:Courier New;color:rgba(115,129,140);position:absolute;'>t</div><div style='top:76.99707960683466vh;left:17.826133389002926vh;font-family:Courier New;color:rgba(115,129,140);position:absolute;'>h</div><div style='top:56.15636257986204vh;left:33.08553282585365vh;font-family:Courier New;color:rgba(115,129,140);position:absolute;'>m</div><div style='top:58.34529149714632vh;left:27.071500052823836vh;font-family:Courier New;color:rgba(115,129,140);position:absolute;'>o</div><div style='top:60.53422041443059vh;left:21.05746727979402vh;font-family:Courier New;color:rgba(115,129,140);position:absolute;'>i</div><div style='top:62.72314933171488vh;left:15.04343450676421vh;font-family:Courier New;color:rgba(115,129,140);position:absolute;'>s</div><div style='top:64.91207824899915vh;left:9.029401733734396vh;font-family:Courier New;color:rgba(115,129,140);position:absolute;'>t</div><div style='top:50.0vh;left:32.0vh;font-family:Courier New;color:rgba(115,129,140);position:absolute;'>i</div><div style='top:50.0vh;left:16.0vh;font-family:Courier New;color:rgba(115,129,140);position:absolute;'>n</div><div style='top:43.843637420137966vh;left:33.08553282585365vh;font-family:Courier New;color:rgba(115,129,140);position:absolute;'>t</div><div style='top:40.1954225579975vh;left:23.06214487080396vh;font-family:Courier New;color:rgba(115,129,140);position:absolute;'>h</div><div style='top:36.54720769585703vh;left:13.038756915754268vh;font-family:Courier New;color:rgba(115,129,140);position:absolute;'>e</div><div style='top:38.42982302564229vh;left:36.211200023858396vh;font-family:Courier New;color:rgba(115,129,140);position:absolute;'>a</div><div style='top:31.57342185565254vh;left:28.040059297255965vh;font-family:Courier New;color:rgba(115,129,140);position:absolute;'>i</div><div style='top:24.71702068566279vh;left:19.86891857065353vh;font-family:Courier New;color:rgba(115,129,140);position:absolute;'>r</div><div style='top:34.41154273188011vh;left:40.99999999999999vh;font-family:Courier New;color:rgba(115,129,140);position:absolute;'>d</div><div style='top:30.947441116742358vh;left:38.99999999999999vh;font-family:Courier New;color:rgba(115,129,140);position:absolute;'>i</div><div style='top:27.483339501604604vh;left:36.999999999999986vh;font-family:Courier New;color:rgba(115,129,140);position:absolute;'>s</div><div style='top:24.01923788646685vh;left:34.999999999999986vh;font-family:Courier New;color:rgba(115,129,140);position:absolute;'>s</div><div style='top:20.555136271329097vh;left:32.999999999999986vh;font-family:Courier New;color:rgba(115,129,140);position:absolute;'>o</div><div style='top:17.091034656191344vh;left:30.999999999999982vh;font-family:Courier New;color:rgba(115,129,140);position:absolute;'>l</div><div style='top:13.62693304105359vh;left:28.999999999999986vh;font-family:Courier New;color:rgba(115,129,140);position:absolute;'>v</div><div style='top:10.162831425915837vh;left:26.999999999999982vh;font-family:Courier New;color:rgba(115,129,140);position:absolute;'>e</div><div style='top:32.27346044578026vh;left:46.87433280199525vh;font-family:Courier New;color:rgba(115,129,140);position:absolute;'>i</div><div style='top:24.394998421682594vh;left:45.48514738065981vh;font-family:Courier New;color:rgba(115,129,140);position:absolute;'>n</div><div style='top:16.51653639758493vh;left:44.09596195932437vh;font-family:Courier New;color:rgba(115,129,140);position:absolute;'>t</div><div style='top:8.638074373487264vh;left:42.70677653798892vh;font-family:Courier New;color:rgba(115,129,140);position:absolute;'>o</div><div style='top:32.27346044578025vh;left:53.12566719800474vh;font-family:Courier New;color:rgba(115,129,140);position:absolute;'>s</div><div style='top:24.394998421682587vh;left:54.514852619340175vh;font-family:Courier New;color:rgba(115,129,140);position:absolute;'>k</div><div style='top:16.51653639758492vh;left:55.904038040675616vh;font-family:Courier New;color:rgba(115,129,140);position:absolute;'>i</div><div style='top:8.638074373487257vh;left:57.293223462011056vh;font-family:Courier New;color:rgba(115,129,140);position:absolute;'>n</div><div style='top:34.411542731880104vh;left:59.0vh;font-family:Courier New;color:rgba(115,129,140);position:absolute;'>d</div><div style='top:31.6402614397699vh;left:60.6vh;font-family:Courier New;color:rgba(115,129,140);position:absolute;'>e</div><div style='top:28.8689801476597vh;left:62.2vh;font-family:Courier New;color:rgba(115,129,140);position:absolute;'>l</div><div style='top:26.097698855549492vh;left:63.8vh;font-family:Courier New;color:rgba(115,129,140);position:absolute;'>i</div><div style='top:23.32641756343929vh;left:65.4vh;font-family:Courier New;color:rgba(115,129,140);position:absolute;'>q</div><div style='top:20.555136271329086vh;left:67.0vh;font-family:Courier New;color:rgba(115,129,140);position:absolute;'>u</div><div style='top:17.783854979218884vh;left:68.6vh;font-family:Courier New;color:rgba(115,129,140);position:absolute;'>e</div><div style='top:15.01257368710868vh;left:70.2vh;font-family:Courier New;color:rgba(115,129,140);position:absolute;'>s</div><div style='top:12.241292394998474vh;left:71.8vh;font-family:Courier New;color:rgba(115,129,140);position:absolute;'>c</div><div style='top:9.470011102888272vh;left:73.4vh;font-family:Courier New;color:rgba(115,129,140);position:absolute;'>e</div><div style='top:38.429823025642285vh;left:63.788799976141604vh;font-family:Courier New;color:rgba(115,129,140);position:absolute;'>a</div><div style='top:33.28752214814997vh;left:69.91715552109343vh;font-family:Courier New;color:rgba(115,129,140);position:absolute;'>r</div><div style='top:28.145221270657654vh;left:76.04551106604525vh;font-family:Courier New;color:rgba(115,129,140);position:absolute;'>i</div><div style='top:23.00292039316534vh;left:82.17386661099707vh;font-family:Courier New;color:rgba(115,129,140);position:absolute;'>d</div><div style='top:43.84363742013795vh;left:66.91446717414635vh;font-family:Courier New;color:rgba(115,129,140);position:absolute;'>m</div><div style='top:41.1074762735326vh;left:74.43200814043362vh;font-family:Courier New;color:rgba(115,129,140);position:absolute;'>i</div><div style='top:38.37131512692724vh;left:81.94954910672088vh;font-family:Courier New;color:rgba(115,129,140);position:absolute;'>n</div><div style='top:35.63515398032189vh;left:89.46709007300814vh;font-family:Courier New;color:rgba(115,129,140);position:absolute;'>d</div>\n",
       "</body>\n",
       "</html>\n"
      ],
      "text/plain": [
       "<IPython.core.display.HTML object>"
      ]
     },
     "metadata": {
      "isolated": true
     },
     "output_type": "display_data"
    }
   ],
   "source": [
    "longest = max([len(w) for w in words])\n",
    "print(longest)\n",
    "divs = []\n",
    "for i, word in enumerate(words):\n",
    "    # step around a circle (math.tau = 2*pi = 360 degrees)\n",
    "    theta = (math.tau / len(words)) * i\n",
    "    # inner coord\n",
    "    x1 = 50 + math.cos(theta) * 18\n",
    "    y1 = 50 + math.sin(theta) * 18\n",
    "    # outer coord\n",
    "    x2 = 50 + math.cos(theta) * 50\n",
    "    y2 = 50 + math.sin(theta) * 50\n",
    "    pts = interp((x1, y1), (x2, y2), len(word)+1)\n",
    "    for j, ch in enumerate(word):\n",
    "        this_div = mkdiv(ch,\n",
    "                         top=f\"{pts[j][1]}vh\",\n",
    "                         left=f\"{pts[j][0]}vh\",\n",
    "                         font_family=\"Courier New\",\n",
    "                         color=f\"rgba(115,129,140)\")\n",
    "        divs.append(this_div)\n",
    "html_src = html_tmpl.format(title=\"salt9\", content=\"\".join(divs))\n",
    "show_html(html_src)"
   ]
  },
  {
   "cell_type": "code",
   "execution_count": 61,
   "id": "6c04ebab",
   "metadata": {
    "scrolled": false
   },
   "outputs": [
    {
     "data": {
      "text/html": [
       "\n",
       "<DOCTYPE html>\n",
       "<html lang=\"en\">\n",
       "<head>\n",
       "    <meta charset=\"utf-8\">\n",
       "    <title>centered</title>\n",
       "    <style>\n",
       "    html {min-height: 32em; overflow: hidden;}\n",
       "    </style>\n",
       "<body>\n",
       "<div style='top:50%;left:30%;transform:translate(-20%, -20%) rotate(0.0deg);font-size:30pt;font-family:Courier New;color:rgba(115,129,140, 0.0);position:absolute;'>like a grain of salt</div><div style='top:50%;left:30%;transform:translate(-20%, -20%) rotate(1.0deg);font-size:30pt;font-family:Courier New;color:rgba(115,129,140, 0.016666666666666666);position:absolute;'>like a grain of salt</div><div style='top:50%;left:30%;transform:translate(-20%, -20%) rotate(2.0deg);font-size:30pt;font-family:Courier New;color:rgba(115,129,140, 0.03333333333333333);position:absolute;'>like a grain of salt</div><div style='top:50%;left:30%;transform:translate(-20%, -20%) rotate(3.0deg);font-size:30pt;font-family:Courier New;color:rgba(115,129,140, 0.05);position:absolute;'>like a grain of salt</div><div style='top:50%;left:30%;transform:translate(-20%, -20%) rotate(4.0deg);font-size:30pt;font-family:Courier New;color:rgba(115,129,140, 0.06666666666666667);position:absolute;'>like a grain of salt</div><div style='top:50%;left:30%;transform:translate(-20%, -20%) rotate(5.0deg);font-size:30pt;font-family:Courier New;color:rgba(115,129,140, 0.08333333333333333);position:absolute;'>like a grain of salt</div><div style='top:50%;left:30%;transform:translate(-20%, -20%) rotate(6.0deg);font-size:30pt;font-family:Courier New;color:rgba(115,129,140, 0.1);position:absolute;'>like a grain of salt</div><div style='top:50%;left:30%;transform:translate(-20%, -20%) rotate(7.0deg);font-size:30pt;font-family:Courier New;color:rgba(115,129,140, 0.11666666666666667);position:absolute;'>like a grain of salt</div><div style='top:50%;left:30%;transform:translate(-20%, -20%) rotate(8.0deg);font-size:30pt;font-family:Courier New;color:rgba(115,129,140, 0.13333333333333333);position:absolute;'>like a grain of salt</div><div style='top:50%;left:30%;transform:translate(-20%, -20%) rotate(9.0deg);font-size:30pt;font-family:Courier New;color:rgba(115,129,140, 0.15);position:absolute;'>like a grain of salt</div>\n",
       "</body>\n",
       "</html>\n"
      ],
      "text/plain": [
       "<IPython.core.display.HTML object>"
      ]
     },
     "metadata": {
      "isolated": true
     },
     "output_type": "display_data"
    }
   ],
   "source": [
    "divs = []\n",
    "longest = max([len(w) for w in words])\n",
    "n = 10\n",
    "for i in range(n):\n",
    "    degrees = i * (10 / n)\n",
    "    alpha = degrees/60\n",
    "    this_div = mkdiv(\"like a grain of salt\",\n",
    "                      top=\"50%\",\n",
    "                      left=\"30%\",\n",
    "                      transform=f\"translate(-20%, -20%) rotate({degrees}deg)\",\n",
    "                      font_size =\"30pt\",\n",
    "                      font_family = \"Courier New\",\n",
    "                      color=f\"rgba(115,129,140, {alpha})\"\n",
    "                     )\n",
    "    divs.append(this_div)\n",
    "html_src = html_tmpl.format(title=\"centered\", content=\"\".join(divs))\n",
    "show_html(html_src)"
   ]
  },
  {
   "cell_type": "code",
   "execution_count": 62,
   "id": "521db2a8",
   "metadata": {},
   "outputs": [
    {
     "data": {
      "text/html": [
       "\n",
       "<DOCTYPE html>\n",
       "<html lang=\"en\">\n",
       "<head>\n",
       "    <meta charset=\"utf-8\">\n",
       "    <title>frost spiral</title>\n",
       "    <style>\n",
       "    html {min-height: 32em; overflow: hidden;}\n",
       "    </style>\n",
       "<body>\n",
       "<div style='top:50%;left:50%;height:12pt;font-size:12pt;border:1mm dotted rgba(205, 209, 204, 0.3);border-right-style:none;border-bottom-style:none;color:rgba(115,129,140);transform:translate(-50%, -50%) rotate(0deg);position:absolute;'>like</div><div style='top:50%;left:50%;height:32pt;font-size:12pt;border:1mm dotted rgba(205, 209, 204, 0.3);border-right-style:none;border-bottom-style:none;color:rgba(115,129,140);transform:translate(-50%, -50%) rotate(30deg);position:absolute;'>a</div><div style='top:50%;left:50%;height:52pt;font-size:12pt;border:1mm dotted rgba(205, 209, 204, 0.3);border-right-style:none;border-bottom-style:none;color:rgba(115,129,140);transform:translate(-50%, -50%) rotate(60deg);position:absolute;'>grain</div><div style='top:50%;left:50%;height:72pt;font-size:12pt;border:1mm dotted rgba(205, 209, 204, 0.3);border-right-style:none;border-bottom-style:none;color:rgba(115,129,140);transform:translate(-50%, -50%) rotate(90deg);position:absolute;'>of</div><div style='top:50%;left:50%;height:92pt;font-size:12pt;border:1mm dotted rgba(205, 209, 204, 0.3);border-right-style:none;border-bottom-style:none;color:rgba(115,129,140);transform:translate(-50%, -50%) rotate(120deg);position:absolute;'>salt</div><div style='top:50%;left:50%;height:112pt;font-size:12pt;border:1mm dotted rgba(205, 209, 204, 0.3);border-right-style:none;border-bottom-style:none;color:rgba(115,129,140);transform:translate(-50%, -50%) rotate(150deg);position:absolute;'>sensually</div><div style='top:50%;left:50%;height:132pt;font-size:12pt;border:1mm dotted rgba(205, 209, 204, 0.3);border-right-style:none;border-bottom-style:none;color:rgba(115,129,140);transform:translate(-50%, -50%) rotate(180deg);position:absolute;'>affliated</div><div style='top:50%;left:50%;height:152pt;font-size:12pt;border:1mm dotted rgba(205, 209, 204, 0.3);border-right-style:none;border-bottom-style:none;color:rgba(115,129,140);transform:translate(-50%, -50%) rotate(210deg);position:absolute;'>with</div><div style='top:50%;left:50%;height:172pt;font-size:12pt;border:1mm dotted rgba(205, 209, 204, 0.3);border-right-style:none;border-bottom-style:none;color:rgba(115,129,140);transform:translate(-50%, -50%) rotate(240deg);position:absolute;'>moist</div><div style='top:50%;left:50%;height:192pt;font-size:12pt;border:1mm dotted rgba(205, 209, 204, 0.3);border-right-style:none;border-bottom-style:none;color:rgba(115,129,140);transform:translate(-50%, -50%) rotate(270deg);position:absolute;'>in</div><div style='top:50%;left:50%;height:212pt;font-size:12pt;border:1mm dotted rgba(205, 209, 204, 0.3);border-right-style:none;border-bottom-style:none;color:rgba(115,129,140);transform:translate(-50%, -50%) rotate(300deg);position:absolute;'>the</div><div style='top:50%;left:50%;height:232pt;font-size:12pt;border:1mm dotted rgba(205, 209, 204, 0.3);border-right-style:none;border-bottom-style:none;color:rgba(115,129,140);transform:translate(-50%, -50%) rotate(330deg);position:absolute;'>air</div><div style='top:50%;left:50%;height:252pt;font-size:12pt;border:1mm dotted rgba(205, 209, 204, 0.3);border-right-style:none;border-bottom-style:none;color:rgba(115,129,140);transform:translate(-50%, -50%) rotate(360deg);position:absolute;'>dissolve</div><div style='top:50%;left:50%;height:272pt;font-size:12pt;border:1mm dotted rgba(205, 209, 204, 0.3);border-right-style:none;border-bottom-style:none;color:rgba(115,129,140);transform:translate(-50%, -50%) rotate(390deg);position:absolute;'>into</div><div style='top:50%;left:50%;height:292pt;font-size:12pt;border:1mm dotted rgba(205, 209, 204, 0.3);border-right-style:none;border-bottom-style:none;color:rgba(115,129,140);transform:translate(-50%, -50%) rotate(420deg);position:absolute;'>skin</div><div style='top:50%;left:50%;height:312pt;font-size:12pt;border:1mm dotted rgba(205, 209, 204, 0.3);border-right-style:none;border-bottom-style:none;color:rgba(115,129,140);transform:translate(-50%, -50%) rotate(450deg);position:absolute;'>deliquesce</div><div style='top:50%;left:50%;height:332pt;font-size:12pt;border:1mm dotted rgba(205, 209, 204, 0.3);border-right-style:none;border-bottom-style:none;color:rgba(115,129,140);transform:translate(-50%, -50%) rotate(480deg);position:absolute;'>arid</div><div style='top:50%;left:50%;height:352pt;font-size:12pt;border:1mm dotted rgba(205, 209, 204, 0.3);border-right-style:none;border-bottom-style:none;color:rgba(115,129,140);transform:translate(-50%, -50%) rotate(510deg);position:absolute;'>mind</div>\n",
       "</body>\n",
       "</html>\n"
      ],
      "text/plain": [
       "<IPython.core.display.HTML object>"
      ]
     },
     "metadata": {
      "isolated": true
     },
     "output_type": "display_data"
    }
   ],
   "source": [
    "divs = []\n",
    "angle_step = 30\n",
    "for i, word in enumerate(words):\n",
    "    angle = i * angle_step\n",
    "    this_div = mkdiv(word,\n",
    "                     top=f\"{50}%\",\n",
    "                     left=f\"{50}%\",\n",
    "                     height=f\"{12+i*20}pt\",\n",
    "                     font_size=\"12pt\",\n",
    "                     #border=\"1px black solid\", # uncomment to see the boxes\n",
    "                     border = \"1mm dotted rgba(205, 209, 204, 0.3)\",\n",
    "                     border_right_style = \"none\",\n",
    "                     #border_top_style = \"none\",\n",
    "                     border_bottom_style = \"none\",\n",
    "                     color=f\"rgba(115,129,140)\",\n",
    "                     transform=f\"translate(-50%, -50%) rotate({angle}deg)\")\n",
    "    divs.append(this_div)\n",
    "html_src = html_tmpl.format(title=\"frost spiral\", content=\"\".join(divs))\n",
    "show_html(html_src)"
   ]
  }
 ],
 "metadata": {
  "kernelspec": {
   "display_name": "Python 3 (ipykernel)",
   "language": "python",
   "name": "python3"
  },
  "language_info": {
   "codemirror_mode": {
    "name": "ipython",
    "version": 3
   },
   "file_extension": ".py",
   "mimetype": "text/x-python",
   "name": "python",
   "nbconvert_exporter": "python",
   "pygments_lexer": "ipython3",
   "version": "3.9.13"
  }
 },
 "nbformat": 4,
 "nbformat_minor": 5
}
